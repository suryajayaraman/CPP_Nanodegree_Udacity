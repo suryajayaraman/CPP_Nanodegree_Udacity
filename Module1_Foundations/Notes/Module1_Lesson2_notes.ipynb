{
 "cells": [
  {
   "cell_type": "markdown",
   "metadata": {},
   "source": [
    "# Module1 Lesson2"
   ]
  },
  {
   "cell_type": "markdown",
   "metadata": {},
   "source": [
    "1. C++ started out as C with classes (tpyically strong types)\n",
    "2. Modern C++ is more advanced and complex\n",
    "3. Direct memory handling but effective abstraction\n",
    "3. C++11, C++17 major updates to the languages\n",
    "\tsemantics, smart pointers, new keyword etc\n",
    "4. C++14, C++20 minor updates\n",
    "5. C++ core guidelines, Google C++ coding style are some standards used\n",
    "6. VSCode supports C++ core guidelines\n",
    "7. Use std libraries as much as possible"
   ]
  },
  {
   "cell_type": "code",
   "execution_count": null,
   "metadata": {},
   "outputs": [],
   "source": [
    "#include <iostream>\n",
    "using std::cout;\n",
    "\n",
    "int main() {\n",
    "    cout << \"Hello!\" << \"\\n\";   \n",
    "}\n",
    "\n",
    "/*\n",
    "1. The #include is a preprocessor command which is executed before the code \n",
    "is compiled. It searches for the iostream header file and pastes its contents \n",
    "into the program. iostream contains the declarations for the input/output stream objects.\n",
    "\n",
    "2. using std:: cout means the implementation of cout in std is used and referred hereafter in\n",
    "the code. eg: there can be many implementations of the same feature in different libraries.\n",
    "This explicitly specifies which one we're going to use.\n",
    "*/"
   ]
  },
  {
   "cell_type": "markdown",
   "metadata": {},
   "source": [
    "# Variables\n",
    "In C++, once a variable has been declared, it can not be redeclared in the same scope.\n",
    "This means that if you try to declare a variable twice in the same function, you will see an error."
   ]
  },
  {
   "cell_type": "markdown",
   "metadata": {},
   "source": [
    "# Vectors\n",
    "Vectors are a sequence of elements of a single type, and have useful methods for getting \n",
    "the size, testing if the vector is empty, and adding elements to the vector."
   ]
  },
  {
   "cell_type": "code",
   "execution_count": null,
   "metadata": {},
   "outputs": [],
   "source": [
    "#include <iostream>\n",
    "#include <vector>\n",
    "using std::vector;\n",
    "using std::cout;\n",
    "\n",
    "int main() {\n",
    "    // Creating a 2D vector.\n",
    "    vector<vector<int>> v {{1,2}, {3,4}};\n",
    "    cout << \"Great! A 2D vector has been created.\" << \"\\n\";\n",
    "}"
   ]
  },
  {
   "cell_type": "code",
   "execution_count": null,
   "metadata": {},
   "outputs": [],
   "source": [
    "#include <iostream>\n",
    "#include <vector>\n",
    "using std::vector;\n",
    "using std::cout;\n",
    "\n",
    "int main() {\n",
    "    vector<int> v {1,2};\n",
    "    cout << v[10];\n",
    "}\n",
    "\n",
    "/*\n",
    "Doesnt throw error, but behaviour is undefined */"
   ]
  },
  {
   "cell_type": "markdown",
   "metadata": {
    "graffitiCellId": "id_jivhlnf"
   },
   "source": [
    "## Using `auto`\n",
    "\n",
    "In your previous code, the type for each variable was explicitly declared. In general, this is not necessary, and the compiler can determine the type based on the value being assigned. To have the type automatically determined, use the `auto` keyword. You can test this by executing the cell below:"
   ]
  },
  {
   "cell_type": "code",
   "execution_count": null,
   "metadata": {
    "graffitiCellId": "id_gqunxrt",
    "graffitiConfig": {
     "executeCellViaGraffiti": "sncbyc3_2dv9dig"
    }
   },
   "outputs": [],
   "source": [
    "#include <iostream>\n",
    "#include <vector>\n",
    "using std::vector;\n",
    "using std::cout;\n",
    "\n",
    "int main() {\n",
    "    auto i = 5;\n",
    "    auto v_6 = {1, 2, 3};\n",
    "    cout << \"Variables declared and initialized without explicitly stating type!\" << \"\\n\";\n",
    "}"
   ]
  },
  {
   "cell_type": "markdown",
   "metadata": {
    "graffitiCellId": "id_3uyhatw"
   },
   "source": [
    "It is helpful to manually declare the type of a variable if you want the variable type to be clear for reader of your code, or if you want to be explicit about the number precision being used; C++ has several number types with different levels of precision, and this precision might not be clear from the value being assigned.\n",
    "\n",
    "### Practice\n",
    "\n",
    "Practice using `auto` to declare and initialize a vector `v` with the value `{7, 8, 9, 10}`. If you have trouble, **click here** for help."
   ]
  },
  {
   "cell_type": "code",
   "execution_count": null,
   "metadata": {
    "graffitiCellId": "id_mea01kd",
    "graffitiConfig": {
     "executeCellViaGraffiti": "0kha04l_0o02q6z"
    }
   },
   "outputs": [],
   "source": [
    "#include <iostream>\n",
    "#include <vector>\n",
    "using std::vector;\n",
    "using std::cout;\n",
    "\n",
    "int main() {\n",
    "    // Declare and initialize v using auto here.\n",
    "    auto v = {7,8,9,10};\n",
    "    cout << \"Done\" << \"\\n\";\n",
    "}\n",
    "\n",
    "/* = sign is needed when assigning auto keyword vector */"
   ]
  },
  {
   "cell_type": "markdown",
   "metadata": {
    "graffitiCellId": "id_fk9y9bq"
   },
   "source": [
    "## 1D Vector Access\n",
    "\n",
    "To begin, it is helpful to know how to access vector elements of an existing vector. Execute the cells below to see how this can be done:"
   ]
  },
  {
   "cell_type": "markdown",
   "metadata": {
    "graffitiCellId": "id_n53crjg"
   },
   "source": [
    "If you tried to access the elements of `a` using an out-of-bound index, you might have noticed that there is no error or exception thrown. If you haven't seen this already, try the following code in the cell above to see what happens:\n",
    "```\n",
    "cout << a[10];\n",
    "```"
   ]
  },
  {
   "cell_type": "markdown",
   "metadata": {
    "graffitiCellId": "id_otxcjw2"
   },
   "source": [
    "In this case, *the behavior is undefined*, so you can not depend on a certain value to be returned. Be careful about this! In a later lesson where you will learn about exceptions, we will discuss other ways to access vector elements that don't fail silently with out-of-range indices.\n",
    "\n",
    "## 2D Vector Access\n",
    "\n",
    "In the previous exercise, you stored a 2D vector - a `vector<vector<int>>`. The syntax for accessing elements of a 2D vector is very similar to accessing in a 1D vector. In the second cell below, try accessing an element of `b`. If you get stuck, click the solution button for help."
   ]
  },
  {
   "cell_type": "code",
   "execution_count": null,
   "metadata": {
    "graffitiCellId": "id_e6jn5p4",
    "graffitiConfig": {
     "executeCellViaGraffiti": "2ulwnxb_ljxwvgc"
    }
   },
   "outputs": [],
   "source": [
    "#include <iostream>\n",
    "#include <vector>\n",
    "using std::vector;\n",
    "using std::cout;\n",
    "\n",
    "int main() {\n",
    "    vector<vector<int>> b = {{1, 1, 2, 3},\n",
    "                             {2, 1, 2, 3},\n",
    "                             {3, 1, 2, 3}};\n",
    "    for(int i=0; i < b.size(); i++){\n",
    "        for(int j =0; j<b[0].size(); j++){\n",
    "            cout << b[i][j];\n",
    "        }\n",
    "    }\n",
    "}"
   ]
  },
  {
   "cell_type": "markdown",
   "metadata": {
    "graffitiCellId": "id_jnurl8n"
   },
   "source": [
    "## Getting a Vector's Length\n",
    "\n",
    "### 1D Vector Length\n",
    "\n",
    "One method of a `vector` object that will be useful in the next code exercise is the `.size()` method. This returns the length of the vector. Execute the cell below to see how this can be used:"
   ]
  },
  {
   "cell_type": "code",
   "execution_count": null,
   "metadata": {
    "graffitiCellId": "id_49xczwr",
    "graffitiConfig": {
     "executeCellViaGraffiti": "nuupied_43kpo9r"
    }
   },
   "outputs": [],
   "source": [
    "#include <iostream>\n",
    "#include <vector>\n",
    "using std::vector;\n",
    "using std::cout;\n",
    "\n",
    "int main() {\n",
    "    vector<int> a = {0, 1, 2, 3, 4};\n",
    "    \n",
    "    // Print the length of vector a to the console.\n",
    "    cout << a.size() << \"\\n\";\n",
    "}"
   ]
  },
  {
   "cell_type": "markdown",
   "metadata": {
    "graffitiCellId": "id_apst2ip"
   },
   "source": [
    "### 2D Vector Length\n",
    "\n",
    "For the `vector<vector<int>>` `b` defined above, try to get the size of one of the inner vectors - this should be 4. If you have trouble, click the button below for some help."
   ]
  },
  {
   "cell_type": "code",
   "execution_count": null,
   "metadata": {
    "graffitiCellId": "id_emicf3f",
    "graffitiConfig": {
     "executeCellViaGraffiti": "rnq0nee_pz6y5de"
    }
   },
   "outputs": [],
   "source": [
    "#include <iostream>\n",
    "#include <vector>\n",
    "using std::vector;\n",
    "using std::cout;\n",
    "\n",
    "int main() {\n",
    "\n",
    "    vector<vector<int>> b = {{1, 1, 2, 3},\n",
    "                             {2, 1, 2, 3},\n",
    "                             {3, 1, 2, 3}};\n",
    "    cout << b[0].size() << \"\\n\";\n",
    "    // Print the length of an inner vector of b here.\n",
    "\n",
    "}"
   ]
  },
  {
   "cell_type": "markdown",
   "metadata": {
    "graffitiCellId": "id_6kw0o7t"
   },
   "source": [
    "## For Loop with an Index Variable"
   ]
  },
  {
   "cell_type": "code",
   "execution_count": null,
   "metadata": {
    "graffitiCellId": "id_383fc47",
    "graffitiConfig": {
     "executeCellViaGraffiti": "5gfgm4h_pikhrjh"
    }
   },
   "outputs": [],
   "source": [
    "#include <iostream>\n",
    "using std::cout;\n",
    "\n",
    "int main() {\n",
    "    for (int i=0; i < 5; i++) {\n",
    "      cout << i << \"\\n\";\n",
    "    }\n",
    "}"
   ]
  },
  {
   "cell_type": "markdown",
   "metadata": {
    "graffitiCellId": "id_6rh46ch"
   },
   "source": [
    "### The Increment Operator\n",
    "\n",
    "If you haven't seen the `++` operator before, this is the *post-increment operator*, and it is where the `++` in the name \"C++\" comes from. The operator increments the value of `i`. \n",
    "\n",
    "There is also a *pre-increment operator* which is used before a variable, as well as *pre* and *post decrement* operators: `--`. The difference between *pre* and *post* lies in what value is returned by the operator when it is used.\n",
    "\n",
    "You will only use the *post-increment operator* `i++` for now, but if you are curious, click below for an explanation of the code:"
   ]
  },
  {
   "cell_type": "code",
   "execution_count": null,
   "metadata": {
    "graffitiCellId": "id_jchnher",
    "graffitiConfig": {
     "executeCellViaGraffiti": "5tb0qej_8qh4e7h"
    }
   },
   "outputs": [],
   "source": [
    "#include <iostream>\n",
    "using std::cout;\n",
    "\n",
    "int main() {\n",
    "    auto i = 1;\n",
    "\n",
    "    // Post-increment assigns i to c and then increments i.\n",
    "    auto c = i++;\n",
    "\n",
    "    cout << \"Post-increment example:\" << \"\\n\";\n",
    "    cout << \"The value of c is: \" << c << \"\\n\"; //c = 1\n",
    "    cout << \"The value of i is: \" << i << \"\\n\"; //i = 2\n",
    "    cout << \"\\n\";\n",
    "\n",
    "    // Reset i to 1.\n",
    "    i = 1;\n",
    "\n",
    "    // Pre-increment increments i, then assigns to c.\n",
    "    c = ++i;\n",
    "\n",
    "    cout << \"Pre-increment example:\" << \"\\n\";\n",
    "    cout << \"The value of c is: \" << c << \"\\n\"; //c = 2\n",
    "    cout << \"The value of i is: \" << i << \"\\n\"; //i = 2\n",
    "    cout << \"\\n\";\n",
    "\n",
    "    // Decrement i;\n",
    "    i--;\n",
    "    cout << \"Decrement example:\" << \"\\n\";\n",
    "    cout << \"The value of i is: \" << i << \"\\n\";\n",
    "}"
   ]
  },
  {
   "cell_type": "markdown",
   "metadata": {
    "graffitiCellId": "id_ej18kho"
   },
   "source": [
    "### Practice\n",
    "Before you learn how to write a `for` loop using an iterator, practice writing a for loop that prints values from `-3` through `10` in the cell below. Don't forget to assign an initial value (like 0) to your index variable!"
   ]
  },
  {
   "cell_type": "code",
   "execution_count": null,
   "metadata": {
    "graffitiCellId": "id_k1hwy9p",
    "graffitiConfig": {
     "executeCellViaGraffiti": "qmbadzm_c0w568j"
    }
   },
   "outputs": [],
   "source": [
    "#include <iostream>\n",
    "using std::cout;\n",
    "\n",
    "int main() {\n",
    "    // Add your code here.\n",
    "    for(int i =-3; i <=10; i ++)\n",
    "        cout << i << \"\\n\";\n",
    "    \n",
    "}"
   ]
  },
  {
   "cell_type": "markdown",
   "metadata": {
    "graffitiCellId": "id_jy4mmcj"
   },
   "source": [
    "## For Loop with a Container\n",
    "\n",
    "C++ offers several ways to iterate over containers. One way is to use an index-based loop as above. Another way is using a \"range-based loop\", which you will see frequently in the rest of this course. See the following code for an example of how this works:"
   ]
  },
  {
   "cell_type": "code",
   "execution_count": null,
   "metadata": {
    "graffitiCellId": "id_mmio8fj",
    "graffitiConfig": {
     "executeCellViaGraffiti": "g8agb3x_74t3sea"
    }
   },
   "outputs": [],
   "source": [
    "#include <iostream>\n",
    "#include <vector>\n",
    "using std::cout;\n",
    "using std::vector;\n",
    "\n",
    "int main() {\n",
    "    // Add your code here.\n",
    "    vector<int> a {1, 2, 3, 4, 5};\n",
    "    for (int i: a) {\n",
    "        cout << i << \"\\n\";\n",
    "    }\n",
    "}\n",
    "\n",
    "/* assigns each eleement of vector to i and then prints i */"
   ]
  },
  {
   "cell_type": "markdown",
   "metadata": {
    "graffitiCellId": "id_u897ztr"
   },
   "source": [
    "## Functions\n",
    "\n",
    "In the cell below, there is a simple function to add two numbers and return the result. Test the code below, and click the button for a more in-depth explanation."
   ]
  },
  {
   "cell_type": "code",
   "execution_count": null,
   "metadata": {
    "graffitiCellId": "id_nmbcnev",
    "graffitiConfig": {
     "executeCellViaGraffiti": "hsqvaql_ftup8pz"
    }
   },
   "outputs": [],
   "source": [
    "#include <iostream>\n",
    "using std::cout;\n",
    "\n",
    "// Function declared and defined here.\n",
    "int AdditionFunction(int i, int j) \n",
    "{\n",
    "    return i + j;\n",
    "}\n",
    "\n",
    "int main() \n",
    "{\n",
    "    auto d = 3;\n",
    "    auto f = 7;\n",
    "    cout << AdditionFunction(d, f) << \"\\n\";\n",
    "}"
   ]
  },
  {
   "cell_type": "markdown",
   "metadata": {
    "graffitiCellId": "id_6wrb742"
   },
   "source": [
    "### Practice\n",
    "\n",
    "Now that you've seen how to define and call a function, try this yourself in the cell below with a slightly more complicated example. Your function should accept a `vector` of `int`s as its argument and return the sum of all the `int`s in the vector. If you get stuck, click the solution button for help."
   ]
  },
  {
   "cell_type": "code",
   "execution_count": null,
   "metadata": {
    "graffitiCellId": "id_5ieplmp",
    "graffitiConfig": {
     "executeCellViaGraffiti": "it918co_jw76vce"
    }
   },
   "outputs": [],
   "source": [
    "#include <iostream>\n",
    "#include <vector>\n",
    "using std::cout;\n",
    "using std::vector;\n",
    "\n",
    "// Define a function \"AdditionFunction\" here.\n",
    "// Instead of just two ints, this function should accept a vector<int> \n",
    "// as the argument, and it should return the sum of all the ints in the vector.\n",
    "int AdditionFunction(vector<int> v) \n",
    "{\n",
    "    int sum =0;\n",
    "    for(auto el:v){\n",
    "        sum+=el;\n",
    "    }\n",
    "    return sum;\n",
    "}\n",
    "\n",
    "\n",
    "int main() \n",
    "{\n",
    "    vector<int> v {1, 2, 3};\n",
    "    \n",
    "    // Uncomment the following line to call your function:\n",
    "    cout << AdditionFunction(v) << \"\\n\";\n",
    "}"
   ]
  },
  {
   "cell_type": "markdown",
   "metadata": {
    "graffitiCellId": "id_zzx6952"
   },
   "source": [
    "## Void Return Type\n",
    "\n",
    "Sometimes a function doesn't need to return anything. For example, a function might simply modify an object that is passed into it, or it might just print to the terminal. If a function doesn't need to return a value, the `void` type can be used for the return type. Using the function syntax provided above, write a function `PrintStrings` that takes two strings as arguments and prints both of them. If you are having trouble, click the solution button for help.\n"
   ]
  },
  {
   "cell_type": "code",
   "execution_count": null,
   "metadata": {
    "graffitiCellId": "id_bpqmkjz",
    "graffitiConfig": {
     "executeCellViaGraffiti": "dftipdv_sy0f7po"
    }
   },
   "outputs": [],
   "source": [
    "#include <iostream>\n",
    "#include <string>\n",
    "using std::cout;\n",
    "using std::string;\n",
    "\n",
    "// Write the PrintStrings function here.\n",
    "void PrintStrings(string a, string b)\n",
    "{\n",
    "    cout << a << \" \" << b << \"\\n\";\n",
    "}\n",
    "\n",
    "\n",
    "int main() {\n",
    "    string s1 = \"C++ is \";\n",
    "    string s2 = \"super awesome.\";\n",
    "    \n",
    "    // Uncomment the following line to call your function:\n",
    "    PrintStrings(s1, s2);\n",
    "}"
   ]
  },
  {
   "cell_type": "markdown",
   "metadata": {},
   "source": [
    "## Print the Board\n",
    "\n",
    "Now that you have a board stored in your program, you'll need a way to print it out so you can display the results of your project. In this exercise, you will add a PrintBoard function to print the board one row at a time. When you are done, the printed output should look like:"
   ]
  },
  {
   "cell_type": "markdown",
   "metadata": {},
   "source": [
    "Write a void PrintBoard function. The function should accept the board as an argument. \n",
    "The function should print each row of the board with a newline \"\\n\".\n",
    "When you have written your PrintBoard function, call it from within main() to print the board."
   ]
  },
  {
   "cell_type": "code",
   "execution_count": null,
   "metadata": {},
   "outputs": [],
   "source": [
    "#include <iostream>\n",
    "#include <vector>\n",
    "using std::cout;\n",
    "using std::vector;\n",
    "\n",
    "// TODO: Add PrintBoard function here.\n",
    "void PrintBoard(vector<vector<int>> &v)\n",
    "{\n",
    "  for(auto &row:v){\n",
    "    for(auto &el: row){\n",
    "      cout << el << \" \";\n",
    "  \t}\n",
    "    cout << \"\\n\";\n",
    "  }\n",
    "}\n",
    "\n",
    "\n",
    "int main() {\n",
    "  vector<vector<int>> board{{0, 1, 0, 0, 0, 0},\n",
    "                            {0, 1, 0, 0, 0, 0},\n",
    "                            {0, 1, 0, 0, 0, 0},\n",
    "                            {0, 1, 0, 0, 0, 0},\n",
    "                            {0, 0, 0, 0, 1, 0}};\n",
    "  // TODO: Call PrintBoard function here.\n",
    "  PrintBoard(board);\n",
    "}"
   ]
  },
  {
   "cell_type": "markdown",
   "metadata": {},
   "source": [
    "1. Const type can be added to make the compiler aware that the variable is not to be changed.\n",
    "   This way, any unintentional attempt to change the value throws error\n",
    "2. References are preferred over pass by value, since the compiler has to make a copy of\n",
    "   the value (this takes time and memory)"
   ]
  },
  {
   "cell_type": "markdown",
   "metadata": {},
   "source": [
    "## Iterator for loop "
   ]
  },
  {
   "cell_type": "code",
   "execution_count": null,
   "metadata": {},
   "outputs": [],
   "source": [
    "for (auto i = v.begin(); i!= v.end(); i++){\n",
    "    sum +=*i; //dereferencing the iterator value\n",
    "}"
   ]
  },
  {
   "cell_type": "markdown",
   "metadata": {},
   "source": [
    "## Using std::accumulate function"
   ]
  },
  {
   "cell_type": "code",
   "execution_count": null,
   "metadata": {},
   "outputs": [],
   "source": [
    "#include<numeric>\n",
    "\n",
    "// using accumulate function\n",
    "return std::accumulate(v.begin(), v.end(), 0);"
   ]
  },
  {
   "cell_type": "markdown",
   "metadata": {
    "graffitiCellId": "id_tneybtt"
   },
   "source": [
    "## File Input Streams\n",
    "\n",
    "### Creating an Input Stream Object\n",
    "\n",
    "In C++, you can use the `std::ifstream` object to handle input file streams. To do this, you will need to include the header file that provides the file streaming classes: `<fstream>`. "
   ]
  },
  {
   "cell_type": "markdown",
   "metadata": {
    "graffitiCellId": "id_pa3mtq4"
   },
   "source": [
    "Once the `<fstream>` header is included, a new input stream object can be declared and initialized using a file path `path`:\n",
    "```\n",
    "std::ifstream my_file;\n",
    "my_file.open(path);\n",
    "```"
   ]
  },
  {
   "cell_type": "markdown",
   "metadata": {
    "graffitiCellId": "id_fhbpnle"
   },
   "source": [
    "Alternatively, the declaration and initialization can be done in a single line as follows:\n",
    "```\n",
    "std::ifstream my_file(path);\n",
    "```\n",
    "C++ `ifstream` objects can also be used as a boolean to check if the stream has been created successfully. If the stream were to initialize successfully, then the `ifstream` object would evaluate to `true`. If there were to be an error opening the file or some other error creating the stream, then the `ifstream` object would evaluate to `false`.\n",
    "\n",
    "The following cell creates an input stream from the file `\"files/1.board\"`:"
   ]
  },
  {
   "cell_type": "code",
   "execution_count": null,
   "metadata": {
    "graffitiCellId": "id_bnkk0fc",
    "graffitiConfig": {
     "executeCellViaGraffiti": "58c9019_0za0pbg"
    }
   },
   "outputs": [],
   "source": [
    "#include <fstream>\n",
    "#include <iostream>\n",
    "#include <string>\n",
    "\n",
    "int main()\n",
    "{\n",
    "    std::ifstream my_file;\n",
    "    my_file.open(\"files/1.board\");\n",
    "    if (my_file) {\n",
    "      std::cout << \"The file stream has been created!\" << \"\\n\";\n",
    "    }    \n",
    "}"
   ]
  },
  {
   "cell_type": "markdown",
   "metadata": {
    "graffitiCellId": "id_q0mu3ig"
   },
   "source": [
    "### Reading Data from the Stream\n",
    "\n",
    "If the input file stream object has been successfully created, the lines of the input stream can be read using the `getline` method. In the cell below, a while loop has been added to the previous example to get each line from the stream and print it to the console."
   ]
  },
  {
   "cell_type": "code",
   "execution_count": null,
   "metadata": {
    "graffitiCellId": "id_76xktja",
    "graffitiConfig": {
     "executeCellViaGraffiti": "yp3d1cq_r88gybj"
    }
   },
   "outputs": [],
   "source": [
    "#include <fstream>\n",
    "#include <iostream>\n",
    "#include <string>\n",
    "\n",
    "int main() {\n",
    "    std::ifstream my_file;\n",
    "    my_file.open(\"files/1.board\");\n",
    "    if (my_file) {\n",
    "        std::cout << \"The file stream has been created!\" << \"\\n\";\n",
    "        std::string line;\n",
    "        while (getline(my_file, line)) {\n",
    "            std::cout << line << \"\\n\";\n",
    "        }\n",
    "    }\n",
    "}"
   ]
  },
  {
   "cell_type": "markdown",
   "metadata": {
    "graffitiCellId": "id_s89boj6"
   },
   "source": [
    "### Recap\n",
    "\n",
    "That's it! To recap, there are essentially four steps to reading a file:\n",
    "1. `#include <fstream>`\n",
    "2. Create a `std::ifstream` object using the path to your file.\n",
    "3. Evaluate the `std::ifstream` object as a `bool` to ensure that the stream creation did not fail.\n",
    "4. Use a `while` loop with `getline` to write file lines to a string.\n",
    "\n",
    "\n",
    "## On to an Exercise\n",
    "\n",
    "Have a careful look at the code above for reading file lines into the code. In the next exercise, you will write a function to do this in your program."
   ]
  },
  {
   "cell_type": "code",
   "execution_count": null,
   "metadata": {},
   "outputs": [],
   "source": [
    "#include <iostream>\n",
    "#include <string>\n",
    "#include <vector>\n",
    "#include <fstream>\n",
    "\n",
    "using std::cout;\n",
    "using std::string;\n",
    "using std::vector;\n",
    "using std::ifstream;\n",
    "\n",
    "// TODO: Add the ReadBoardFile function here.\n",
    "void ReadBoardFile(std::string file_path)\n",
    "{\n",
    "  ifstream board_file(file_path);\n",
    "  if(board_file)\n",
    "  {\n",
    "    cout << file_path << \" read success \" << \"\\n\";\n",
    "    //cout << \" read success \" << \"\\n\";\n",
    "    std::string line_data;\n",
    "    while(getline(board_file, line_data))\n",
    "    {\n",
    "      cout << line_data << \"\\n\";\n",
    "  \t}\n",
    "  } \n",
    "}\n",
    "\n",
    "// PrintBoard not used in this exercise\n",
    "void PrintBoard(const vector<vector<int>> board) {\n",
    "  for (int i = 0; i < board.size(); i++) {\n",
    "    for (int j = 0; j < board[i].size(); j++) {\n",
    "      cout << board[i][j];\n",
    "    }\n",
    "    cout << \"\\n\";\n",
    "  }\n",
    "}\n",
    "\n",
    "int main() {\n",
    "  // TODO: Call the ReadBoardFile function here.\n",
    "  ReadBoardFile(\"1.board\");\n",
    "  // Leave the following line commented out.\n",
    "  //PrintBoard(board);\n",
    "}"
   ]
  },
  {
   "cell_type": "markdown",
   "metadata": {
    "graffitiCellId": "id_8nh5wta"
   },
   "source": [
    "## Streaming `int`s from a `string` with istringstream\n",
    "\n",
    "In C++ strings can be streamed into temporary variables, similarly to how files can be streamed into strings. Streaming a string allows us to work with each character individually.\n",
    "\n",
    "One way to stream a string is to use an input string stream object `istringstream` from the `<sstream>` header. \n",
    "\n",
    "Once an `istringstream` object has been created, parts of the string can be streamed and stored using the \"extraction operator\": `>>`. The extraction operator will read until whitespace is reached or until the stream fails. Execute the following code to see how this works:"
   ]
  },
  {
   "cell_type": "code",
   "execution_count": null,
   "metadata": {
    "graffitiCellId": "id_ba7nvek",
    "graffitiConfig": {
     "executeCellViaGraffiti": "4pd9ib7_gtb4ms0"
    }
   },
   "outputs": [],
   "source": [
    "#include <iostream>\n",
    "#include <sstream>\n",
    "#include <string>\n",
    "\n",
    "using std::istringstream;\n",
    "using std::string;\n",
    "using std::cout;\n",
    "\n",
    "int main () \n",
    "{\n",
    "    string a(\"avd 2 3\");\n",
    "\n",
    "    istringstream my_stream(a);\n",
    "\n",
    "    int n;\n",
    "    my_stream >> n;\n",
    "    cout << n << \"\\n\";\n",
    "}"
   ]
  },
  {
   "cell_type": "markdown",
   "metadata": {
    "graffitiCellId": "id_tcqm7o3"
   },
   "source": [
    "The `istringstream` object can also be used as a boolean to determine if the last extraction operation failed - this happens if there wasn't any more of the string to stream, for example. If the stream still has more characters, you are able to stream again. See the following code for an example of using the `istringstream` this way:"
   ]
  },
  {
   "cell_type": "code",
   "execution_count": null,
   "metadata": {
    "graffitiCellId": "id_ez9m32p",
    "graffitiConfig": {
     "executeCellViaGraffiti": "ckczl1i_xgvtn1p"
    }
   },
   "outputs": [],
   "source": [
    "#include <iostream>\n",
    "#include <sstream>\n",
    "#include <string>\n",
    "\n",
    "using std::istringstream;\n",
    "using std::string;\n",
    "using std::cout;\n",
    "\n",
    "int main() \n",
    "{\n",
    "    string a(\"1 2 3 abc\");\n",
    "\n",
    "    istringstream my_stream(a);\n",
    "\n",
    "    int n;\n",
    "    \n",
    "    // Testing to see if the stream was successful and printing results.\n",
    "    while (my_stream) {\n",
    "        my_stream >> n;\n",
    "        if (my_stream) {\n",
    "            cout << \"That stream was successful: \" << n << \"\\n\";\n",
    "        }\n",
    "        else {\n",
    "            cout << \"That stream was NOT successful!\" << \"\\n\";            \n",
    "        }\n",
    "    }\n",
    "}"
   ]
  },
  {
   "cell_type": "markdown",
   "metadata": {
    "graffitiCellId": "id_0uzk0yo"
   },
   "source": [
    "The extraction operator `>>` writes the stream to the variable on the right of the operator and returns the `istringstream` object, so the entire expression `my_stream >> n` is an `istringstream` object and can be used as a boolean! Because of this, a common way to use `istringstream` is to use the entire extraction expression in a while loop as follows:"
   ]
  },
  {
   "cell_type": "code",
   "execution_count": null,
   "metadata": {
    "graffitiCellId": "id_5hbj5w6",
    "graffitiConfig": {
     "executeCellViaGraffiti": "7qu45sv_a8jag0t"
    }
   },
   "outputs": [],
   "source": [
    "#include <iostream>\n",
    "#include <sstream>\n",
    "#include <string>\n",
    "\n",
    "using std::istringstream;\n",
    "using std::string;\n",
    "using std::cout;\n",
    "\n",
    "int main () {\n",
    "    string a(\"1 2 d 4\");\n",
    "\n",
    "    istringstream my_stream(a);\n",
    "    \n",
    "    int n;\n",
    "    \n",
    "    while (my_stream >> n) {\n",
    "      cout << \"That stream was successful: \" << n << \"\\n\";\n",
    "    }\n",
    "    cout << \"The stream has failed.\" << \"\\n\";\n",
    "    \n",
    "}"
   ]
  },
  {
   "cell_type": "markdown",
   "metadata": {
    "graffitiCellId": "id_m4q52ua"
   },
   "source": [
    "### Strings with Mixed Types\n",
    "\n",
    "In the stream example above, the string contained only whitespaces and characters which could be converted to `int`s. If the string has mixed types, more care is needed to process the string. In the following example, the type `char` is used, which is a type that can hold only a single ASCII character."
   ]
  },
  {
   "cell_type": "code",
   "execution_count": null,
   "metadata": {
    "graffitiCellId": "id_45mq301",
    "graffitiConfig": {
     "executeCellViaGraffiti": "6f54py6_2de9w7y"
    }
   },
   "outputs": [],
   "source": [
    "#include <iostream>\n",
    "#include <sstream>\n",
    "#include <string>\n",
    "\n",
    "using std::istringstream;\n",
    "using std::string;\n",
    "using std::cout;\n",
    "\n",
    "int main() \n",
    "{\n",
    "    string b(\"1,2,3\");\n",
    "\n",
    "    istringstream my_stream(b);\n",
    "\n",
    "    char c;\n",
    "    int n;\n",
    "\n",
    "    while (my_stream >> n >> c) {\n",
    "      cout << \"That stream was successful:\" << n << \" \" << c << \"\\n\";\n",
    "    }\n",
    "    cout << \"The stream has failed.\" << \"\\n\";\n",
    "}"
   ]
  },
  {
   "cell_type": "markdown",
   "metadata": {
    "graffitiCellId": "id_abvuf0k"
   },
   "source": [
    "In that example, notice that the `3` was not printed! The expression: \n",
    "```\n",
    "my_stream >> n >> c\n",
    "``` \n",
    "tried to stream an `int` followed by a `char`. Since there was no `char` after the `3`, the stream failed and the `while` loop exited."
   ]
  },
  {
   "cell_type": "markdown",
   "metadata": {
    "graffitiCellId": "id_b5l7n3z"
   },
   "source": [
    "## Vector push_back\n",
    "\n",
    "Now that you are able to process a string, you may want to store the results of the processing in a convenient container for later use. In the next exercise, you will store the streamed `int`s from each line of the board in a `vector<int>`. To do this, you will add the `int`s to the back of the vector, using the `vector` method `push_back`:"
   ]
  },
  {
   "cell_type": "code",
   "execution_count": null,
   "metadata": {
    "graffitiCellId": "id_6mhvybv",
    "graffitiConfig": {
     "executeCellViaGraffiti": "pi3s3vy_0id4ip6"
    }
   },
   "outputs": [],
   "source": [
    "#include <vector>\n",
    "#include <iostream>\n",
    "using std::vector;\n",
    "using std::cout;\n",
    "\n",
    "int main() {\n",
    "    // Initial Vector\n",
    "    vector v {1, 2, 3};\n",
    "    \n",
    "    // Print the contents of the vector\n",
    "    for (int i=0; i < v.size(); i++) {\n",
    "      cout << v[i] << \"\\n\";\n",
    "    }\n",
    "    \n",
    "    // Push 4 to the back of the vector\n",
    "    v.push_back(4);\n",
    "\n",
    "    // Print the contents again\n",
    "    for (int i=0; i < v.size(); i++) {\n",
    "      cout << v[i] << \"\\n\";\n",
    "    }\n",
    "    \n",
    "}"
   ]
  },
  {
   "cell_type": "markdown",
   "metadata": {
    "graffitiCellId": "id_s1a0007"
   },
   "source": [
    "The `4` has been added to the end of the vector!\n",
    "\n",
    "## On to an Exercise\n",
    "\n",
    "In this section, you have learned about two useful tools:\n",
    "\n",
    "- String streams, and\n",
    "- `vector` `push_back`.\n",
    "\n",
    "The string streaming objects in C++ are very powerful, and there are many more ways that an `istringstream` can be used. We encourage you to have a look at all of the available functions in [the C++ reference](http://www.cplusplus.com/reference/sstream/istringstream/). However, at this point you are ready for the next exercise. In this exercise, you will parse string lines from the board and store the `int`s in a vector using the `istringstream` and `push_back` methods from above. Have a careful look at the examples again, and copy paste any code you think you might need before clicking the `Next` button below."
   ]
  },
  {
   "cell_type": "code",
   "execution_count": null,
   "metadata": {},
   "outputs": [],
   "source": []
  },
  {
   "cell_type": "markdown",
   "metadata": {},
   "source": [
    "## Parsleline function"
   ]
  },
  {
   "cell_type": "code",
   "execution_count": 5,
   "metadata": {},
   "outputs": [
    {
     "ename": "SyntaxError",
     "evalue": "invalid syntax (<ipython-input-5-a119c4e57759>, line 7)",
     "output_type": "error",
     "traceback": [
      "\u001b[0;36m  File \u001b[0;32m\"<ipython-input-5-a119c4e57759>\"\u001b[0;36m, line \u001b[0;32m7\u001b[0m\n\u001b[0;31m    using std::cout;\u001b[0m\n\u001b[0m            ^\u001b[0m\n\u001b[0;31mSyntaxError\u001b[0m\u001b[0;31m:\u001b[0m invalid syntax\n"
     ]
    }
   ],
   "source": [
    "#include <fstream>\n",
    "#include <iostream>\n",
    "#include <string>\n",
    "#include <vector>\n",
    "#include <sstream>\n",
    "\n",
    "using std::cout;\n",
    "using std::ifstream;\n",
    "using std::string;\n",
    "using std::vector;\n",
    "using std::istringstream;\n",
    "\n",
    "// TODO: Add the ParseLine function here.\n",
    "vector<int> ParseLine(std::string line){\n",
    "\tistringstream my_ss(line);\n",
    "  \tvector<int> data;\n",
    "  \tchar temp;\n",
    "  \tint element;\n",
    "  \twhile(my_ss >> element >> temp){\n",
    "    \tif (my_ss){\n",
    "\t\t\tdata.push_back(element);          \n",
    "        }\n",
    "    }\n",
    "//    for (int i = 0; i < data.size(); i++) {\n",
    "//      cout << data[i];\n",
    "//    }\n",
    "  \treturn data;\n",
    "}\n",
    "\n",
    "\n",
    "void ReadBoardFile(string path) {\n",
    "  ifstream myfile (path);\n",
    "  if (myfile) {\n",
    "    string line;\n",
    "    while (getline(myfile, line)) {\n",
    "      cout << line << \"\\n\";\n",
    "    }\n",
    "  }\n",
    "}\n",
    "\n",
    "void PrintBoard(const vector<vector<int>> board) {\n",
    "  for (int i = 0; i < board.size(); i++) {\n",
    "    for (int j = 0; j < board[i].size(); j++) {\n",
    "      cout << board[i][j];\n",
    "    }\n",
    "    cout << \"\\n\";\n",
    "  }\n",
    "}\n",
    "\n",
    "#include \"test.cpp\" // For testing.\n",
    "\n",
    "int main() {\n",
    "  ReadBoardFile(\"1.board\");\n",
    "  TestParseLine(); // For testing.\n",
    "  // Leave commented out.\n",
    "  // PrintBoard(board);\n",
    "}"
   ]
  },
  {
   "cell_type": "markdown",
   "metadata": {},
   "source": [
    "## Use the ParseLine Function\n",
    "\n",
    "Great! With the ParseLine function complete, you can now use it in the ReadBoardFile to process each \n",
    "line of the incoming file. In this exercise, you will do just that: follow the TODOs in the code below, \n",
    "updating both ReadBoardFile and the main function to finish the processing of an external board file."
   ]
  },
  {
   "cell_type": "code",
   "execution_count": null,
   "metadata": {},
   "outputs": [],
   "source": [
    "#include <fstream>\n",
    "#include <iostream>\n",
    "#include <string>\n",
    "#include <sstream>\n",
    "#include <vector>\n",
    "using std::cout;\n",
    "using std::ifstream;\n",
    "using std::istringstream;\n",
    "using std::string;\n",
    "using std::vector;\n",
    "\n",
    "\n",
    "vector<int> ParseLine(string line) {\n",
    "    istringstream sline(line);\n",
    "    int n;\n",
    "    char c;\n",
    "    vector<int> row;\n",
    "    while (sline >> n >> c && c == ',') {\n",
    "      row.push_back(n);\n",
    "    }\n",
    "    return row;\n",
    "}\n",
    "\n",
    "// TODO: Change the return type of ReadBoardFile.\n",
    "vector<vector<int>> ReadBoardFile(string path) {\n",
    "  ifstream myfile (path);\n",
    "  \n",
    "  // TODO: Declare an empty board variable here with\n",
    "  vector<vector<int>> board;\n",
    "  \n",
    "  if (myfile) \n",
    "  {\n",
    "    string line;\n",
    "    while (getline(myfile, line)) \n",
    "    {\n",
    "      board.push_back(ParseLine(line));\n",
    "    }\n",
    "  }\n",
    "  return board;\n",
    "}\n",
    "\n",
    "void PrintBoard(const vector<vector<int>> board) {\n",
    "  for (int i = 0; i < board.size(); i++) {\n",
    "    for (int j = 0; j < board[i].size(); j++) {\n",
    "      cout << board[i][j];\n",
    "    }\n",
    "    cout << \"\\n\";\n",
    "  }\n",
    "}\n",
    "\n",
    "int main() {\n",
    "   \n",
    "  // TODO: Store the output of ReadBoardFile in the \"board\" variable.\n",
    "  vector<vector<int>> board = ReadBoardFile(\"1.board\");\n",
    "  \n",
    "  // TODO: Uncomment PrintBoard below to print \"board\".\n",
    "   PrintBoard(board);\n",
    "}"
   ]
  },
  {
   "cell_type": "markdown",
   "metadata": {
    "graffitiCellId": "id_seurkru"
   },
   "source": [
    "## Enums\n",
    "\n",
    "C++ allows you to define a custom type which has values limited to a specific range you list or \"enumerate\". This custom type is called an \"enum\".\n",
    "\n",
    "Suppose you were writing a program that stores information about each user's car, including the color. You could define a `Color` `enum` in your program, with a fixed range of all the acceptable values: \n",
    "- `white`\n",
    "- `black`\n",
    "- `blue`\n",
    "- `red`\n",
    "\n",
    "This way, you can be sure that each color is restricted to the acceptable set of values.\n",
    "\n",
    "Here is an example:"
   ]
  },
  {
   "cell_type": "code",
   "execution_count": null,
   "metadata": {
    "graffitiCellId": "id_2uzm52d",
    "graffitiConfig": {
     "executeCellViaGraffiti": "idmi6s1_lnhf654"
    }
   },
   "outputs": [],
   "source": [
    "#include <iostream>\n",
    "using std::cout;\n",
    "\n",
    "int main() \n",
    "{\n",
    "    // Create the enum Color with fixed values.\n",
    "    enum class Color {white, black, blue, red};\n",
    "\n",
    "    // Create a Color variable and set it to Color::blue.\n",
    "    Color my_color = Color::blue;\n",
    "\n",
    "    // Test to see if my car is red.\n",
    "    if (my_color == Color::red) {\n",
    "        cout << \"The color of my car is red!\" << \"\\n\";\n",
    "    } else {\n",
    "        cout << \"The color of my car is not red.\" << \"\\n\";\n",
    "    }\n",
    "}"
   ]
  },
  {
   "cell_type": "markdown",
   "metadata": {
    "graffitiCellId": "id_l88arro"
   },
   "source": [
    "**Note:** In the example above, the keyword `enum` is followed by the keyword `class` and then the class name `Color`. This creates what are called \"scoped\" `enum`s. It is also possible, but [not advisable](https://github.com/isocpp/CppCoreGuidelines/blob/master/CppCoreGuidelines.md#Renum-class), to omit the `class` keyword and thus create \"unscoped\" `enums`. [More information is available at cppreference.com](https://en.cppreference.com/w/cpp/language/enum)."
   ]
  },
  {
   "cell_type": "markdown",
   "metadata": {
    "graffitiCellId": "id_ihfr4gf"
   },
   "source": [
    "### Example with a switch\n",
    "\n",
    "Below is another example of an `enum` being used. Here, a custom type `Direction` is created with four possible values: `kUp`, `kDown`, `kLeft`, `kRight`. One of these values is then stored in a variable and used in the <span class=\"graffiti-highlight graffiti-id_ihfr4gf-id_t60x32k\"><i></i>switch statement</span>."
   ]
  },
  {
   "cell_type": "code",
   "execution_count": null,
   "metadata": {
    "graffitiCellId": "id_7sb4h95",
    "graffitiConfig": {
     "executeCellViaGraffiti": "s46g5qt_74cgzri"
    }
   },
   "outputs": [],
   "source": [
    "#include <iostream>\n",
    "using std::cout;\n",
    "\n",
    "int main()\n",
    "{\n",
    "    enum class Direction {kUp, kDown, kLeft, kRight};\n",
    "\n",
    "    Direction a = Direction::kUp;\n",
    "\n",
    "    switch (a) {\n",
    "      case Direction::kUp : cout << \"Going up!\" << \"\\n\";\n",
    "        break;\n",
    "      case Direction::kDown : cout << \"Going down!\" << \"\\n\";\n",
    "        break;\n",
    "      case Direction::kLeft : cout << \"Going left!\" << \"\\n\";\n",
    "        break;\n",
    "      case Direction::kRight : cout << \"Going right!\" << \"\\n\";\n",
    "        break;\n",
    "    }\n",
    "}"
   ]
  },
  {
   "cell_type": "markdown",
   "metadata": {},
   "source": [
    "## Formatting the Printed Board"
   ]
  },
  {
   "cell_type": "code",
   "execution_count": null,
   "metadata": {},
   "outputs": [],
   "source": [
    "#include <fstream>\n",
    "#include <iostream>\n",
    "#include <sstream>\n",
    "#include <string>\n",
    "#include <vector>\n",
    "using std::cout;\n",
    "using std::ifstream;\n",
    "using std::istringstream;\n",
    "using std::string;\n",
    "using std::vector;\n",
    "\n",
    "enum class State {kEmpty, kObstacle};\n",
    "\n",
    "vector<int> ParseLine(string line) {\n",
    "    istringstream sline(line);\n",
    "    int n;\n",
    "    char c;\n",
    "    vector<int> row;\n",
    "    while (sline >> n >> c && c == ',') {\n",
    "      row.push_back(n);\n",
    "    }\n",
    "    return row;\n",
    "}\n",
    "\n",
    "vector<vector<int>> ReadBoardFile(string path) {\n",
    "  ifstream myfile (path);\n",
    "  vector<vector<int>> board{};\n",
    "  if (myfile) {\n",
    "    string line;\n",
    "    while (getline(myfile, line)) {\n",
    "      vector<int> row = ParseLine(line);\n",
    "      board.push_back(row);\n",
    "    }\n",
    "  }\n",
    "  return board;\n",
    "}\n",
    "\n",
    "// TODO: Create the CellString function here,\n",
    "// using the following return strings:\n",
    "string CellString(State input){\n",
    "  string data;\n",
    "  switch(input){\n",
    "      case State::kObstacle :\n",
    "      \tdata = \"⛰️   \";\n",
    "        break;\n",
    "      default:\n",
    "      \tdata = \"0   \";\n",
    "        break;\n",
    "    }\n",
    "  return data;\n",
    "}\n",
    "// \"⛰️   \"\n",
    "// \"0   \"\n",
    "\n",
    "void PrintBoard(const vector<vector<int>> board) {\n",
    "  for (int i = 0; i < board.size(); i++) {\n",
    "    for (int j = 0; j < board[i].size(); j++) {\n",
    "      cout << board[i][j];\n",
    "    }\n",
    "    cout << \"\\n\";\n",
    "  }\n",
    "}\n",
    "\n",
    "int main() {\n",
    "  auto board = ReadBoardFile(\"1.board\");\n",
    "  State temp = State::kEmpty;\n",
    "  auto res = CellString(temp);\n",
    "  cout << res;\n",
    "  //PrintBoard(board);\n",
    "}"
   ]
  },
  {
   "cell_type": "markdown",
   "metadata": {},
   "source": [
    "## Store the Board Using the State Enum\n",
    "\n",
    "Fantastic work! Now that you have a way to print the State enum values, \n",
    "you will be able to modify your program to use State values in the board exclusively.\n",
    "To do this, you will need to modify the return types and variable types in several places \n",
    "of the code. Don't worry, as we have clearly marked these with a TODO in each part of the code.\n",
    "\n",
    "After this exercise, you will have completed the first part of this lesson, and you will begin \n",
    "coding the main A* search algorithm!"
   ]
  },
  {
   "cell_type": "code",
   "execution_count": null,
   "metadata": {},
   "outputs": [],
   "source": [
    "#include <fstream>\n",
    "#include <iostream>\n",
    "#include <sstream>\n",
    "#include <string>\n",
    "#include <vector>\n",
    "using std::cout;\n",
    "using std::ifstream;\n",
    "using std::istringstream;\n",
    "using std::string;\n",
    "using std::vector;\n",
    "\n",
    "enum class State {kEmpty, kObstacle};\n",
    "\n",
    "// TODO: Change the return type to use auto or\n",
    "// explicitly indicate vector<State>\n",
    "vector<State> ParseLine(string line) {\n",
    "    istringstream sline(line);\n",
    "    int n;\n",
    "    char c;\n",
    "    // TODO: Change the variable type for row\n",
    "    // to be a vector<State>\n",
    "    vector<State> row;\n",
    "    while (sline >> n >> c && c == ',') {\n",
    "      // TODO: Modify the line below to push_back\n",
    "      // a State::kEmpty if n is 0, and push_back\n",
    "      // a State::kObstacle otherwise.\n",
    "      if(n ==0){\n",
    "        row.push_back(State::kEmpty);\n",
    "      }\n",
    "      else{\n",
    "        row.push_back(State::kObstacle);\n",
    "      }      \n",
    "    }\n",
    "    return row;\n",
    "}\n",
    "\n",
    "// TODO: Modify the return type here as well. Just\n",
    "// as above, the board will contain State objects\n",
    "// instead of ints.\n",
    "vector<vector<State>> ReadBoardFile(string path) {\n",
    "  ifstream myfile (path);\n",
    "  // TODO: Modify the board declarationto store \n",
    "  // State objects instead of ints.\n",
    "  vector<vector<State>> board{};\n",
    "  if (myfile) {\n",
    "    string line;\n",
    "    while (getline(myfile, line)) {\n",
    "      // TODO: Modify the row type to use State\n",
    "      // objects instead of ints.\n",
    "      vector<State> row = ParseLine(line);\n",
    "      board.push_back(row);\n",
    "    }\n",
    "  }\n",
    "  return board;\n",
    "}\n",
    "\n",
    "// TODO: Modify the function signature below to accept\n",
    "// cells with State type instead of int type.\n",
    "string CellString(State cell) {\n",
    "  switch(cell) {\n",
    "    case State::kObstacle: return \"⛰️   \";\n",
    "    default: return \"0   \"; \n",
    "  }\n",
    "}\n",
    "\n",
    "void PrintBoard(const vector<vector<State>> board) {\n",
    "  for (int i = 0; i < board.size(); i++) {\n",
    "    for (int j = 0; j < board[i].size(); j++) {\n",
    "      // TODO: Modify the line below to call CellString\n",
    "      // on each element of the board before streaming to cout.\n",
    "      cout << CellString(board[i][j]);\n",
    "    }\n",
    "    cout << \"\\n\";\n",
    "  }\n",
    "}\n",
    "\n",
    "int main() {\n",
    "  auto board = ReadBoardFile(\"1.board\");\n",
    "  PrintBoard(board);\n",
    "}"
   ]
  },
  {
   "cell_type": "raw",
   "metadata": {},
   "source": []
  }
 ],
 "metadata": {
  "kernelspec": {
   "display_name": "Python 3",
   "language": "python",
   "name": "python3"
  },
  "language_info": {
   "codemirror_mode": {
    "name": "ipython",
    "version": 3
   },
   "file_extension": ".py",
   "mimetype": "text/x-python",
   "name": "python",
   "nbconvert_exporter": "python",
   "pygments_lexer": "ipython3",
   "version": "3.7.4"
  }
 },
 "nbformat": 4,
 "nbformat_minor": 2
}
