{
 "cells": [
  {
   "cell_type": "markdown",
   "metadata": {},
   "source": [
    "## Module 1 Lesson 4"
   ]
  },
  {
   "cell_type": "markdown",
   "metadata": {},
   "source": [
    "Header files, or .h files, allow related function, method, and class declarations to be collected in one place. The corresponding definitions can then be placed in .cpp files. The compiler considers a header declaration a \"promise\" that the definition will be found later in the code, so if the compiler reaches a function that hasn't been defined yet, it can continue on compiling until the definition is found. This allows functions to be defined (and declared) in arbitrary order."
   ]
  },
  {
   "cell_type": "markdown",
   "metadata": {
    "graffitiCellId": "id_ddvzzae"
   },
   "source": [
    "## Function Order in a Single File\n",
    "\n",
    "In the following code example, the functions are out of order, and the code will not compile. Try to fix this by rearranging the functions to be in the correct order."
   ]
  },
  {
   "cell_type": "code",
   "execution_count": null,
   "metadata": {
    "graffitiCellId": "id_mp64xja",
    "graffitiConfig": {
     "executeCellViaGraffiti": "qb0wxcq_uywx522"
    }
   },
   "outputs": [],
   "source": [
    "#include <iostream>\n",
    "using std::cout;\n",
    "\n",
    "void InnerFunction(int i) \n",
    "{\n",
    "    cout << \"The value of the integer is: \" << i << \"\\n\";\n",
    "}\n",
    "\n",
    "\n",
    "void OuterFunction(int i) \n",
    "{\n",
    "    InnerFunction(i);\n",
    "}\n",
    "\n",
    "int main() \n",
    "{\n",
    "    int a = 5;\n",
    "    OuterFunction(a);\n",
    "}"
   ]
  },
  {
   "cell_type": "markdown",
   "metadata": {
    "graffitiCellId": "id_fjyw0lv"
   },
   "source": [
    "\n",
    "In the mini-project for the first half of the course, the instructions were very careful to indicate where each function should be placed, so you didn't run into the problem of functions being out of order.\n",
    "\n",
    "\n",
    "That is, if there's no header files in the code, the functions have to be in the order such that the definition\n",
    "of the function should be known before using the function. This puts a constraint on the order in which\n",
    "functions can be defined and so difficult to maintain and understand"
   ]
  },
  {
   "cell_type": "markdown",
   "metadata": {
    "graffitiCellId": "id_k2u63tc"
   },
   "source": [
    "## Using a Header\n",
    "\n",
    "One other way to solve the code problem above (without rearranging the functions) would have been to declare each function at the top of the file. A function declaration is much like the first line of a function definition - it contains the return type, function name, and input variable types. The details of the function definition are not needed for the declaration though.\n",
    "\n",
    "To avoid a single file from becomming cluttered with declarations and definitions for every function, it is customary to declare the functions in another file, called the header file. In C++, the header file will have filetype `.h`, and the contents of the header file must be included at the top of the `.cpp` file. See the following example for a refactoring of the code above into a header and a cpp file."
   ]
  },
  {
   "cell_type": "code",
   "execution_count": null,
   "metadata": {
    "graffitiCellId": "id_07oaumc"
   },
   "outputs": [],
   "source": [
    "// The header file with just the function declarations.\n",
    "// When you click the \"Run Code\" button, this file will\n",
    "// be saved as header_example.h.\n",
    "#ifndef HEADER_EXAMPLE_H\n",
    "#define HEADER_EXAMPLE_H\n",
    "\n",
    "void OuterFunction(int);\n",
    "void InnerFunction(int);\n",
    "\n",
    "#endif"
   ]
  },
  {
   "cell_type": "code",
   "execution_count": null,
   "metadata": {
    "graffitiCellId": "id_0rusb8f",
    "graffitiConfig": {
     "executeCellViaGraffiti": "mdf24jj_unu9oj8"
    }
   },
   "outputs": [],
   "source": [
    "// The contents of header_example.h are included in \n",
    "// the corresponding .cpp file using quotes:\n",
    "#include \"header_example.h\"\n",
    "\n",
    "#include <iostream>\n",
    "using std::cout;\n",
    "\n",
    "void OuterFunction(int i) \n",
    "{\n",
    "    InnerFunction(i);\n",
    "}\n",
    "\n",
    "void InnerFunction(int i) \n",
    "{\n",
    "    cout << \"The value of the integer is: \" << i << \"\\n\";\n",
    "}\n",
    "\n",
    "int main() \n",
    "{\n",
    "    int a = 5;\n",
    "    OuterFunction(a);\n",
    "}"
   ]
  },
  {
   "cell_type": "markdown",
   "metadata": {
    "graffitiCellId": "id_tbutuxn"
   },
   "source": [
    "Notice that the code from the first example was fixed without having to rearrange the functions! In the code above, you might also have noticed several other things:\n",
    "- The function declarations in the header file don't need variable names, just variable types. You can put names in the declaration, however, and doing this often makes the code easier to read.\n",
    "- The `#include` statement for the header used quotes `\" \"` around the file name, and not angle brackets `<>`. We have stored the header in the same directory as the `.cpp` file, and the quotes tell the preprocessor to look for the file in the same directory as the current file - not in the usual set of directories where libraries are typically stored.\n",
    "- Finally, there is a preprocessor directive:\n",
    "  ```cpp\n",
    "  #ifndef HEADER_EXAMPLE_H\n",
    "  #define HEADER_EXAMPLE_H\n",
    "  ``` \n",
    "  at the top of the header, along with an `#endif` at the end. This is called an \"include guard\". Since the header will be included into another file, and `#include` just pastes contents into a file, the include guard prevents the same file from being pasted multiple times into another file. This might happen if multiple files include the same header, and then are all included into the same `main.cpp`, for example. \n",
    "  The `ifndef` checks if `HEADER_EXAMPLE_H` has not been defined in the file already. If it has not been defined yet, then it is defined with `#define HEADER_EXAMPLE_H`, and the rest of the header is used. If `HEADER_EXAMPLE_H` has already been defined, then the preprocessor does not enter the `ifndef` block.\n",
    "  **Note:** There are other ways to do this. Another common way is to use an `#pragma once`preprocessor directive, but we won't cover that in detail here. See [this Wikipedia article](https://en.wikipedia.org/wiki/Include_guard) for examples."
   ]
  },
  {
   "cell_type": "markdown",
   "metadata": {
    "graffitiCellId": "id_fowjg6u"
   },
   "source": [
    "## Single File Code\n",
    "\n",
    "In the previous concept, you saw some example code that wouldn't compile because the functions were out of order:\n",
    "```cpp\n",
    "#include <iostream>\n",
    "#include <vector>\n",
    "using std::vector;\n",
    "using std::cout;\n",
    "\n",
    "\n",
    "int IncrementAndComputeVectorSum(vector<int> v) {\n",
    "    int total = 0;\n",
    "    AddOneToEach(v);\n",
    "\n",
    "    for (auto i: v) {\n",
    "        total += i;\n",
    "    }\n",
    "    return total;\n",
    "}\n",
    "\n",
    "void AddOneToEach(vector<int> &v) {\n",
    "    for (auto& i: v) {\n",
    "        i++;\n",
    "    }\n",
    "}\n",
    "\n",
    "int main() {\n",
    "    vector<int> v{1, 2, 3, 4};\n",
    "    int total = IncrementAndComputeVectorSum(v);\n",
    "    cout << \"The total is: \" << total << \"\\n\";\n",
    "}\n",
    "```\n",
    "\n",
    "In the last exercise of the notebook, you were to separate that code into a header `.h` file and a `.cpp` file. But what if you wanted to use completely separate files for each of the functions? For example, you might want to do this if the functions were going to belong to different classes or libraries.\n",
    "\n",
    "## Multi-file Code\n",
    "\n",
    "In the next few cells these functions have been separated into several different files. The structure of the included files is as follows:\n",
    "\n",
    "> `vect_add_one` --> `increment_and_sum` -->`main`"
   ]
  },
  {
   "cell_type": "markdown",
   "metadata": {
    "graffitiCellId": "id_j97pewx"
   },
   "source": [
    "### `vect_add_one.h` and `vect_add_one.cpp`"
   ]
  },
  {
   "cell_type": "code",
   "execution_count": null,
   "metadata": {
    "graffitiCellId": "id_8yjy16e"
   },
   "outputs": [],
   "source": [
    "#ifndef VECT_ADD_ONE_H\n",
    "#define VECT_ADD_ONE_H\n",
    "\n",
    "#include <vector>\n",
    "using std::vector;\n",
    "\n",
    "// AddOneToEach method declaration.\n",
    "void AddOneToEach(vector<int> &v);\n",
    "\n",
    "#endif"
   ]
  },
  {
   "cell_type": "code",
   "execution_count": null,
   "metadata": {
    "graffitiCellId": "id_kuff4yu"
   },
   "outputs": [],
   "source": [
    "#include \"vect_add_one.h\"\n",
    "\n",
    "void AddOneToEach(vector<int> &v) \n",
    "{\n",
    "    for (auto& i: v) {\n",
    "        i++;\n",
    "    }\n",
    "}"
   ]
  },
  {
   "cell_type": "markdown",
   "metadata": {
    "graffitiCellId": "id_tc91qx8"
   },
   "source": [
    "### `increment_and_sum.h` and `increment_and_sum.cpp`"
   ]
  },
  {
   "cell_type": "code",
   "execution_count": null,
   "metadata": {
    "graffitiCellId": "id_kmlof40"
   },
   "outputs": [],
   "source": [
    "#ifndef INCREMENT_AND_SUM_H\n",
    "#define INCREMENT_AND_SUM_H\n",
    "\n",
    "#include <vector>\n",
    "using std::vector;\n",
    "\n",
    "// IncrementAndComputeVectorSum method declaration.\n",
    "int IncrementAndComputeVectorSum(vector<int> v);\n",
    "void print_test();\n",
    "#endif"
   ]
  },
  {
   "cell_type": "code",
   "execution_count": null,
   "metadata": {
    "graffitiCellId": "id_u0tdkzu"
   },
   "outputs": [],
   "source": [
    "#include \"vect_add_one.h\"\n",
    "#include \"increment_and_sum.h\"\n",
    "\n",
    "int IncrementAndComputeVectorSum(vector<int> v) {\n",
    "    int total = 0;\n",
    "    print_test();\n",
    "    AddOneToEach(v);\n",
    "\n",
    "    for (auto i: v) {\n",
    "        total += i;\n",
    "    }\n",
    "    return total;\n",
    "}\n",
    "\n",
    "void print_test(){\n",
    "    int a =2;\n",
    "    return;\n",
    "}"
   ]
  },
  {
   "cell_type": "markdown",
   "metadata": {
    "graffitiCellId": "id_lovfxcx"
   },
   "source": [
    "### `main.cpp`"
   ]
  },
  {
   "cell_type": "code",
   "execution_count": null,
   "metadata": {
    "graffitiCellId": "id_47n3axl",
    "graffitiConfig": {
     "executeCellViaGraffiti": "xye2k7e_id5rrzk"
    }
   },
   "outputs": [],
   "source": [
    "#include <iostream>\n",
    "#include <vector>\n",
    "#include \"increment_and_sum.h\"\n",
    "using std::vector;\n",
    "using std::cout;\n",
    "\n",
    "int main() \n",
    "{\n",
    "    vector<int> v{1, 2, 3, 4};\n",
    "    int total = IncrementAndComputeVectorSum(v);\n",
    "    cout << \"The total is: \" << total << \"\\n\";\n",
    "}"
   ]
  },
  {
   "cell_type": "markdown",
   "metadata": {
    "graffitiCellId": "id_3hpnz36"
   },
   "source": [
    "If you look carefully at the files above, you will see several things:\n",
    "- `vect_add_one.h` is included in `increment_and_sum.cpp`.\n",
    "\n",
    "  >This is because `AddOneToEach` is used in `IncrementAndComputeVectorSum`. Including the `vect_add_one.h` header means that the `AddOneToEach` function declaration is pasted into `increment_and_sum.cpp`, so no compiler error will occur when the `AddOneToEach` function is used.\n",
    "  \n",
    "- Only the header file needs to be included in another file. \n",
    "\n",
    "  >As long as the header file is included, the corresponding function declarations will be included. When the compiler finds an undefined function, it has already seen the function's declaration. This means the compiler can continue on without error until it finds the definition of the function, regardless of where that definition is.\n",
    "  \n",
    "- Some libraries, like `<vector>` are included in multiple files.\n",
    "\n",
    "  >Each file is compiled alone and must have all the declarations and libraries necessary to compile, so the necessary libraries must be included. This is another reason why [include guards](https://github.com/isocpp/CppCoreGuidelines/blob/master/CppCoreGuidelines.md#Rs-guards) are important - if multiple headers were included in `main`, each with the same `#include <vector>` statement, you wouldn't want the `vector` header pasted multiple times into the code.\n",
    "  \n",
    "- The `g++` compile command from the \"Run Code\" button is:\n",
    "\n",
    "  ```bash\n",
    "  g++ -std=c++17 ./code/main.cpp ./code/increment_and_sum.cpp ./code/vect_add_one.cpp && ./a.out\n",
    "  ```\n",
    "\n",
    "  >When compiling, each of the relevant `.cpp` files must be included in the compile command. The `-std=c++17` specifies that we are using the C++ 17 standard (which happens automatically in the terminal)."
   ]
  },
  {
   "cell_type": "markdown",
   "metadata": {},
   "source": [
    "`ifndef` tells the compiler that if the particular include is not copied to main, copy it (`#define`) else it\n",
    "exits the include file"
   ]
  },
  {
   "cell_type": "markdown",
   "metadata": {},
   "source": [
    "## Build Systems"
   ]
  },
  {
   "cell_type": "markdown",
   "metadata": {},
   "source": [
    "Organistions dependency, build system type and choice of `IDE`"
   ]
  },
  {
   "cell_type": "code",
   "execution_count": 3,
   "metadata": {},
   "outputs": [],
   "source": [
    "## Cmake and make"
   ]
  },
  {
   "cell_type": "markdown",
   "metadata": {},
   "source": [
    "In the previous notebook, you saw how example code could be split into multiple .h and .cpp files, and you used g++ to build all of the files together. For small projects with a handful of files, this works well. But what would happen if there were hundreds, or even thousands, of files in the project? You could type the names of the files at the command line each time, but there tools to make this easier.\n",
    "\n",
    "Many larger C++ projects use a build system to manage all the files during the build process. The build system allows for large projects to be compiled with a few commands, and build systems are able to do this in an efficient way by only recompiling files that have been changed.\n",
    "\n",
    "In this workspace you will learn about\n",
    "\n",
    "Object files: what actually happens when you run g++.\n",
    "How to use object files to compile only a single file at a time. If you have many files in a project, this will allow you can compile only files that have changed and need to be re-compiled.\n",
    "How to use cmake (and make), a build system which is popular in large C++ projects.CMake will simplify the process of building project and re-compiling only the changed files.\n",
    "\n",
    "https://en.wikipedia.org/wiki/List_of_build_automation_software\n",
    "\n",
    "https://cmake.org/success/"
   ]
  },
  {
   "cell_type": "code",
   "execution_count": 4,
   "metadata": {},
   "outputs": [],
   "source": [
    "## Step1"
   ]
  },
  {
   "cell_type": "markdown",
   "metadata": {},
   "source": [
    "Object Files\n",
    "When you compile a project with g++, g++ actually performs several distinct tasks:\n",
    "\n",
    "1. The preprocessor runs and executes any statement beginning with a hash symbol: #, such as #include statements. This ensures all code is in the correct location and ready to compile.\n",
    "\n",
    "2. Each file in the source code is compiled into an \"object file\" (a .o file). Object files are platform-specific machine code that will be used to create an executable.\n",
    "\n",
    "3. The object files are \"linked\" together to make a single executable. In the examples you have seen so far, this executable is a.out, but you can specify whatever name you want.\n",
    "\n",
    "It is possible to have g++ perform each of the steps separately by using the -c flag. For example,\n",
    "`g++ -c main.cpp`\n",
    "will produce a main.o file, and that file can be converted to an executable with\n",
    "`g++ main.o`\n",
    "\n",
    "\n",
    "`g++ -c main.cpp` generates just the object files(*.o files) for the chosen source files"
   ]
  },
  {
   "cell_type": "markdown",
   "metadata": {},
   "source": [
    "## Step2"
   ]
  },
  {
   "cell_type": "markdown",
   "metadata": {},
   "source": [
    "In the previous example, you compiled a single source code file to an object file, and that object \n",
    "file was then converted into an executable.\n",
    "\n",
    "Now you are going to try the same process with multiple files. Navigate to the multiple_files_example directory in the terminal to the right. This directory should have the increment_and_sum and vect_add_one files from a previous Notebook. Try compiling with the commands below:\n",
    "\n",
    "\n",
    "`root@abc123defg:/home/workspace/multiple_files_example# g++ -c *.cpp`\n",
    "\n",
    "`root@abc123defg:/home/workspace/multiple_files_example# g++ *.o`\n",
    "\n",
    "`root@abc123defg:/home/workspace/multiple_files_example# ./a.out`\n",
    "\n",
    "Here, the * operator is a wildcard, so any matching file is selected.\n",
    "If you compile and run these files together, the executable should print:"
   ]
  },
  {
   "cell_type": "markdown",
   "metadata": {},
   "source": [
    "### Need for build systems\n",
    "\n",
    "But what if you make changes to your code and you need to re-compile? In that case, you can compile only the file that you changed, and you can use the existing object files from the unchanged source files for linking.\n",
    "\n",
    "Try changing the code in /multiple_files_example/main.cpp to have different numbers in the vector and save the file with CTRL-s.\n",
    "\n",
    "When you have done that, re-compile just main.cpp by running:\n",
    "\n",
    "\n",
    "`root@abc123defg:/home/workspace/multiple_files_example# g++ -c main.cpp`\n",
    "\n",
    "`root@abc123defg:/home/workspace/multiple_files_example# g++ *.o`\n",
    "\n",
    "`root@abc123defg:/home/workspace/multiple_files_example# ./a.out`\n",
    "\n",
    "\n",
    "Compiling just the file you have changed saves time if there are many files and compilation takes a long time. However, the process above is tedious when using many files, especially if you don't remember which ones you have modified.\n",
    "\n",
    "For larger projects, it is helpful to use a build system which can compile exactly the right files for you and take care of linking."
   ]
  },
  {
   "cell_type": "markdown",
   "metadata": {},
   "source": [
    "### CMake and Make\n",
    "1. CMake is an open-source, platform-independent build system. \n",
    "\n",
    "2. CMake uses text documents, denoted as  `CMakeLists.txt` files, to manage build environments, like `make`.\n",
    "\n",
    "\n",
    "> `CMakeLists.txt`\n",
    "\n",
    "1. CMakeList.txt files are simple text configuration files that tell CMake how to build your project. \n",
    "\n",
    "2. There can be multiple CMakeLists.txt files in a project.\n",
    "\n",
    "3. In fact, one CMakeList.txt file can be included in each directory of the project, indicating how the files in that directory should be built.\n",
    "\n",
    "4. These files can be used to specify the locations of necessary packages, set build flags and environment variables, specify build target names and locations, and other actions."
   ]
  },
  {
   "cell_type": "markdown",
   "metadata": {},
   "source": [
    "### CMakeList.txt Step1\n",
    "\n",
    "The first lines that you'll want in your CMakeLists.txt are lines that specifies the minimum versions of cmake and C++ required to build the project. Add the following lines to your CMakeLists.txt and save the file:\n",
    "\n",
    "`cmake_minimum_required(VERSION 3.5.1)`\n",
    "\n",
    "`set(CMAKE_CXX_STANDARD 14)`\n",
    "\n",
    "\n",
    "These lines set the minimum cmake version required to 3.5.1 and set the\n",
    "environment variable CMAKE_CXX_STANDARD so CMake uses C++ 14. On your own computer, \n",
    "if you have a recent g++ compiler, you could use C++ 17 instead."
   ]
  },
  {
   "cell_type": "markdown",
   "metadata": {},
   "source": [
    "### CMakeList.txt Step2\n",
    "\n",
    "CMake requires that we name the project, so you should choose a name for the project and then add the following line to CMakeLists.txt:\n",
    "\n",
    "`project(<your_project_name>)`"
   ]
  },
  {
   "cell_type": "markdown",
   "metadata": {},
   "source": [
    "### CMakeList.txt Step3\n",
    "\n",
    "Next, we want to add an executable to this project. You can do that with the add_executable command by \n",
    "specifying the executable name, along with the locations of all the source files that you will need. \n",
    "CMake has the ability to automatically find source files in a directory, but for now, you can just specify \n",
    "each file needed:\n",
    "\n",
    "`add_executable(your_executable_name  path_to_file_1  path_to_file_2 ...)`\n",
    "\n",
    "\n",
    "`Hint`: The source files you need are the three .cpp files in the src/ directory. \n",
    "    You can specify the path relative to the CMakeLists.txt file, so src/main.cpp would work, for example.\n",
    "    "
   ]
  },
  {
   "cell_type": "markdown",
   "metadata": {},
   "source": [
    "### CMakeList.txt Step4\n",
    "\n",
    "A typical CMake project will have a build directory in the same place as the top-level CMakeLists.txt.\n",
    "Make a build directory in the /home/workspace/cmake_example folder:\n",
    "\n",
    "\n",
    "`root@abc123defg:/home/workspace/cmake_example# mkdir build`\n",
    "\n",
    "`root@abc123defg:/home/workspace/cmake_example# cd build`\n",
    "\n",
    "\n",
    "\n",
    "From within the build directory, you can now run CMake as follows:\n",
    "\n",
    "\n",
    "\n",
    "`root@abc123defg:/home/workspace/cmake_example/build# cmake ..`\n",
    "\n",
    "`root@abc123defg:/home/workspace/cmake_example/build# make`\n",
    "\n",
    "\n",
    "The first line directs the cmake command at the top-level CMakeLists.txt file with ... \n",
    "This command uses the CMakeLists.txt to configure the project and create a Makefile in the build directory.\n",
    "\n",
    "In the second line, make finds the Makefile and uses the instructions in the Makefile to build the project."
   ]
  },
  {
   "cell_type": "markdown",
   "metadata": {},
   "source": [
    "### CMakeList.txt Step5\n",
    "\n",
    "Now that your project builds correctly, try modifying one of the files. \n",
    "When you are ready to run the project again, you'll only need to run the make command \n",
    "from the build folder, and only that file will be compiled again. Try it now!\n",
    "\n",
    "In general, CMake only needs to be run once for a project, unless you are changing build options \n",
    "(e.g. using different build flags or changing where you store your files).\n",
    "\n",
    "Make will be able to keep track of which files have changed and compile only those that need to be \n",
    "compiled before building.\n",
    "\n",
    "`Note`: If you do re-run CMake, or if you are having problems with your build, it can be helpful \n",
    "to delete your build directory and start from scratch. Otherwise, some environment variables may \n",
    "not be reset correctly."
   ]
  },
  {
   "cell_type": "markdown",
   "metadata": {},
   "source": [
    "### CMake Review\n",
    "\n",
    "CMake is a build system that uses text files named CMakeLists.txt to configure and build your project. \n",
    "Once the CMakeLists.txt is written, you only need the cmake and make commands to build your project again and again, so it is very convenient to use!"
   ]
  },
  {
   "cell_type": "markdown",
   "metadata": {
    "graffitiCellId": "id_h83uq5h"
   },
   "source": [
    "## References\n",
    "\n",
    "As mentioned previously, a reference is another name given to an existing variable. On the left hand side of any variable declaration, the `&` operator can be used to declare a reference. "
   ]
  },
  {
   "cell_type": "code",
   "execution_count": 8,
   "metadata": {
    "graffitiCellId": "id_tjh2m8z",
    "graffitiConfig": {
     "executeCellViaGraffiti": "id_3q19eh4_cklt1kl"
    }
   },
   "outputs": [
    {
     "ename": "SyntaxError",
     "evalue": "invalid syntax (<ipython-input-8-f6a9f61b79e2>, line 2)",
     "output_type": "error",
     "traceback": [
      "\u001b[0;36m  File \u001b[0;32m\"<ipython-input-8-f6a9f61b79e2>\"\u001b[0;36m, line \u001b[0;32m2\u001b[0m\n\u001b[0;31m    using std::cout;\u001b[0m\n\u001b[0m            ^\u001b[0m\n\u001b[0;31mSyntaxError\u001b[0m\u001b[0;31m:\u001b[0m invalid syntax\n"
     ]
    }
   ],
   "source": [
    "#include <iostream>\n",
    "using std::cout;\n",
    "\n",
    "int main() \n",
    "{\n",
    "    int i = 1;\n",
    "    \n",
    "    // Declare a reference to i.\n",
    "    int& j = i;\n",
    "    cout << \"The value of j is: \" << j << \"\\n\";\n",
    "    \n",
    "    // Change the value of i.\n",
    "    i = 5;\n",
    "    cout << \"The value of i is changed to: \" << i << \"\\n\";\n",
    "    cout << \"The value of j is now: \" << j << \"\\n\";\n",
    "    \n",
    "    // Change the value of the reference.\n",
    "    // Since reference is just another name for the variable,\n",
    "    // th\n",
    "    j = 7;\n",
    "    cout << \"The value of j is now: \" << j << \"\\n\";\n",
    "    cout << \"The value of i is changed to: \" << i << \"\\n\";\n",
    "}"
   ]
  },
  {
   "cell_type": "markdown",
   "metadata": {},
   "source": [
    "## Pointers"
   ]
  },
  {
   "cell_type": "markdown",
   "metadata": {},
   "source": [
    "1. A C++ pointer is just a variable that stores the memory address of an object in your program.\n",
    "\n",
    "2. They essentially keep track of where a variable is stored in the computer's memory.\n",
    "\n",
    "3. However, pointers give you better control over how your program uses memory. \n",
    "\n",
    "4. However, much like the pass-by-reference example that you saw previously, it can often be far more efficient to perform an operation with a pointer to an object than performing the same operation using the object itself."
   ]
  },
  {
   "cell_type": "markdown",
   "metadata": {
    "graffitiCellId": "id_bu6db5l"
   },
   "source": [
    "## Accessing a Memory Address\n",
    "\n",
    "Each variable in a program stores its contents in the computer's memory, and each chunk of the memory has an address number. For a given variable, the memory address can be accessed using an ampersand in front of the variable. To see an example of this, execute the following code which displays the [hexadecimal](https://en.wikipedia.org/wiki/Hexadecimal) memory addresses of the variables `i` and `j`:"
   ]
  },
  {
   "cell_type": "code",
   "execution_count": null,
   "metadata": {
    "graffitiCellId": "id_y37hur1",
    "graffitiConfig": {
     "executeCellViaGraffiti": "mj8723g_rvcpg55"
    }
   },
   "outputs": [],
   "source": [
    "#include <iostream>\n",
    "using std::cout;\n",
    "\n",
    "int main() {\n",
    "    int i = 5;\n",
    "    int j = 6;\n",
    "    \n",
    "    // Print the memory addresses of i and j\n",
    "    cout << \"The address of i is: \" << &i << \"\\n\";\n",
    "    cout << \"The address of j is: \" << &j << \"\\n\";\n",
    "}"
   ]
  },
  {
   "cell_type": "markdown",
   "metadata": {
    "graffitiCellId": "id_gruohao"
   },
   "source": [
    "At this point, you might be wondering why the same symbol `&` can be used to both access memory addresses and, as you've seen before, pass references into a function. This is a great thing to wonder about. The overloading of the ampersand symbol `&` and the `*` symbol probably contribute to much of the confusion around pointers.\n",
    "\n",
    "> **The symbols `&` and `*` have a different meaning, depending on which side of an equation they appear.**\n",
    "\n",
    "_This is extremely important to remember._ `For the `&` symbol, if it appears on the left side of an equation (e.g. when declaring a variable), it means that the variable is declared as a reference. If the `&` appears on the right side of an equation, or before a previously defined variable, it is used to return a memory address, as in the example above.`\n",
    "\n",
    "\n",
    "\n",
    "## Storing a Memory Address (int type)\n",
    "\n",
    "Once a memory address is accessed, you can store it using a pointer. A pointer can be declared by using the `*` operator in the declaration. See the following code for an example:"
   ]
  },
  {
   "cell_type": "code",
   "execution_count": null,
   "metadata": {
    "graffitiCellId": "id_00ll0tt",
    "graffitiConfig": {
     "executeCellViaGraffiti": "fuseufk_9g9v3ka"
    }
   },
   "outputs": [],
   "source": [
    "#include <iostream>\n",
    "using std::cout;\n",
    "\n",
    "int main() \n",
    "{\n",
    "    int i = 5;\n",
    "    // A pointer pointer_to_i is declared and initialized to the address of i.\n",
    "    int* pointer_to_i = &i;\n",
    "    \n",
    "    // Print the memory addresses of i and j\n",
    "    cout << \"The address of i is:          \" << &i << \"\\n\";\n",
    "    cout << \"The variable pointer_to_i is: \" << pointer_to_i << \"\\n\";\n",
    "}"
   ]
  },
  {
   "cell_type": "markdown",
   "metadata": {
    "graffitiCellId": "id_v4u029z"
   },
   "source": [
    "As you can see from the code, the variable `pointer_to_i` is declared as a pointer to an `int` using the `*` symbol, and `pointer_to_i` is set to the address of `i`. From the printout, it can be seen that `pointer_to_i` holds the same value as the address of `i`."
   ]
  },
  {
   "cell_type": "markdown",
   "metadata": {
    "graffitiCellId": "id_so62cq6"
   },
   "source": [
    "## Getting an Object Back from a Pointer Address\n",
    "\n",
    "Once you have a pointer, you may want to retrieve the object it is pointing to. In this case, the `*` symbol can be used again. This time, however, it will appear on the right hand side of an equation or in front of an already-defined variable, so the meaning is different. In this case, it is called the \"dereferencing operator\", and it returns the object being pointed to. You can see how this works with the code below:"
   ]
  },
  {
   "cell_type": "code",
   "execution_count": null,
   "metadata": {
    "graffitiCellId": "id_eakyuf0",
    "graffitiConfig": {
     "executeCellViaGraffiti": "wemey0a_5aovsp9"
    }
   },
   "outputs": [],
   "source": [
    "#include <iostream>\n",
    "using std::cout;\n",
    "\n",
    "int main() \n",
    "{\n",
    "    int i = 5;\n",
    "    // A pointer pointer_to_i is declared and initialized to the address of i.\n",
    "    int* pointer_to_i = &i;\n",
    "    \n",
    "    // Print the memory addresses of i and j\n",
    "    cout << \"The address of i is:          \" << &i << \"\\n\";\n",
    "    cout << \"The variable pointer_to_i is: \" << pointer_to_i << \"\\n\";\n",
    "    cout << \"The value of the variable pointed to by pointer_to_i is: \" << *pointer_to_i << \"\\n\";\n",
    "}"
   ]
  },
  {
   "cell_type": "markdown",
   "metadata": {
    "graffitiCellId": "id_4e5xgrg"
   },
   "source": [
    "In the following example, the code is similar to above, except that the object that is being pointed to is changed before the pointer is dereferenced. Before executing the following code, guess what you think will happen to the value of the dereferenced pointer."
   ]
  },
  {
   "cell_type": "code",
   "execution_count": null,
   "metadata": {
    "graffitiCellId": "id_b5yw6n2",
    "graffitiConfig": {
     "executeCellViaGraffiti": "jmbies1_irsnop3"
    }
   },
   "outputs": [],
   "source": [
    "#include <iostream>\n",
    "using std::cout;\n",
    "\n",
    "int main() {\n",
    "    int i = 5;\n",
    "    // A pointer pointer_to_i is declared and initialized to the address of i.\n",
    "    int* pointer_to_i = &i;\n",
    "    \n",
    "    // Print the memory addresses of i and j\n",
    "    cout << \"The address of i is:          \" << &i << \"\\n\";\n",
    "    cout << \"The variable pointer_to_i is: \" << pointer_to_i << \"\\n\";\n",
    "    \n",
    "    // The value of i is changed.\n",
    "    //i = 7;\n",
    "    *pointer_to_i = 20;\n",
    "    cout << \"The new value of the variable i is                     : \" << i << \"\\n\";\n",
    "    cout << \"The value of the variable pointed to by pointer_to_i is: \" << *pointer_to_i << \"\\n\";\n",
    "}"
   ]
  },
  {
   "cell_type": "markdown",
   "metadata": {
    "graffitiCellId": "id_3wband5"
   },
   "source": [
    "As you can see, an object or variable can be changed while a pointer is pointing to it."
   ]
  },
  {
   "cell_type": "markdown",
   "metadata": {
    "graffitiCellId": "id_fjxs0j8"
   },
   "source": [
    "## Pointers to Other Object Types\n",
    "\n",
    "Although the type of object being pointed to must be included in a pointer declaration, pointers hold the same kind of value for every type of object: just a memory address to where the object is stored. In the following code, a vector is declared. Write your own code to create a pointer to the address of that vector. Then, dereference your pointer and print the value of the first item in the vector."
   ]
  },
  {
   "cell_type": "code",
   "execution_count": null,
   "metadata": {
    "graffitiCellId": "id_e6hefyy",
    "graffitiConfig": {
     "executeCellViaGraffiti": "319d11b_6cnfxb6"
    }
   },
   "outputs": [],
   "source": [
    "#include <iostream>\n",
    "#include <vector>\n",
    "using std::cout;\n",
    "using std::vector;\n",
    "\n",
    "int main() {\n",
    "    // Vector v is declared and initialized to {1, 2, 3}\n",
    "    vector<int> v {1, 2, 3};\n",
    "    \n",
    "    // Declare and initialize a pointer to the address of v here:\n",
    "    vector<int> *vector_pointer = &v;\n",
    "    \n",
    "    // The following loops over each int a in the vector v and prints.\n",
    "    // Note that this uses a \"range-based\" for loop:\n",
    "    // https://github.com/isocpp/CppCoreGuidelines/blob/master/CppCoreGuidelines.md#Res-for-range\n",
    "    for (int a: v) {\n",
    "        cout << a << \"\\n\";\n",
    "    }\n",
    "    \n",
    "    // Dereference your pointer to v and print the int at index 0 here (note: you should print 1):\n",
    "    cout << \"First value is \" << (*vector_pointer)[2] << \"\\n\";\n",
    "}"
   ]
  },
  {
   "cell_type": "markdown",
   "metadata": {
    "graffitiCellId": "id_011lvmp"
   },
   "source": [
    "Hint: If you've created a pointer to `v`, say `pv`, you can retrieve `v` with `(*pv)`.\n",
    "\n",
    "## Passing Pointers to a Function\n",
    "\n",
    "Pointers can be used in another form of pass-by-reference when working with functions. When used in this context, they work much like the references that you used for pass-by reference previously. If the pointer is pointing to a large object, it can be much more efficient to pass the pointer to a function than to pass a copy of the object as with pass-by-value.\n",
    "\n",
    "In the following code, a pointer to an int is created, and that pointer is passed to a function. The object pointed to is then modified in the function."
   ]
  },
  {
   "cell_type": "code",
   "execution_count": null,
   "metadata": {
    "graffitiCellId": "id_gchj01b",
    "graffitiConfig": {
     "executeCellViaGraffiti": "gbr1alm_tjl2yw0"
    }
   },
   "outputs": [],
   "source": [
    "#include <iostream>\n",
    "using std::cout;\n",
    "\n",
    "void AddOne(int* j)\n",
    "{\n",
    "    // Dereference the pointer and increment the int being pointed to.\n",
    "    (*j)++;\n",
    "}\n",
    "\n",
    "int main() \n",
    "{\n",
    "    int i = 1;\n",
    "    cout << \"The value of i is: \" << i << \"\\n\";\n",
    "    \n",
    "    // Declare a pointer to i:\n",
    "    int* pi = &i;\n",
    "    AddOne(pi);\n",
    "    cout << \"The value of i is now: \" << i << \"\\n\";\n",
    "}"
   ]
  },
  {
   "cell_type": "markdown",
   "metadata": {
    "graffitiCellId": "id_n07h230"
   },
   "source": [
    "When using pointers with functions, some care should be taken. If a pointer is passed to a function and then assigned to a variable in the function that goes out of scope after the function finishes executing, then the pointer will have undefined behavior at that point - the memory it is pointing to might be overwritten by other parts of the program."
   ]
  },
  {
   "cell_type": "markdown",
   "metadata": {
    "graffitiCellId": "id_h83uq5h"
   },
   "source": [
    "## Returning a Pointer from a Function\n",
    "\n",
    "You can also return a pointer from a function. As mentioned just above, if you do this, you must be careful that the object being pointed to doesn't go out of scope when the function finishes executing. If the object goes out of scope, the memory address being pointed to might then be used for something else.\n",
    "\n",
    "In the example below, a reference is passed into a function and a pointer is returned. This is safe since the pointer being returned points to a reference - a variable that exists outside of the function and will not go out of scope in the function."
   ]
  },
  {
   "cell_type": "code",
   "execution_count": null,
   "metadata": {
    "graffitiCellId": "id_tjh2m8z",
    "graffitiConfig": {
     "executeCellViaGraffiti": "3q19eh4_cklt1kl"
    }
   },
   "outputs": [],
   "source": [
    "#include <iostream>\n",
    "using std::cout;\n",
    "\n",
    "int* AddOne(int &j) \n",
    "{\n",
    "    // Increment the referenced int and return the\n",
    "    // address of j.\n",
    "    j++;\n",
    "    return &j;\n",
    "}\n",
    "\n",
    "int main() \n",
    "{\n",
    "    int i = 1;\n",
    "    cout << \"The value of i is: \" << i << \"\\n\";\n",
    "    \n",
    "    // Declare a pointer and initialize to the value\n",
    "    // returned by AddOne:\n",
    "    int *my_pointer = AddOne(i);\n",
    "    cout << \"The value of i is now: \" << i << \"\\n\";\n",
    "    cout << \"The value of the int pointed to by my_pointer is: \" << *my_pointer << \"\\n\";\n",
    "}"
   ]
  },
  {
   "cell_type": "markdown",
   "metadata": {},
   "source": []
  },
  {
   "cell_type": "markdown",
   "metadata": {},
   "source": [
    "#### Basically, pointer is a machine address with a type assoicated with it at compile time\n",
    "\n",
    "\n",
    "### References vs Pointers\n",
    "\n",
    "1. Pointers and references can have similar use cases in C++. \n",
    "\n",
    "2. As seen previously both references and pointers can be used in pass-by-reference to a function. \n",
    "\n",
    "3. Additionally, they both provide an alternative way to access an existing variable: pointers through the variable's address, and references through another name for that variable.\n",
    "\n",
    "\n",
    "\n",
    "#### References\n",
    "\n",
    "1. References must be initialized when they are declared. This means that a reference will always point to data that was intentionally assigned to it.\n",
    "\n",
    "2. References can not be null. This means that a reference should point to meaningful data in the program.\n",
    "\n",
    "3. When used in a function for pass-by-reference, the reference can be used just as a variable of the same type would be.\t\n",
    "\n",
    "4. References are generally easier and safer than pointers. As a decent rule of thumb, references should be used in place of pointers when possible.\n",
    "\n",
    "\n",
    "\n",
    "#### Pointers\n",
    "\n",
    "1. Pointers can be declared without being initialized, which is dangerous. If this happens mistakenly, the pointer could be pointing to an arbitrary address in memory, and the data associated with that address could be meaningless, leading to undefined behavior and difficult-to-resolve bugs.\n",
    "\n",
    "2. Pointers can be null. In fact, if a pointer is not initialized immediately, it is often best practice to initialize to nullptr, a special type which indicates that the pointer is null.\n",
    "\n",
    "3. When used in a function for pass-by-reference, a pointer must be dereferenced in order to access the underlying object.\n",
    "\n",
    "\n",
    "However, there are times when it is not possible to use references. One example is object initialization. \n",
    "You might like one object to store a reference to another object. However, if the other object is not yet available when the first object is created, then the first object will need to use a pointer, not a reference, since a reference cannot be null. The reference could only be initialized once the other object is created.\n",
    "\n",
    "\n",
    "##### References cant point to other object. it can be used to refer to one object, whereas pointer can point to another object (when operated upon - results from hardware design, desirable to lowlevel but not high level"
   ]
  },
  {
   "cell_type": "markdown",
   "metadata": {},
   "source": [
    "## Dictionary"
   ]
  },
  {
   "cell_type": "markdown",
   "metadata": {},
   "source": [
    "So far in this course you have seen container data structures, like the vector and the array. \n",
    "Additionally, you have used classes in your code for this project. \n",
    "Container data structures are fantastic for storing ordered data, and classes are useful for \n",
    "grouping related data and functions together, but neither of these data structures is optimal \n",
    "for storing associated data.\n",
    "\n",
    "#### Dictionary Example\n",
    "\n",
    "https://en.wikipedia.org/wiki/Hash_table\n",
    "\n",
    "A map (alternatively hash table, hash map, or dictionary) is a data structure that uses key/value pairs to store data, and provides efficient lookup and insertion of the data. The name \"dictionary\" should provide an excellent idea of how these work, since a dictionary is a real life example of a map. Here is a slightly edited entry from www.dictionary.com defining the word \"word\":\n",
    "\n",
    "word\n",
    "\n",
    "a unit of language, consisting of one or more spoken sounds or their written representation, that functions as a principal carrier of meaning.\n",
    "speech or talk: to express one's emotion in words.\n",
    "a short talk or conversation: \"Marston, I'd like a word with you.\"\n",
    "an expression or utterance: a word of warning.\n",
    "Data Representation\n",
    "If you were to store this data in your program, you would probably want to be able to quickly look up the definitions using the key \"word\". With a map, a vector of definitions could be stored as the value corresponding to the \"word\" key:\n",
    "\n",
    "Key string\tValue vector<string>\n",
    "\"word\"\t<\"a unit of language, consisting of one or more spoken sounds or their written representation, that functions as a principal carrier of meaning.\", \"speech or talk: to express one's emotion in words.\", \"a short talk or conversation: 'Marston, I'd like a word with you.'\", \"an expression or utterance: a word of warning.\">'\n",
    "In the following notebook, you will learn how to use an unordered_map, which is the C++ standard library implementation of a map. Although C++ has several different implementations of map data structures which are similar, unordered_map is the structure that you will use in your project."
   ]
  },
  {
   "cell_type": "markdown",
   "metadata": {
    "graffitiCellId": "id_svuu749"
   },
   "source": [
    "## Dictionary Example in Code\n",
    "\n",
    "In the cell below, we have created a hash table (`unordered_map`) to store the data from the example above. To create an `unordered_map` in C++, you must include the `<unordered_map>` header, and the sytnax for declaring an `unordered_map` is as follows:\n",
    "```cpp\n",
    "unordered_map <key_type, value_type> variable_name;\n",
    "```\n",
    "In the code below, we check if the `key` is in the `unordered_map` using the `.find()` method. If the key does not exist in the map, then `.find()` returns an `unordered_map::end()` type. Otherwise, `.find()` returns a [C++ iterator](http://www.cplusplus.com/reference/iterator/), which is a pointer that points to the beginning of the iterable key-value pair. \n",
    "\n",
    "We haven't covered iterators in this course, and you won't need them for this project, but they are a lot like pointers that can \"iterate\" forward or backward through a range."
   ]
  },
  {
   "cell_type": "code",
   "execution_count": null,
   "metadata": {
    "graffitiCellId": "id_u06vk9i",
    "graffitiConfig": {
     "executeCellViaGraffiti": "8w7cwxq_s5dyw48"
    }
   },
   "outputs": [],
   "source": [
    "#include <iostream>\n",
    "#include <vector>\n",
    "#include <unordered_map>\n",
    "#include <string>\n",
    "using std::vector;\n",
    "using std::cout;\n",
    "using std::unordered_map;\n",
    "using std::string;\n",
    "\n",
    "\n",
    "int main() {\n",
    "    // Create strings to use in the hash table.\n",
    "    string key = \"word\";\n",
    "    string def_1 = \"a unit of language, consisting of one or more spoken sounds or their written representation, that functions as a principal carrier of meaning\";\n",
    "    string def_2 = \"speech or talk: to express one's emotion in words\";\n",
    "    string def_3 = \"a short talk or conversation: 'Marston, I'd like a word with you.'\";\n",
    "    string def_4 = \"an expression or utterance: a word of warning\";\n",
    "    unordered_map <string, vector<string>> my_dictionary;\n",
    "\n",
    "    // Check if key is in the hash table.\n",
    "    if (my_dictionary.find(key) == my_dictionary.end()) {\n",
    "        cout << \"The key 'word' is not in the dictionary.\" << \"\\n\";\n",
    "        cout << \"Inserting a key-value pair into the dictionary.\" << \"\\n\\n\";\n",
    "        // Set the value for the key.\n",
    "        my_dictionary[key] = vector<string> {def_1, def_2, def_3, def_4};\n",
    "    }\n",
    "\n",
    "    // The key should now be in the hash table. You can access the\n",
    "    // value corresponding to the key with square brackets [].\n",
    "    // Here, the value my_dictionary[key] is a vector of strings.\n",
    "    // We iterate over the vector and print the strings.\n",
    "    cout << key << \": \\n\";\n",
    "    auto definitions = my_dictionary[key];\n",
    "    for (string definition : definitions) {\n",
    "        cout << definition << \"\\n\";\n",
    "    }\n",
    "}\n"
   ]
  },
  {
   "cell_type": "markdown",
   "metadata": {},
   "source": [
    "## Classes and Object-Oriented Programming\n",
    "\n",
    "1. OOP is a style of coding that collects related data (object attributes) and functions (object methods) together to form a single data structure, called an object. \n",
    "\n",
    "2. This allows that collection of attributes and methods to be used repeatedly in your program without code repetition.\n",
    "\n",
    "3. In C++ the attributes and methods that make up an object are specified in a code class, and each object in the program is an instance of that class."
   ]
  },
  {
   "cell_type": "markdown",
   "metadata": {
    "graffitiCellId": "id_joftlv7"
   },
   "source": [
    "## Code without Objects\n",
    "\n",
    "Suppose you were writing a program to model several cars. In your program, you want to keep track of each car's color and the distance the car has traveled, and you want to be able to increment this distance and print out the car's properties. You could write something like the code below to accomplish this: "
   ]
  },
  {
   "cell_type": "code",
   "execution_count": null,
   "metadata": {
    "graffitiCellId": "id_7cbs24z",
    "graffitiConfig": {
     "executeCellViaGraffiti": "vmcybyn_tj2haa7"
    }
   },
   "outputs": [],
   "source": [
    "#include <iostream>\n",
    "#include <string>\n",
    "using std::string;\n",
    "using std::cout;\n",
    "\n",
    "int main() \n",
    "{\n",
    "    // Variables to hold each car's color.\n",
    "    string car_1_color = \"green\";\n",
    "    string car_2_color = \"red\";\n",
    "    string car_3_color = \"blue\";\n",
    "\n",
    "    // Variables to hold each car's initial position.\n",
    "    int car_1_distance = 0;\n",
    "    int car_2_distance = 0;\n",
    "    int car_3_distance = 0;\n",
    "\n",
    "    // Increment car_1's position by 1.\n",
    "    car_1_distance++;\n",
    "\n",
    "    // Print out the position and color of each car.\n",
    "    cout << \"The distance that the \" << car_1_color << \" car 1 has traveled is: \" << car_1_distance << \"\\n\";\n",
    "    cout << \"The distance that the \" << car_2_color << \" car 2 has traveled is: \" << car_2_distance << \"\\n\";\n",
    "    cout << \"The distance that the \" << car_3_color << \" car 3 has traveled is: \" << car_3_distance << \"\\n\";\n",
    "\n",
    "}"
   ]
  },
  {
   "cell_type": "markdown",
   "metadata": {
    "graffitiCellId": "id_w8xkqts"
   },
   "source": [
    "This works for the few cars that are defined in the program, but if you wanted the program to keep track of _many_ cars this would be cumbersome. You would need to create a new variables for every car, and the code would quickly become cluttered. One way to fix this would be to define a `Car` class with those variables as attributes, along with a few class methods to increment the distance traveled and print out car data."
   ]
  },
  {
   "cell_type": "markdown",
   "metadata": {
    "graffitiCellId": "id_qgadqxy"
   },
   "source": [
    "## Code with Objects\n",
    "\n",
    "In the next cell, the code above has been rewritten with a `Car` class."
   ]
  },
  {
   "cell_type": "code",
   "execution_count": null,
   "metadata": {
    "graffitiCellId": "id_lnrqfon",
    "graffitiConfig": {
     "executeCellViaGraffiti": "fvoonx8_jodq5ou"
    }
   },
   "outputs": [],
   "source": [
    "#include <iostream>\n",
    "#include <string>\n",
    "using std::string;\n",
    "using std::cout;\n",
    "\n",
    "// The Car class\n",
    "class Car {\n",
    "  public:\n",
    "    // Method to print data.\n",
    "    void PrintCarData() \n",
    "    {\n",
    "        cout << \"The distance that the \" << color << \" car \" << number << \" has traveled is: \" << distance << \"\\n\";\n",
    "    }\n",
    "    \n",
    "    // Method to increment the distance travelled.\n",
    "    void IncrementDistance() \n",
    "    {\n",
    "        distance++;\n",
    "    }\n",
    "    \n",
    "    // Class/object attributes\n",
    "    string color;\n",
    "    int distance = 0;\n",
    "    int number;\n",
    "};\n",
    "\n",
    "int main() \n",
    "{\n",
    "    // Create class instances for each car.\n",
    "    Car car_1, car_2, car_3;\n",
    "\n",
    "    // Set each instance's color.\n",
    "    car_1.color = \"green\";\n",
    "    car_2.color = \"red\";\n",
    "    car_3.color = \"blue\";\n",
    "\n",
    "    // Set each instance's number.\n",
    "    car_1.number = 1;\n",
    "    car_2.number = 2;\n",
    "    car_3.number = 3;\n",
    "\n",
    "    // Increment car_1's position by 1.\n",
    "    car_1.IncrementDistance();\n",
    "\n",
    "    // Print out the position and color of each car.\n",
    "    car_1.PrintCarData();\n",
    "    car_2.PrintCarData();\n",
    "    car_3.PrintCarData();\n",
    "\n",
    "}"
   ]
  },
  {
   "cell_type": "markdown",
   "metadata": {
    "graffitiCellId": "id_74gfu3x"
   },
   "source": [
    "This looks ok, and you have reduced the number of variables in `main`, so you might see how this could be more organized going forward. However, there is now a lot more code than you started with, and the `main` doesn't seem much more organzied. The code above still sets the attributes for each car after the car has been created.\n",
    "\n",
    "### Adding a Constructor\n",
    "\n",
    "The best way to fix this is to add a _constructor_ to the `Car`  class. The constructor allows you to instantiate new objects with the data that you want. In the next code cell, we have added a constructor for `Car` that allows the `number` and `color` to be passed in. This means that each `Car` object can be created with those variables."
   ]
  },
  {
   "cell_type": "code",
   "execution_count": null,
   "metadata": {
    "graffitiCellId": "id_sq4030y",
    "graffitiConfig": {
     "executeCellViaGraffiti": "j4zxcn7_qhlgzj4"
    }
   },
   "outputs": [],
   "source": [
    "#include <iostream>\n",
    "#include <string>\n",
    "using std::string;\n",
    "using std::cout;\n",
    "\n",
    "class Car {\n",
    "  public:\n",
    "    void PrintCarData() \n",
    "    {\n",
    "        cout << \"The distance that the \" << color << \" car \" << number << \" has traveled is: \" << distance << \"\\n\";\n",
    "    }\n",
    "\n",
    "    void IncrementDistance() \n",
    "    {\n",
    "        distance++;\n",
    "    }\n",
    "    \n",
    "    // Adding a constructor here:\n",
    "    Car(string c, int n, int d) : color(c), number(n), distance(d)\n",
    "    {}\n",
    "    \n",
    "    string color;\n",
    "    int distance = 0;\n",
    "    int number;\n",
    "};\n",
    "\n",
    "int main() \n",
    "{\n",
    "    // Create class instances for each car.\n",
    "    Car car_1 = Car(\"green\", 1, 100);\n",
    "    Car car_2 = Car(\"red\", 2, 200);\n",
    "    Car car_3 = Car(\"blue\", 3, 300);\n",
    "\n",
    "    // Increment car_1's position by 1.\n",
    "    car_1.IncrementDistance();\n",
    "\n",
    "    // Print out the position and color of each car.\n",
    "    car_1.PrintCarData();\n",
    "    car_2.PrintCarData();\n",
    "    car_3.PrintCarData();\n",
    "}"
   ]
  },
  {
   "cell_type": "markdown",
   "metadata": {
    "graffitiCellId": "id_00pxxb7"
   },
   "source": [
    "This is now beginning to look better. The `main` is more organized than when we first started, although there is a little more code overall to accomodate the class definition. At this point, you might want to separate your class definition into it's own `.h` and `.cpp` files. We'll do that in the next concept!"
   ]
  },
  {
   "cell_type": "markdown",
   "metadata": {},
   "source": [
    "#### Under private, you can't get access to the variables outside it; need to be delcared as public. certain helper functions are declared as public usually"
   ]
  },
  {
   "cell_type": "code",
   "execution_count": null,
   "metadata": {},
   "outputs": [],
   "source": []
  },
  {
   "cell_type": "code",
   "execution_count": null,
   "metadata": {},
   "outputs": [],
   "source": []
  },
  {
   "cell_type": "markdown",
   "metadata": {},
   "source": [
    "### This Pointer\n",
    "\n",
    "When working with classes it is often helpful to be able to refer to the current class instance or object. For example, given the following Car class from a previous lesson, the IncrementDistance() method implicitly refers to the current Car instance's distance attribute:\n",
    "\n",
    "`Car class w/o this pointer`\n",
    "\n",
    "```cpp\n",
    "class Car {\n",
    "  public:\n",
    "    // Method to print data.\n",
    "    void PrintCarData() {\n",
    "        cout << \"The distance that the \" << color << \" car \" << number << \" has traveled is: \" << distance << \"\\n\";\n",
    "    }\n",
    "\n",
    "    // Method to increment the distance travelled.\n",
    "    void IncrementDistance() {\n",
    "        distance++;\n",
    "    }\n",
    "\n",
    "    // Class/object attributes\n",
    "    string color;\n",
    "    int distance = 0;\n",
    "    int number;\n",
    "};\n",
    "```\n",
    "\n",
    "It is possible to make this explicit in C++ by using the this pointer, which points to the current class instance. Using this can sometimes be helpful to add clarity to more complicated code:\n",
    "\n",
    "\n",
    "`Car class with this pointer`\n",
    "\n",
    "\n",
    "```cpp\n",
    "class Car {\n",
    "  public:\n",
    "    // Method to print data.\n",
    "    void PrintCarData() {\n",
    "        cout << \"The distance that the \" << this->color << \" car \" << this->number << \" has traveled is: \" << this->distance << \"\\n\";\n",
    "    }\n",
    "\n",
    "    // Method to increment the distance travelled.\n",
    "    void IncrementDistance() {\n",
    "        this->distance++;\n",
    "    }\n",
    "\n",
    "    // Class/object attributes\n",
    "    string color;\n",
    "    int distance = 0;\n",
    "    int number;\n",
    "};\n",
    "```\n",
    "Note: you may see this used in some code in the remainder of the course.\n",
    "\n"
   ]
  },
  {
   "cell_type": "code",
   "execution_count": null,
   "metadata": {},
   "outputs": [],
   "source": []
  }
 ],
 "metadata": {
  "kernelspec": {
   "display_name": "Python 3",
   "language": "python",
   "name": "python3"
  },
  "language_info": {
   "codemirror_mode": {
    "name": "ipython",
    "version": 3
   },
   "file_extension": ".py",
   "mimetype": "text/x-python",
   "name": "python",
   "nbconvert_exporter": "python",
   "pygments_lexer": "ipython3",
   "version": "3.7.4"
  }
 },
 "nbformat": 4,
 "nbformat_minor": 2
}
