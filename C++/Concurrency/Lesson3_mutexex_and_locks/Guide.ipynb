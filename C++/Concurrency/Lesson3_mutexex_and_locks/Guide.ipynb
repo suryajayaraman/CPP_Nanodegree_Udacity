{
 "cells": [
  {
   "cell_type": "markdown",
   "metadata": {
    "editable": false
   },
   "source": [
    "# Using a Mutex To Protect Shared Data\n",
    "\n",
    "## The mutex entity\n",
    "\n",
    "Until now, the methods we have used to pass data between threads were short-term and involved passing an argument (the promise) from a parent thread to a worker thread and then passing a result back to the parent thread (via the future) once it has become available. The promise-future construct is a non-permanent communication channel for one-time usage.\n",
    "\n",
    "We have seen that in order to avoid data races, we need to either forego accessing shared data or use it in read-only access without mutating the data. In this chapter, we want to look at a way to establish a stable long-term communication channel that allows for both sharing and mutation. Ideally, we would like to have a communication protocol that corresponds to voice communication over a radio channel, where the transmitter uses the expression \"over\" to indicate the end of the transmission to the receiver. By using such a protocol, sender and receiver can take turns in transmitting their data. In C++, this concept of taking turns can be constructed by an entity called a \"mutex\" - which stands for MUtual EXclusion.\n",
    "\n",
    "Recall that a data race requires simultaneous access from two threads. If we can guarantee that only a single thread at a time can access a particular memory location, data races would not occur. In order for this to work, we would need to establish a communication protocol. It is important to note that a mutex is not the solution to the data race problem per se but merely an enabler for a thread-safe communication protocol that has to be implemented and adhered to by the programmer.\n",
    "\n",
    "<img src=\"images/C4-2-A2.png\"></img>\n",
    "\n",
    "Let us take a look at how this protocol works: Assuming we have a piece of memory (e.g. a shared variable) that we want to protect from simultaneous access, we can assign a mutex to be the guardian of this particular memory. It is important to understand that a mutex is bound to the memory it protects. A thread 1 who wants to access the protected memory must \"lock\" the mutex first. After thread 1 is \"under the lock\", a thread 2 is blocked from access to the shared variable, it can not acquire the lock on the mutex and is temporarily suspended by the system.\n",
    "\n",
    "Once the reading or writing operation of thread 1 is complete, it must \"unlock\" the mutex so that thread 2 can access the memory location. Often, the code which is executed \"under the lock\" is referred to as a \"critical section\". It is important to note that also read-only access to the shared memory has to lock the mutex to prevent a data race - which would happen when another thread, who might be under the lock at that time, were to modify the data.\n",
    "\n",
    "When several threads were to try to acquire and lock the mutex, only one of them would be successful. All other threads would automatically be put on hold - just as cars waiting at an intersection for a green light (see the final project of this course). Once the thread who has succeeded in acquiring the lock had finished its job and unlocked the mutex, a queued thread waiting for access would be woken up and allowed to lock the mutex to proceed with his read / write operation. If all threads were to follow this protocol, a data race would effectively be avoided. Before we take a closer look at such a protocol, let us analyze a code example next."
   ]
  },
  {
   "cell_type": "markdown",
   "metadata": {
    "editable": false
   },
   "source": [
    "<!--\n",
    "%%ulab_page_divider\n",
    "--><hr/>"
   ]
  },
  {
   "cell_type": "markdown",
   "metadata": {
    "editable": false
   },
   "source": [
    "<img src=\"images/C4-2-A2a.png\"></img>\n",
    "\n",
    "This code builds on some of the classes we have seen in the previous lesson project - the concurrent traffic simulation. There is a class Vehicle that has a single data member (`int _id`). Also, there is a class WaitingVehicles, which is supposed to store a number of vehicles in an internal vector. Note that contrary to the lesson project, a vehicle is moved into the vector using an rvalue reference. Also note that the push_back function is commented out here. The reason for this is that we are trying to provoke a data race - leaving push_back active would cause the program to crash (we will comment it in later). This is also the reason why there is an auxiliary member `_tmpVehicles`, which will be used to count the number of Vehicles added via calls to `pushBack()`. This temporary variable will help us expose the data race without crashing the program.\n",
    "\n",
    "In `main()`, a for-loop is used to launch a large number of tasks who all try to add a newly created Vehicle to the queue. Running the program synchronously with launch option `std::launch::deferred` generates the following output on the console:\n",
    "\n",
    "<img src=\"images/DraggedImage.png\"></img>\n",
    "\n",
    "Just as one would have expected, each task inserted an element into the queue with the total number of vehicles amounting to 1000.\n",
    "\n",
    "Now let us enforce a concurrent behavior and change the launch option to `std::launch::async`. This generates the following output (with different results each time):\n",
    "\n",
    "<img src=\"images/DraggedImage-1.png\"></img>\n",
    "\n",
    "It seems that not all the vehicles could be added to the queue. But why is that? Note that in the thread function \"pushBack\" there is a call to `sleep_for`, which pauses the thread execution for a short time. This is the position where the data race occurs: First, the current value of `_tmpVehicles` is stored in a temporary variable `oldNum`. While the thread is paused, there might (and will) be changes to `_tmpVehicles` performed by other threads. When the execution resumes, the former value of `_tmpVehicles` is written back, thus invalidating the contribution of all the threads who had write access in the mean time. Interestingly, when `sleep_for` is commented out, the output of the program is the same as with `std::launch::deferred` - at least that will be the case for most of the time when we run the program. But once in a while, there might be a scheduling constellation which causes the bug to expose itself. Apart from understanding the data race, you should take as an advice that introducing deliberate time delays in the testing / debugging phase of development can help expose many concurrency bugs."
   ]
  },
  {
   "cell_type": "markdown",
   "metadata": {
    "editable": false
   },
   "source": [
    "<!--\n",
    "%%ulab_page_divider\n",
    "--><hr/>"
   ]
  },
  {
   "cell_type": "markdown",
   "metadata": {
    "editable": false
   },
   "source": [
    "## Using mutex to protect data\n",
    "\n",
    "In its simplest form, using a mutex consists of four straight-forward steps:\n",
    "\n",
    "1.  Include the `<mutex>` header\n",
    "2.  Create an `std::mutex`\n",
    "3.  Lock the mutex using `lock()` before read/write is called\n",
    "4.  Unlock the mutex after the read/write operation is finished using `unlock()`\n",
    "\n",
    "In order to protect the access to `_vehicles` from being manipulated by several threads at once, a mutex has been added to the class as a private data member. In the `pushBack` function, the mutex is locked before a new element is added to the vector and unlocked after the operation is complete.\n",
    "\n",
    "Note that the mutex is also locked in the function printSize just before printing the size of the vector. The reason for this lock is two-fold: First, we want to prevent a data race that would occur when a read-access to the vector and a simultaneous write access (even when under the lock) would occur. And second, we want to exclusively reserve the standard output to the console for printing the vector size without other threads printing to it at the same time.\n",
    "\n",
    "When this code is executed, 1000 elements will be in the vector. By using a mutex to our shared resource, a data race has been effectively avoided.\n",
    "\n",
    "<img src=\"images/C4-2-A3a.png\"></img>"
   ]
  },
  {
   "cell_type": "markdown",
   "metadata": {
    "editable": false
   },
   "source": [
    "<!--\n",
    "%%ulab_page_divider\n",
    "--><hr/>"
   ]
  },
  {
   "cell_type": "markdown",
   "metadata": {
    "editable": false
   },
   "source": [
    "## Using timed_mutex\n",
    "\n",
    "In the following, a short overview of the different available mutex types is given:\n",
    "\n",
    "*   `mutex`: provides the core functions lock() and unlock() and the non-blocking try_lock() method that returns if the mutex is not available.\n",
    "*   `recursive_mutex`: allows multiple acquisitions of the mutex from the same thread.\n",
    "*   `timed_mutex`: similar to mutex, but it comes with two more methods try_lock_for() and try_lock_until() that try to acquire the mutex for a period of time or until a moment in time is reached.\n",
    "*   `recursive_timed_mutex`: is a combination of timed_mutex and recursive_mutex.\n",
    "\n",
    "## Exercise\n",
    "\n",
    "Please adapt the code from the previous example (example_2.cpp) in a way that a `timed_mutex` is used. Also, in the function pushBack, please use the method `try_lock_for` instead of lock, which should be executed until a maximum number of attempts is reached (e.g. 3 times) or until it succeeds. When an attempt fails, you should print an error message to the console that also contains the respective vehicle id and then put the thread to sleep for an amount of time before the next attempt is trief. Also, to expose the timing issues in this example, please introduce a call to sleep_for with a delay of several milliseconds before releasing the lock on the mutex. When done, experiment with the timing parameters to see how many vehicles will be added to the vector in the end."
   ]
  },
  {
   "cell_type": "markdown",
   "metadata": {
    "editable": false,
    "toggleable": true,
    "ulab": {
     "buttons": {
      "ulab-button-toggle-10158b7b": {
       "style": "primary"
      }
     }
    }
   },
   "source": [
    "```cpp\n",
    "#include <iostream>\n",
    "#include <thread>\n",
    "#include <vector>\n",
    "#include <future>\n",
    "#include <mutex>\n",
    "\n",
    "class Vehicle\n",
    "{\n",
    "public:\n",
    "    Vehicle(int id) : _id(id) {}\n",
    "    int getID() { return _id; }\n",
    "\n",
    "private:\n",
    "    int _id;\n",
    "};\n",
    "\n",
    "class WaitingVehicles\n",
    "{\n",
    "public:\n",
    "    WaitingVehicles() {}\n",
    "\n",
    "    // getters / setters\n",
    "    void printSize()\n",
    "    {\n",
    "        _mutex.lock();\n",
    "        std::cout << \"#vehicles = \" << _vehicles.size() << std::endl;\n",
    "        _mutex.unlock();\n",
    "    }\n",
    "\n",
    "    // typical behaviour methods\n",
    "    void pushBack(Vehicle &&v)\n",
    "    {\n",
    "        for (size_t i = 0; i < 3; ++i)\n",
    "        {\n",
    "            if (_mutex.try_lock_for(std::chrono::milliseconds(100)))\n",
    "            {\n",
    "                _vehicles.emplace_back(std::move(v));\n",
    "                //std::this_thread::sleep_for(std::chrono::milliseconds(10));\n",
    "                _mutex.unlock();\n",
    "                break;\n",
    "            }\n",
    "            else\n",
    "            {\n",
    "                std::cout << \"Error! Vehicle #\" << v.getID() << \" could not be added to the vector\" << std::endl;\n",
    "                std::this_thread::sleep_for(std::chrono::milliseconds(100));\n",
    "            }\n",
    "        }\n",
    "    }\n",
    "\n",
    "private:\n",
    "    std::vector<Vehicle> _vehicles; // list of all vehicles waiting to enter this intersection\n",
    "    std::timed_mutex _mutex;\n",
    "};\n",
    "\n",
    "int main()\n",
    "{\n",
    "    std::shared_ptr<WaitingVehicles> queue(new WaitingVehicles);\n",
    "    std::vector<std::future<void>> futures;\n",
    "    for (int i = 0; i < 1000; ++i)\n",
    "    {\n",
    "        Vehicle v(i);\n",
    "        futures.emplace_back(std::async(std::launch::async, &WaitingVehicles::pushBack, queue, std::move(v)));\n",
    "    }\n",
    "\n",
    "    std::for_each(futures.begin(), futures.end(), [](std::future<void> &ftr) {\n",
    "        ftr.wait();\n",
    "    });\n",
    "\n",
    "    queue->printSize();\n",
    "\n",
    "    return 0;\n",
    "}\n",
    "```"
   ]
  },
  {
   "cell_type": "markdown",
   "metadata": {
    "editable": false
   },
   "source": [
    "<!--\n",
    "%%ulab_page_divider\n",
    "--><hr/>"
   ]
  },
  {
   "cell_type": "markdown",
   "metadata": {
    "editable": false
   },
   "source": [
    "## Deadlock 1\n",
    "\n",
    "Using mutexes can significantly reduce the risk of data races as seen in the example above. But imagine what would happen if an exception was thrown while executing code in the critical section, i.e. between lock and unlock. In such a case, the mutex would remain locked indefinitely and no other thread could unlock it - the program would most likely freeze.\n",
    "\n",
    "Let us take a look at the following code example, which performs a division of numbers:\n",
    "\n",
    "<img src=\"images/C4-2-A5a-Quiz.png\"></img>\n",
    "\n",
    "In this example, a number of tasks is started up in `main()` with the method `divideByNumber` as the thread function. Each task is given a different denominator and within divideByNumber a check is performed to avoid a division by zero. If denom should be zero, an exception is thrown. In the catch-block, the exception is caught, printed to the console and then the function returns immediately. The output of the program changes with each execution and might look like this:\n",
    "\n",
    "<img src=\"images/DraggedImage-2.png\"></img>\n",
    "\n",
    "As can easily be seen, the console output is totally mixed up and some results appear multiple times. There are several issues with this program, so let us look at them in turn:\n",
    "\n",
    "1.  First, the thread function writes its result to a global variable which is passed to it by reference. This will cause a data race as illustrated in the last section. The `sleep_for` function exposes the data race clearly.\n",
    "2.  Second, the result is printed to the console by several threads at the same time, causing the chaotic output.\n",
    "\n",
    "## Exercise\n",
    "\n",
    "As we have seen already, using a mutex can protect shared resources. So please modify the code in a way that both the console as well as the shared global variable `result` are properly protected.\n",
    "\n",
    "The problem you have just seen is one type of deadlock, which causes a program to freeze because one thread does not release the lock on the mutex while all other threads are waiting for access indefinitely. Let us now look at another type."
   ]
  },
  {
   "cell_type": "markdown",
   "metadata": {
    "editable": false,
    "toggleable": true,
    "ulab": {
     "buttons": {
      "ulab-button-toggle-cd4ae237": {
       "style": "primary"
      }
     }
    }
   },
   "source": [
    "For a discussion of this solution, see the solution video after the workspace.\n",
    "\n",
    "```cpp\n",
    "#include <iostream>\n",
    "#include <thread>\n",
    "#include <vector>\n",
    "#include <future>\n",
    "#include <mutex>\n",
    "\n",
    "std::mutex mtx;\n",
    "double result;\n",
    "\n",
    "void printResult(int denom)\n",
    "{\n",
    "    std::cout << \"for denom = \" << denom << \", the result is \" << result << std::endl;\n",
    "}\n",
    "\n",
    "void divideByNumber(double num, double denom)\n",
    "{\n",
    "    mtx.lock();\n",
    "    try\n",
    "    {\n",
    "        // divide num by denom but throw an exception if division by zero is attempted\n",
    "        if (denom != 0) \n",
    "        {\n",
    "            result = num / denom;\n",
    "            std::this_thread::sleep_for(std::chrono::milliseconds(1)); \n",
    "            printResult(denom);\n",
    "        }\n",
    "        else\n",
    "        {\n",
    "            throw std::invalid_argument(\"Exception from thread: Division by zero!\");\n",
    "        }\n",
    "    }\n",
    "    catch (const std::invalid_argument &e)\n",
    "    {\n",
    "        // notify the user about the exception and return\n",
    "        std::cout << e.what() << std::endl;\n",
    "        return; \n",
    "    }\n",
    "    mtx.unlock();\n",
    "}\n",
    "\n",
    "int main()\n",
    "{\n",
    "    // create a number of threads which execute the function \"divideByNumber\" with varying parameters\n",
    "    std::vector<std::future<void>> futures;\n",
    "    for (double i = -5; i <= +5; ++i)\n",
    "    {\n",
    "        futures.emplace_back(std::async(std::launch::async, divideByNumber, 50.0, i));\n",
    "    }\n",
    "\n",
    "    // wait for the results\n",
    "    std::for_each(futures.begin(), futures.end(), [](std::future<void> &ftr) {\n",
    "        ftr.wait();\n",
    "    });\n",
    "\n",
    "    return 0;\n",
    "}\n",
    "```"
   ]
  },
  {
   "cell_type": "markdown",
   "metadata": {
    "editable": false
   },
   "source": [
    "<!--\n",
    "%%ulab_page_divider\n",
    "--><hr/>"
   ]
  },
  {
   "cell_type": "markdown",
   "metadata": {
    "editable": false
   },
   "source": [
    "## Deadlock 2\n",
    "\n",
    "A second type of deadlock is a state in which two or more threads are blocked because each thread waits for the resource of the other thread to be released before releasing its resource. The result of the deadlock is a complete standstill. The thread and therefore usually the whole program is blocked forever. The following code illustrates the problem:\n",
    "\n",
    "<img src=\"images/C4-2-A6a.png\"></img>\n",
    "\n",
    "When the program is executed, it produces the following output:\n",
    "\n",
    "<img src=\"images/DraggedImage-3.png\"></img>\n",
    "\n",
    "Notice that it does not print the \"Finished\" statement nor does it return - the program is in a deadlock, which it can never leave.\n",
    "\n",
    "Let us take a closer look at this problem:\n",
    "\n",
    "`ThreadA` and `ThreadB` both require access to the console. Unfortunately, they request this resource which is protected by two mutexes in different order. If the two threads work interlocked so that first `ThreadA` locks mutex 1, then `ThreadB` locks mutex 2, the program is in a deadlock: Each thread tries to lock the other mutex and needs to wait for its release, which never comes. The following figure illustrates the problem graphically.\n",
    "\n",
    "<img src=\"images/C4-2-A6c.png\"></img>\n",
    "\n",
    "## Exercise\n",
    "\n",
    "One way to avoid such a deadlock would be to number all resources and require that processes request resources only in strictly increasing (or decreasing) order. Please try to manually rearrange the locks and unlocks in a way that the deadlock does not occur and the following text is printed to the console:\n",
    "\n",
    "<img src=\"images/DraggedImage-4.png\"></img>"
   ]
  },
  {
   "cell_type": "markdown",
   "metadata": {
    "editable": false,
    "toggleable": true,
    "ulab": {
     "buttons": {
      "ulab-button-toggle-17189558": {
       "style": "primary"
      }
     }
    }
   },
   "source": [
    "```cpp\n",
    "#include <iostream>\n",
    "#include <thread>\n",
    "#include <mutex>\n",
    " \n",
    "std::mutex mutex1, mutex2;\n",
    " \n",
    "void ThreadA()\n",
    "{\n",
    "    // Solves deadlock problem\n",
    "    mutex1.lock();\n",
    "    std::cout << \"Thread A\" << std::endl;\n",
    "    mutex2.lock();\n",
    "    mutex2.unlock();\n",
    "    mutex1.unlock();\n",
    "}\n",
    " \n",
    "void ThreadB()\n",
    "{\n",
    "    // Solves deadlock problem\n",
    "    mutex1.lock();\n",
    "    std::cout << \"Thread B\" << std::endl;\n",
    "    mutex2.lock();\n",
    "    mutex1.unlock();\n",
    "    mutex2.unlock();\n",
    "}\n",
    " \n",
    "void ExecuteThreads()\n",
    "{\n",
    "    std::thread t1( ThreadA );\n",
    "    std::thread t2( ThreadB );\n",
    " \n",
    "    t1.join();\n",
    "    t2.join();\n",
    " \n",
    "    std::cout << \"Finished\" << std::endl;\n",
    "}\n",
    " \n",
    "int main()\n",
    "{\n",
    "    ExecuteThreads();\n",
    " \n",
    "    return 0;\n",
    "}\n",
    "```"
   ]
  },
  {
   "cell_type": "markdown",
   "metadata": {
    "editable": false
   },
   "source": [
    "As you have seen, avoiding such a deadlock is possible but requires time and a great deal of experience. In the next section, we will look at ways to avoid deadlocks - both of this type as well as the previous type, where a call to unlock the mutex had not been issued."
   ]
  }
 ],
 "metadata": {
  "kernelspec": {
   "display_name": "Python 3",
   "language": "python",
   "name": "python3"
  },
  "language_info": {
   "codemirror_mode": {
    "name": "ipython",
    "version": 3
   },
   "file_extension": ".py",
   "mimetype": "text/x-python",
   "name": "python",
   "nbconvert_exporter": "python",
   "pygments_lexer": "ipython3",
   "version": "3.6.3"
  },
  "ulab_nb_type": "guided"
 },
 "nbformat": 4,
 "nbformat_minor": 4
}
