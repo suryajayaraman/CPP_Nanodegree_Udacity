{
 "cells": [
  {
   "cell_type": "markdown",
   "metadata": {
    "editable": false
   },
   "source": [
    "## Rvalue references and std::move\n",
    "In order to fully understand the concept of smart pointers in the next lesson, we first need to take a look at a powerful concept introduced with C++11 called *move semantics*. \n",
    "\n",
    "The last section on lvalues, rvalues and especially rvalue references is an important prerequisite for understanding the concept of moving data structures. \n",
    "\n",
    "Let us consider the function on the right which takes an rvalue reference as its parameter.\n",
    "\n",
    "The important message of the function argument of `myFunction` to the programmer is : The object that binds to the rvalue reference `&&val` is yours, it is not needed anymore within the scope of the caller (which is `main`). As discussed in the previous section on rvalue references, this is interesting from two perspectives:\n",
    "1. Passing values like this **improves performance** as no temporary copy needs to be made anymore and\n",
    "2. **ownership changes**, since the object the reference binds to has been abandoned by the caller and now binds to a handle which is available only to the receiver.  This could not have been achieved with lvalue references as any change to the object that binds to the lvalue reference would also be visible on the caller side. "
   ]
  },
  {
   "cell_type": "markdown",
   "metadata": {
    "editable": false
   },
   "source": [
    "<!--\n",
    "%%ulab_page_divider\n",
    "--><hr/>"
   ]
  },
  {
   "cell_type": "markdown",
   "metadata": {
    "editable": false
   },
   "source": [
    "There is one more important aspect we need to consider: *rvalue references are themselves lvalues.*  While this might seem confusing at first glance, it really is the mechanism that enables move semantics: A reference is always defined in a certain context (such as in the above example the variable `val`) .  Even though the object it refers to (the number `42`) may be disposable in the context it has been created (the `main` function),  it is not disposable in the context of the reference . So within the scope of  `myFunction`, `val` is an lvalue as it gives access to the memory location where the number 42 is stored. \n",
    "\n",
    "Note however that in the above code example we cannot pass an lvalue to `myFunction`, because an rvalue reference cannot bind to an lvalue. The code\n",
    "\n",
    "```cpp\n",
    "int i = 23;\n",
    "myFunction(i)\n",
    "```\n",
    "\n",
    "would result in a compiler error. There is a solution to this problem though: The function `std::move`  converts an lvalue into an rvalue (actually, to be exact, into an *xvalue*, which we will not discuss here for the sake of clarity), which makes it possible to use the lvalue as an argument for the function: \n",
    "\n",
    "```cpp\n",
    "int i = 23; \n",
    "myFunction(std::move(i));\n",
    "```\n",
    "\n",
    "In doing this, we state that in the scope of `main` we will not use i anymore, which now exists only in the scope of `myFunction`. Using `std::move` in this way is one of the components of move semantics, which we will look into shortly. But first let us consider an example of the **Rule of Three**. "
   ]
  },
  {
   "cell_type": "markdown",
   "metadata": {
    "editable": false
   },
   "source": [
    "<!--\n",
    "%%ulab_page_divider\n",
    "--><hr/>"
   ]
  },
  {
   "cell_type": "markdown",
   "metadata": {
    "editable": false
   },
   "source": [
    "## The Rule of Three in action\n",
    "\n",
    "#### Part 1"
   ]
  },
  {
   "cell_type": "markdown",
   "metadata": {
    "editable": false,
    "video": {
     "duration": 181,
     "id": "101690",
     "subtitles": [],
     "topher_id": "08d240e2-dbfb-11e9-8d55-0242ac11001f",
     "transcodings": {
      "uri_480p_1000kbps_mp4": "https://video.udacity-data.com/topher/2019/September/5d855b0c_nd213-c03-l04-03.2-move-semantics-sc/nd213-c03-l04-03.2-move-semantics-sc_480p_1000kbps.mp4",
      "uri_480p_mp4": "https://video.udacity-data.com/topher/2019/September/5d855b0c_nd213-c03-l04-03.2-move-semantics-sc/nd213-c03-l04-03.2-move-semantics-sc_480p.mp4",
      "uri_720p_mp4": "https://video.udacity-data.com/topher/2019/September/5d855b0c_nd213-c03-l04-03.2-move-semantics-sc/nd213-c03-l04-03.2-move-semantics-sc_720p.mp4",
      "uri_hls": "https://video.udacity-data.com/topher/2019/September/5d855b0c_nd213-c03-l04-03.2-move-semantics-sc/hls/playlist.m3u8"
     },
     "youtube_id": "OOj78tZfdc4"
    }
   },
   "source": []
  },
  {
   "cell_type": "markdown",
   "metadata": {
    "editable": false
   },
   "source": [
    "#### Part 2"
   ]
  },
  {
   "cell_type": "markdown",
   "metadata": {
    "editable": false,
    "video": {
     "duration": 215,
     "id": "101689",
     "subtitles": [],
     "topher_id": "f6974f15-dbfa-11e9-8d55-0242ac11001f",
     "transcodings": {
      "uri_480p_1000kbps_mp4": "https://video.udacity-data.com/topher/2019/September/5d855aed_nd213-c03-l04-03.3-move-semantics-sc/nd213-c03-l04-03.3-move-semantics-sc_480p_1000kbps.mp4",
      "uri_480p_mp4": "https://video.udacity-data.com/topher/2019/September/5d855aed_nd213-c03-l04-03.3-move-semantics-sc/nd213-c03-l04-03.3-move-semantics-sc_480p.mp4",
      "uri_720p_mp4": "https://video.udacity-data.com/topher/2019/September/5d855aed_nd213-c03-l04-03.3-move-semantics-sc/nd213-c03-l04-03.3-move-semantics-sc_720p.mp4",
      "uri_hls": "https://video.udacity-data.com/topher/2019/September/5d855aed_nd213-c03-l04-03.3-move-semantics-sc/hls/playlist.m3u8"
     },
     "youtube_id": "H1pJmTY9ANQ"
    }
   },
   "source": []
  },
  {
   "cell_type": "markdown",
   "metadata": {
    "editable": false
   },
   "source": [
    "<!--\n",
    "%%ulab_page_divider\n",
    "--><hr/>"
   ]
  },
  {
   "cell_type": "markdown",
   "metadata": {
    "editable": false
   },
   "source": [
    "Let us consider the example to the right of a class which manages a block of dynamic memory and incrementally add new functionality to it. You will add the main function shown above later on in this notebook.\n",
    "\n",
    "In this class, a block of heap memory is allocated in the constructor and deallocated in the destructor. As we have discussed before, when either destructor, copy constructor or copy assignment operator are defined, it is good practice to also define the other two (known as the **Rule of Three**). While the compiler would generate default versions of the missing components, these would not properly reflect the memory management strategy of our class, so leaving out the manual implementation is usually not advised."
   ]
  },
  {
   "cell_type": "markdown",
   "metadata": {
    "editable": false
   },
   "source": [
    "<!--\n",
    "%%ulab_page_divider\n",
    "--><hr/>"
   ]
  },
  {
   "cell_type": "markdown",
   "metadata": {
    "editable": false
   },
   "source": [
    "So let us start with the copy constructor of `MyMovableClass`, which could look like the following:\n",
    "\n",
    "```cpp\n",
    "    MyMovableClass(const MyMovableClass &source) // 2 : copy constructor\n",
    "    {\n",
    "        _size = source._size;\n",
    "        _data = new int[_size];\n",
    "        *_data = *source._data;\n",
    "        std::cout << \"COPYING content of instance \" << &source << \" to instance \" << this << std::endl;\n",
    "    }\n",
    "```\n",
    "\n",
    "Similar to an example in the section on copy semantics, the copy constructor takes an lvalue reference to the source instance, allocates a block of memory of the same size as in the source and then copies the data into its members (as a deep copy).\n",
    "\n",
    "You can add this code to the `rule_of_three.cpp` file on the right."
   ]
  },
  {
   "cell_type": "markdown",
   "metadata": {
    "editable": false
   },
   "source": [
    "<!--\n",
    "%%ulab_page_divider\n",
    "--><hr/>"
   ]
  },
  {
   "cell_type": "markdown",
   "metadata": {
    "editable": false
   },
   "source": [
    "Next, let us take a look at the copy assignment operator: \n",
    "\n",
    "```cpp\n",
    "    MyMovableClass &operator=(const MyMovableClass &source) // 3 : copy assignment operator\n",
    "    {\n",
    "        std::cout << \"ASSIGNING content of instance \" << &source << \" to instance \" << this << std::endl;\n",
    "        if (this == &source)\n",
    "            return *this;\n",
    "        delete[] _data;\n",
    "        _data = new int[source._size];\n",
    "        *_data = *source._data;\n",
    "        _size = source._size;\n",
    "        return *this;\n",
    "    }\n",
    "```\n",
    "\n",
    "You can add the code above to the `rule_of_three.cpp` file on the right.\n",
    "\n",
    "The if-statement at the top of the above implementation protects against self-assignment and is standard boilerplate code for the user-defined assignment operator. The remainder of the code is more or less identical to the copy constructor, apart from returning a reference to the own instance using `this`.\n",
    "\n",
    "You might have noticed that both copy constructor and assignment operator take a `const` reference to the source object as an argument, by which they promise that they won’ (and can’t) modify the content of source. "
   ]
  },
  {
   "cell_type": "markdown",
   "metadata": {
    "editable": false
   },
   "source": [
    "<!--\n",
    "%%ulab_page_divider\n",
    "--><hr/>"
   ]
  },
  {
   "cell_type": "markdown",
   "metadata": {
    "editable": false
   },
   "source": [
    "We can now use our class to copy objects as shown in the following implementation of `main`:\n",
    "\n",
    "```cpp\n",
    "int main()\n",
    "{\n",
    "    MyMovableClass obj1(10); // regular constructor\n",
    "    MyMovableClass obj2(obj1); // copy constructor\n",
    "    obj2 = obj1; // copy assignment operator\n",
    "\n",
    "    return 0;\n",
    "}\n",
    "```\n",
    "\n",
    "Add this code to the `rule_of_three.cpp` file on the right.\n",
    "\n",
    "In the `main` above, the object `obj1` is created using the regular constructor of `MyMovableClass`. Then, both the copy constructor as well as the assignment operator are used with the latter one not creating a new object but instead assigning the content of `obj1` to `obj2` as defined by our copying policy. \n",
    "\n",
    "The output of this textbook implementation of the **Rule of Three** looks like this: \n",
    "```\n",
    "CREATING instance of MyMovableClass at 0x7ffeefbff618 allocated with size = 40 bytes\n",
    "\n",
    "COPYING content of instance 0x7ffeefbff618 to instance 0x7ffeefbff608\n",
    "\n",
    "ASSIGNING content of instance 0x7ffeefbff618 to instance 0x7ffeefbff608\n",
    "\n",
    "DELETING instance of MyMovableClass at 0x7ffeefbff608\n",
    "\n",
    "DELETING instance of MyMovableClass at 0x7ffeefbff618\n",
    "```"
   ]
  },
  {
   "cell_type": "markdown",
   "metadata": {
    "editable": false
   },
   "source": [
    "<!--\n",
    "%%ulab_page_divider\n",
    "--><hr/>"
   ]
  },
  {
   "cell_type": "markdown",
   "metadata": {
    "editable": false
   },
   "source": [
    "### Limitations of Our Current Class Design\n",
    "Let us now consider one more way to instantiate `MyMovableClass` object by using `createObject()` function. Add the following function definition to the `rule_of_three.cpp`, outside the scope of the class `MyMovableClass`:\n",
    "```cpp\n",
    "MyMovableClass createObject(int size){\n",
    "  MyMovableClass obj(size); // regular constructor\n",
    "  return obj; // return MyMovableClass object by value\n",
    "}\n",
    "```\n",
    "**Note that when a function returns an object by value, the compiler creates a temporary object as an rvalue.** Let's call this function inside main to create an `obj4` instance, as follows:\n",
    "\n",
    "```cpp\n",
    "int main(){\n",
    "  // call to copy constructor, (alternate syntax)\n",
    "  MyMovableClass obj3 = obj1;\n",
    "  // Here, we are instantiating obj3 in the same statement; hence the copy assignment operator would not be called.\n",
    "\n",
    "  MyMovableClass obj4 = createObject(10);\n",
    "  // createObject(10) returns a temporary copy of the object as an rvalue, which is passed to the copy constructor.\n",
    "\n",
    "\n",
    "  /*\n",
    "   * You can try executing the statement below as well\n",
    "   * MyMovableClass obj4(createObject(10));\n",
    "   */\n",
    "\n",
    "  return 0;\n",
    "}\n",
    "```\n",
    "In the `main` above, the returned value of `createObject(10)` is passed to the copy constructor. The function `createObject()` returns an instance of `MyMovableClass` by value. In such a case, the compiler creates a temporary copy of the object as an rvalue, which is passed to the copy constructor. \n",
    "\n",
    ">**A special call to copy constructor**<br>\n",
    "Try compiling and then running the `rule_of_three.cpp` to notice that `MyMovableClass obj4 = createObject(10);` would not print the `cout` statement of copy constructor on the console. This is because the copy constructor is called on the temporary object.\n",
    "\n",
    "\n",
    "In our current class design, while creating `obj4`, the data is dynamically allocated on the stack, which is then copied from the temporary object to its target destination. This means that **two expensive memory operations** are performed with the first occurring during the creation of the temporary rvalue and the second during the execution of the copy constructor. The similar two expensive memory operations would be performed with the assignment operator if we execute the following statement inside `main`:\n",
    "```cpp\n",
    "MyMovableClass obj4 = createObject(10); // Don't write this statement if you have already written it before\n",
    "obj4 = createObject(10); // call to copy assignment operator\n",
    "```\n",
    "In the above call to copy assignment operator, it would first erase the memory of `obj4`, then reallocate it during the creation of the temporary object; and then copy the data from the temporary object to `obj4`.\n",
    "\n",
    "From a performance viewpoint, this code involves far too many copies, making it inefficient - especially with large data structures. Prior to C++11, the proper solution in such a case was to simply avoid returning large data structures by value to prevent the expensive and unnecessary copying process. With C++11 however, there is a way we can optimize this and return even large data structures by value. The solution is the move constructor and the **Rule of Five**. "
   ]
  },
  {
   "cell_type": "markdown",
   "metadata": {
    "editable": false
   },
   "source": [
    "<!--\n",
    "%%ulab_page_divider\n",
    "--><hr/>"
   ]
  },
  {
   "cell_type": "markdown",
   "metadata": {
    "editable": false
   },
   "source": [
    "## The move constructor\n",
    "\n",
    "The basic idea to optimize the code from the last example is to \"steal\" the rvalue generated by the compiler during the return-by-value operation and move the expensive data in the source object to the target object - not by copying it but by redirecting the data handles. Moving data in such a way is always cheaper than making copies, which is why programmers are highly encouraged to make use of this powerful tool.\n",
    "\n",
    "The following diagram illustrates the basic principle of moving a resource from a source object to a destination object: \n",
    "\n",
    "![](images/C43-FIG1.png)\n",
    "\n",
    "In order to achieve this, we will be using a construct called *move constructor*, which is similar to the copy constructor with the key difference being the re-use of existing data without unnecessarily copying it. In addition to the move constructor, there is also a move assignment operator, which we need to look at. \n"
   ]
  },
  {
   "cell_type": "markdown",
   "metadata": {
    "editable": false
   },
   "source": [
    "<!--\n",
    "%%ulab_page_divider\n",
    "--><hr/>"
   ]
  },
  {
   "cell_type": "markdown",
   "metadata": {
    "editable": false
   },
   "source": [
    "Just like the copy constructor, the move constructor builds an instance of a class using a source instance. The key difference between the two is that with the move constructor, the source instance will no longer be usable afterwards. Let us take a look at an implementation of the move constructor for our `MyMovableClass`: \n",
    "\n",
    "```cpp\n",
    "    MyMovableClass(MyMovableClass &&source) // 4 : move constructor\n",
    "    {\n",
    "        std::cout << \"MOVING (c’tor) instance \" << &source << \" to instance \" << this << std::endl;\n",
    "        _data = source._data;\n",
    "        _size = source._size;\n",
    "        source._data = nullptr;\n",
    "        source._size = 0;\n",
    "    }\n",
    "```\n",
    "\n",
    "If you haven't already added it, you can add this code to the `rule_of_five.cpp` file to the right.\n",
    "\n",
    "In this code, the move constructor takes as its input an rvalue reference to a `source` object of the same class. In doing so, we are able to use the object within the scope of the move constructor. As can be seen, the implementation copies the data handle from `source` to target and immediately invalidates `source` after copying is complete. Now, `this` is responsible for the data and must also release memory on destruction - the ownership has been successfully changed (or moved) without the need to copy the data on the heap."
   ]
  },
  {
   "cell_type": "markdown",
   "metadata": {
    "editable": false
   },
   "source": [
    "<!--\n",
    "%%ulab_page_divider\n",
    "--><hr/>"
   ]
  },
  {
   "cell_type": "markdown",
   "metadata": {
    "editable": false
   },
   "source": [
    "The move assignment operator works in a similar way: \n",
    "\n",
    "```cpp\n",
    "    MyMovableClass &operator=(MyMovableClass &&source) // 5 : move assignment operator\n",
    "    {\n",
    "        std::cout << \"MOVING (assign) instance \" << &source << \" to instance \" << this << std::endl;\n",
    "        if (this == &source)\n",
    "            return *this;\n",
    "\n",
    "        delete[] _data;\n",
    "\n",
    "        _data = source._data;\n",
    "        _size = source._size;\n",
    "\n",
    "        source._data = nullptr;\n",
    "        source._size = 0;\n",
    "\n",
    "        return *this;\n",
    "    }\n",
    "```\n",
    "\n",
    "As with the move constructor, the data handle is copied from `source` to target which is coming in  as an rvalue reference again. Afterwards, the data members of `source`  are invalidated. The rest of the code is identical with the copy constructor we have already implemented. "
   ]
  },
  {
   "cell_type": "markdown",
   "metadata": {
    "editable": false
   },
   "source": [
    "<!--\n",
    "%%ulab_page_divider\n",
    "--><hr/>"
   ]
  },
  {
   "cell_type": "markdown",
   "metadata": {
    "editable": false
   },
   "source": [
    "## The Rule of Five\n",
    "\n",
    "By adding both the move constructor and the move assignment operator to our `MyMovableClass`, we have adhered to the **Rule of Five**.  This rule is an extension of the Rule of Three which we have already seen and exists since the introduction of the C++11 standard. The Rule of Five is especially important in resource management, where unnecessary copying needs to be avoided due to limited resources and performance reasons. Also, all the STL container classes such as `std::vector` implement the Rule of Five and use move semantics for increased efficiency. \n",
    "\n",
    "The Rule of Five states that if you have to write one of the functions listed below then you should consider implementing all of them with a proper resource management policy in place. If you forget to implement one or more, the compiler will usually generate the missing ones (without a warning) but the default versions might not be suitable for the purpose you have in mind. The five functions are: \n",
    "\n",
    "1. The **destructor**: Responsible for freeing the resource once the object it belongs to goes out of scope.\n",
    "\n",
    "2. The **assignment operator**: The default assignment operation performs a member-wise shallow copy, which does not copy the content behind the resource handle. If a deep copy is needed, it has be implemented by the programmer. \n",
    "\n",
    "3. The **copy constructor**: As with the assignment operator, the default copy constructor performs a shallow copy of the data members. If something else is needed, the programmer has to implement it accordingly.\n",
    "\n",
    "4. The **move constructor**: Because copying objects can be an expensive operation which involves creating, copying and destroying temporary objects, rvalue references are used to bind to an rvalue. Using this mechanism, the move constructor transfers the ownership of a resource from a (temporary) rvalue object to a permanent lvalue object. \n",
    "\n",
    "5. The **move assignment operator**: With this operator, ownership of a resource can be transferred from one object to another. The internal behavior is very similar to the move constructor."
   ]
  },
  {
   "cell_type": "markdown",
   "metadata": {
    "editable": false
   },
   "source": [
    "<!--\n",
    "%%ulab_page_divider\n",
    "--><hr/>"
   ]
  },
  {
   "cell_type": "markdown",
   "metadata": {
    "editable": false
   },
   "source": [
    "## When are move semantics used?\n",
    "Now that we have seen how move semantics work, let us take a look at situations where they actually apply. \n",
    "\n",
    "One of the primary areas of application are cases, where heavy-weight objects need to be passed around in a program. Copying these without move semantics can cause series performance issues. The idea in this scenario is to create the object a single time and then \"simply\" move it around using rvalue references and move semantics. \n",
    "\n",
    "A second area of application are cases where ownership needs to be transferred (such as with unique pointers, as we will soon see). The primary difference to shared references is that with move semantics we are not sharing anything but instead we are ensuring through a smart policy that only a single object at a time has access to and thus owns the resource."
   ]
  },
  {
   "cell_type": "markdown",
   "metadata": {
    "editable": false
   },
   "source": [
    "<!--\n",
    "%%ulab_page_divider\n",
    "--><hr/>"
   ]
  },
  {
   "cell_type": "markdown",
   "metadata": {
    "editable": false
   },
   "source": [
    "Let us look at some code examples: \n",
    "\n",
    "```cpp\n",
    "int main()\n",
    "{\n",
    "    MyMovableClass obj1(100), obj2(200); // constructor\n",
    "\n",
    "    MyMovableClass obj3(obj1); // copy constructor\n",
    "\n",
    "    MyMovableClass obj4 = obj1; // copy constructor\n",
    "\n",
    "    obj4 = obj2; // copy assignment operator\n",
    "\n",
    "    return 0;\n",
    "}\n",
    "```\n",
    "\n",
    "If you compile and run this code, be sure to use the `-std=c++11` flag. The reasons for this will be explained below.\n",
    "\n",
    "In the code above, in total, four instances of `MyMovableClass` are constructed here. While `obj1` and `obj2` are created using the conventional constructor, `obj3` is created using the copy constructor instead according to our implementation. Interestingly, even though the creation of `obj4` looks like an assignment, the compiler calls the copy constructor int this case. Finally, the last line calls the copy assignment operator. The output of the above main function looks like the following: \n",
    "\n",
    "```\n",
    "CREATING instance of MyMovableClass at 0x7ffeefbff718 allocated with size = 400 bytes\n",
    "\n",
    "CREATING instance of MyMovableClass at 0x7ffeefbff708 allocated with size = 800 bytes\n",
    "\n",
    "COPYING content of instance 0x7ffeefbff718 to instance 0x7ffeefbff6e8\n",
    "\n",
    "COPYING content of instance 0x7ffeefbff718 to instance 0x7ffeefbff6d8\n",
    "\n",
    "ASSIGNING content of instance 0x7ffeefbff708 to instance 0x7ffeefbff6d8\n",
    "\n",
    "DELETING instance of MyMovableClass at 0x7ffeefbff6d8\n",
    "DELETING instance of MyMovableClass at 0x7ffeefbff6e8\n",
    "DELETING instance of MyMovableClass at 0x7ffeefbff708\n",
    "DELETING instance of MyMovableClass at 0x7ffeefbff718\n",
    "```\n",
    " \n",
    "Note that the compiler has been called with the option `-fno-elide-constructors` to turn off an optimization techniques called *copy elision*,  which would make it harder to understand the various calls and the operations they entail. This technique is guaranteed to be used as of C++17, which is why we are also reverting to the C++11 standard for the remainder of this chapter using `-std=c++11`. Until now, no move operation has been performed yet as all of the above calls were involving lvalues. "
   ]
  },
  {
   "cell_type": "markdown",
   "metadata": {
    "editable": false
   },
   "source": [
    "<!--\n",
    "%%ulab_page_divider\n",
    "--><hr/>"
   ]
  },
  {
   "cell_type": "markdown",
   "metadata": {
    "editable": false
   },
   "source": [
    "Now consider the following `main` function instead: \n",
    "```cpp\n",
    "int main()\n",
    "{\n",
    "    MyMovableClass obj1(100); // constructor\n",
    "    \n",
    "    obj1 = MyMovableClass(200); // move assignment operator\n",
    "    \n",
    "    MyMovableClass obj2 = MyMovableClass(300); // move constructor \n",
    "    \n",
    "    return 0;\n",
    "}\n",
    "\n",
    "```\n",
    "\n",
    "In this version, we also have an instance of `MyMovableClass`, `obj1`. Then, a second instance of `MyMovableClass` is created as an rvalue, which is assigned to `obj1`. Finally, we have a second lvalue `obj2`, which is created by assigning it an rvalue object. Let us take a look at the output of the program:  \n",
    "\n",
    "```\n",
    "CREATING instance of MyMovableClass at 0x7ffeefbff718 allocated with size = 400 bytes\n",
    "\n",
    "CREATING instance of MyMovableClass at 0x7ffeefbff708 allocated with size = 800 bytes\n",
    "\n",
    "MOVING (assign) instance 0x7ffeefbff708 to instance 0x7ffeefbff718\n",
    "\n",
    "DELETING instance of MyMovableClass at 0x7ffeefbff708\n",
    "\n",
    "CREATING instance of MyMovableClass at 0x7ffeefbff6d8 allocated with size = 1200 bytes\n",
    "\n",
    "MOVING (c'tor) instance 0x7ffeefbff6d8 to instance 0x7ffeefbff6e8\n",
    "\n",
    "DELETING instance of MyMovableClass at 0x7ffeefbff6d8\n",
    "DELETING instance of MyMovableClass at 0x7ffeefbff6e8\n",
    "DELETING instance of MyMovableClass at 0x7ffeefbff718\n",
    "```\n",
    "\n",
    "By looking at the stack addresses of the objects, we can see that the temporary object at `0x7ffeefbff708` is moved to `0x7ffeefbff718` using the move assignment operator we wrote earlier, because the instance `obj1` is assigned an rvalue. As expected from an rvalue, its destructor is called immediately afterwards. But as we have made sure to null its data pointer in the move constructor, the actual data will not be deleted. The advantage from a performance perspective in this case is that no deep-copy of the rvalue object needs to be made, we are simply redirecting the internal resource handle thus making an efficient shallow copy. \n",
    "\n",
    "Next, another temporary instance with a size of 1200 bytes is created as a temporary object and \"assigned\" to `obj3`.  Note that while the call looks like an assignment, the move constructor is called under the hood, making the call identical to `MyMovableClass obj2(MyMovableClass(300));`. By creating `obj3` in such a way, we are reusing the temporary rvalue and transferring ownership of its resources to the newly created `obj3`."
   ]
  },
  {
   "cell_type": "markdown",
   "metadata": {
    "editable": false
   },
   "source": [
    "<!--\n",
    "%%ulab_page_divider\n",
    "--><hr/>"
   ]
  },
  {
   "cell_type": "markdown",
   "metadata": {
    "editable": false
   },
   "source": [
    "Let us now consider a final example: \n",
    "\n",
    "```cpp\n",
    "void useObject(MyMovableClass obj)\n",
    "{\n",
    "    std::cout << \"using object \" << &obj << std::endl;\n",
    "}\n",
    "\n",
    "int main()\n",
    "{\n",
    "    MyMovableClass obj1(100); // constructor\n",
    "\n",
    "    useObject(obj1);\n",
    "\n",
    "    return 0;\n",
    "}\n",
    "```\n",
    "\n",
    "In this case, an instance of `MyMovableClass`, `obj1`, is passed to a function `useObject` by value, thus making a copy of it.\n",
    "\n",
    "Let us take an immediate look at the output of the program, before going into details: \n",
    "```\n",
    "(1)\n",
    "CREATING instance of MyMovableClass at 0x7ffeefbff718 allocated with size = 400 bytes\n",
    "\n",
    "(2)\n",
    "COPYING content of instance 0x7ffeefbff718 to instance 0x7ffeefbff708\n",
    "\n",
    "using object 0x7ffeefbff708\n",
    "\n",
    "(3)\n",
    "DELETING instance of MyMovableClass at 0x7ffeefbff708\n",
    "\n",
    "(4)\n",
    "CREATING instance of MyMovableClass at 0x7ffeefbff6d8 allocated with size = 800 bytes\n",
    "\n",
    "(5)\n",
    "MOVING (c'tor) instance 0x7ffeefbff6d8 to instance 0x7ffeefbff6e8\n",
    "\n",
    "using object 0x7ffeefbff6e8\n",
    "\n",
    "DELETING instance of MyMovableClass at 0x7ffeefbff6e8\n",
    "DELETING instance of MyMovableClass at 0x7ffeefbff6d8\n",
    "DELETING instance of MyMovableClass at 0x7ffeefbff718\n",
    "```\n",
    "\n",
    "First, we are creating an instance of MyMovableClass, `obj1`, by calling the constructor of the class (1). \n",
    "\n",
    "Then, we are passing `obj1` by-value to a function `useObject`, which causes a temporary object `obj` to be instantiated, which is a copy of `obj1` (2)  and is deleted immediately after the function scope is left (3).\n",
    "\n",
    "Then, the function is called with a temporary instance of `MyMovableClass` as its argument, which creates a temporary instance of `MyMovableClass` as an rvalue (4). But instead of making a copy of it as before, the move constructor is used (5) to transfer ownership of that temporary object to the function scope, which saves us one expensive deep-copy. "
   ]
  },
  {
   "cell_type": "markdown",
   "metadata": {
    "editable": false
   },
   "source": [
    "<!--\n",
    "%%ulab_page_divider\n",
    "--><hr/>"
   ]
  },
  {
   "cell_type": "markdown",
   "metadata": {
    "editable": false
   },
   "source": [
    "## Moving lvalues\n",
    "There is one final aspect we need to look at: In some cases, it can make sense to treat lvalues like rvalues. At some point in your code, you might want to transfer ownership of a resource to another part of your program as it is not needed anymore in the current scope. But instead of copying it, you want to just move it as we have seen before. The \"problem\" with our implementation of MyMovableClass is that the call `useObject(obj1)` will trigger the copy constructor as we have seen in one of the last examples. But in order to move it, we would have to pretend to the compiler that `obj1` was an rvalue instead of an lvalue so that we can make an efficient move operation instead of an expensive copy.  \n",
    "\n",
    "There is a solution to this problem in C++, which is `std::move`.  This function accepts an lvalue argument and returns it as an rvalue without triggering copy construction. So by passing an object to `std::move` we can force the compiler to use move semantics, either in the form of move constructor or the move assignment operator:\n",
    "\n",
    "```cpp\n",
    "int main()\n",
    "{\n",
    "    MyMovableClass obj1(100); // constructor\n",
    "\n",
    "    useObject(std::move(obj1));\n",
    "\n",
    "    return 0;\n",
    "}\n",
    "```\n",
    "\n",
    "Nothing much has changed, apart from `obj1` being passed to the `std::move` function. The output would look like the following: \n",
    "\n",
    "```\n",
    "CREATING instance of MyMovableClass at 0x7ffeefbff718 allocated with size = 400 bytes\n",
    "\n",
    "MOVING (c'tor) instance 0x7ffeefbff718 to instance 0x7ffeefbff708\n",
    "\n",
    "using object 0x7ffeefbff708\n",
    "\n",
    "DELETING instance of MyMovableClass at 0x7ffeefbff708\n",
    "DELETING instance of MyMovableClass at 0x7ffeefbff718\n",
    "```\n",
    "\n",
    "By using std::move, we were able to pass the ownership of the resources within `obj1` to the function `useObject`. The local copy `obj1` in the argument list was created with the move constructor and thus accepted the ownership transfer from `obj1` to `obj` . Note that after the call to `useObject`, the instance `obj1` has been invalidated by setting its internal handle to null and thus may not be used anymore within the scope of `main` (even though you could theoretically try to access it, but this would be a really bad idea). "
   ]
  }
 ],
 "metadata": {
  "kernelspec": {
   "display_name": "Python 3",
   "language": "python",
   "name": "python3"
  },
  "language_info": {
   "codemirror_mode": {
    "name": "ipython",
    "version": 3
   },
   "file_extension": ".py",
   "mimetype": "text/x-python",
   "name": "python",
   "nbconvert_exporter": "python",
   "pygments_lexer": "ipython3",
   "version": "3.6.3"
  },
  "ulab_nb_type": "guided"
 },
 "nbformat": 4,
 "nbformat_minor": 4
}
