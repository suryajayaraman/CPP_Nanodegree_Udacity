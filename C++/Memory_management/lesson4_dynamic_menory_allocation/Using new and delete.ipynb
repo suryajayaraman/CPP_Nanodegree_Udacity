{
 "cells": [
  {
   "cell_type": "markdown",
   "metadata": {
    "editable": false
   },
   "source": [
    "## Comparing `malloc` with `new`\n",
    "The functions `malloc` and `free` are library function and represent the default way of allocating and deallocating memory in C. In C++, they are also part of the standard and can be used to allocate blocks of memory on the heap. \n",
    "\n",
    "With the introduction of classes and object oriented programming in C++ however, memory allocation and deallocation has become more complex: When an object is created, its constructor needs to be called to allow for member initialization. Also, on object deletion, the destructor is called to free resources and to allow for programmer-defined clean-up tasks. For this reason, C++ introduces the operators `new` / `delete`, which represent the object-oriented counterpart to memory management with `malloc` / `free`."
   ]
  },
  {
   "cell_type": "markdown",
   "metadata": {
    "editable": false
   },
   "source": [
    "<!--\n",
    "%%ulab_page_divider\n",
    "--><hr/>"
   ]
  },
  {
   "cell_type": "markdown",
   "metadata": {
    "editable": false
   },
   "source": [
    "If we were to create a C++ object with `malloc`, the constructor and destructor of such an object would not be called. Consider the class on the right. The constructor allocates memory for the private element `_number` (yes, we could have simply used `int` instead of `int*`, but that's for educational purposes only), and the destructor releases memory again. The setter method `setNumber` finally assigns a value to `_number` under the assumption that memory has been allocated previously. \n",
    "\n",
    "In main, we will allocate memory for an instance of MyClass using both `malloc`/ `free` and `new`/`delete`.\n",
    "\n",
    "With `malloc`, the program crashes on calling the method `setNumber`, as no memory has been allocated for `_number` - because the constructor has not been called. Hence, an `EXC_BAD_ACCESS` error occurs, when trying to access the memory location to which `_number` is pointing. With `_new`, the output looks like the following: \n",
    "```\n",
    "Allocate memory\n",
    "Number: 42\n",
    "Delete memory\n",
    "```"
   ]
  },
  {
   "cell_type": "markdown",
   "metadata": {
    "editable": false
   },
   "source": [
    "<!--\n",
    "%%ulab_page_divider\n",
    "--><hr/>"
   ]
  },
  {
   "cell_type": "markdown",
   "metadata": {
    "editable": false
   },
   "source": [
    "Before we go into further details of `new`/`delete`, let us briefly summarize the major differences between `malloc`/`free` and `new`/`delete`: \n",
    "\n",
    "1. **Constructors / Destructors**\n",
    "Unlike `malloc( sizeof(MyClass) )`, the call `new MyClass()` calls the constructor. Similarly, `delete` calls the destructor. \n",
    "\n",
    "2. **Type safety**\n",
    "`malloc` returns a void pointer, which needs to be cast into the appropriate data type it points to. This is not type safe, as you can freely vary the pointer type without any warnings or errors from the compiler as in the following small example:\n",
    " `MyObject *p = (MyObject*)malloc(sizeof(int));`\n",
    "\n",
    "In C++, the call `MyObject *p = new MyObject()` returns the correct type automatically - it is thus type-safe. \n",
    "\n",
    "3. **Operator Overloading**\n",
    "As `malloc` and `free` are functions defined in a library, their behavior can not be changed easily. The new and delete operators however can be overloaded by a class in order to include optional proprietary behavior. We will look at an example of overloading `new` further down in this section."
   ]
  },
  {
   "cell_type": "markdown",
   "metadata": {
    "editable": false
   },
   "source": [
    "<!--\n",
    "%%ulab_page_divider\n",
    "--><hr/>"
   ]
  },
  {
   "cell_type": "markdown",
   "metadata": {
    "editable": false
   },
   "source": [
    "## Creating and Deleting Objects\n",
    "\n",
    "As with `malloc` and `free`, a call to `new` always has to be followed by a call to `delete` to ensure that memory is properly deallocated. If the programmer forgets to call `delete` on the object (which happens quite often, even with experienced programmers), the object resides in memory until the program terminates at some point in the future causing a *memory leak*.\n",
    "\n",
    "Let us revisit a part of the code example to the right: \n",
    "```\n",
    "myClass = new MyClass();\n",
    "myClass->setNumber(42); // works as expected\n",
    "delete myClass;\n",
    "```\n",
    "\n",
    "The call to `new` has the following consequences: \n",
    "1. Memory is allocated to hold a new object of type `MyClass`\n",
    "2. A new object of type `MyClass` is constructed within the allocated memory by calling the constructor of `MyClass`\n",
    "\n",
    "The call to `delete` causes the following: \n",
    "1. The object of type `MyClass` is destroyed by calling its destructor\n",
    "2. The memory which the object was placed in is deallocated"
   ]
  },
  {
   "cell_type": "markdown",
   "metadata": {
    "editable": false
   },
   "source": [
    "<!--\n",
    "%%ulab_page_divider\n",
    "--><hr/>"
   ]
  },
  {
   "cell_type": "markdown",
   "metadata": {
    "editable": false,
    "ulab": {
     "buttons": {
      "ulab-button-5d66716b": {
       "bashCommand": "",
       "filesToOpen": [],
       "isPreviewButton": false,
       "runInBackground": false,
       "text": "RIGHT CLICK ME"
      }
     }
    }
   },
   "source": [
    "## Optimizing Performance with `placement new`\n",
    "\n",
    "In some cases, it makes sense to separate memory allocation from object construction. Consider a case where we need to reconstruct an object several times. If we were to use the standard `new`/`delete` construct, memory would be allocated and freed unnecessarily as only the content of the memory block changes but not its size. By separating allocation from construction, we can get a significant performance increase. \n",
    "\n",
    "C++ allows us to do this by using a construct called *placement new*: With `placement new`, we can pass a preallocated memory and construct an object at that memory location. Consider the following code: \n",
    "```\n",
    "void *memory = malloc(sizeof(MyClass));\n",
    "MyClass *object = new (memory) MyClass;\n",
    "```\n",
    "\n",
    "The syntax `new (memory)` is denoted as *placement new*. The difference to the \"conventional\" `new` we have been using so far is that that no memory is allocated. The call constructs an object and places it in the assigned memory location. There is however, no `delete` equivalent to `placement new`, so we have to call the destructor explicitly in this case instead of using `delete` as we would have done with a regular call to `new`: \n",
    "```\n",
    "object->~MyClass();\n",
    "free(memory); \n",
    "```\n",
    "\n",
    "**Important**: Note that this should never be done outside of `placement new`. \n",
    "\n",
    "In the next section, we will look at how to overload the new operator and show the performance difference between `placement new` and `new`"
   ]
  },
  {
   "cell_type": "markdown",
   "metadata": {
    "editable": false
   },
   "source": [
    "<!--\n",
    "%%ulab_page_divider\n",
    "--><hr/>"
   ]
  },
  {
   "cell_type": "markdown",
   "metadata": {
    "editable": false
   },
   "source": [
    "## Overloading `new` and `delete` \n",
    "One of the major advantages of `new`/`delete` over `free`/`malloc` is the possibility of overloading. While both `malloc` and `free` are function calls and thus can not be changed easily, `new` and `delete` are operators and can thus be overloaded to integrate customized functionality, if needed. \n",
    "\n",
    "The syntax for **overloading the new operator** looks as follows: \n",
    "\n",
    "`void* operator new(size_t size);`\n",
    "\n",
    "The operator receives a parameter `size` of type `size_t`, which specifies the number of bytes of memory to be allocated. The return type of the overloaded `new`  is a void pointer, which references the beginning of the block of allocated memory.\n",
    "\n",
    "The syntax for **overloading the delete operator** looks as follows: \n",
    "\n",
    "`void operator delete(void*);`\n",
    "\n",
    "The operator takes a pointer to the object which is to be deleted. As opposed to `new`, the operator `delete` does not have a return value.\n",
    "\n",
    "Let us consider the example on the right."
   ]
  },
  {
   "cell_type": "markdown",
   "metadata": {
    "editable": false
   },
   "source": [
    "<!--\n",
    "%%ulab_page_divider\n",
    "--><hr/>"
   ]
  },
  {
   "cell_type": "markdown",
   "metadata": {
    "editable": false,
    "video": {
     "duration": 207,
     "id": "101686",
     "subtitles": [],
     "topher_id": "982aa1ed-dbfa-11e9-8d55-0242ac11001f",
     "transcodings": {
      "uri_480p_1000kbps_mp4": "https://video.udacity-data.com/topher/2019/September/5d855a4f_nd213-c03-l03-03.2-using-new-and-delete-sc/nd213-c03-l03-03.2-using-new-and-delete-sc_480p_1000kbps.mp4",
      "uri_480p_mp4": "https://video.udacity-data.com/topher/2019/September/5d855a4f_nd213-c03-l03-03.2-using-new-and-delete-sc/nd213-c03-l03-03.2-using-new-and-delete-sc_480p.mp4",
      "uri_720p_mp4": "https://video.udacity-data.com/topher/2019/September/5d855a4f_nd213-c03-l03-03.2-using-new-and-delete-sc/nd213-c03-l03-03.2-using-new-and-delete-sc_720p.mp4",
      "uri_hls": "https://video.udacity-data.com/topher/2019/September/5d855a4f_nd213-c03-l03-03.2-using-new-and-delete-sc/hls/playlist.m3u8"
     },
     "youtube_id": "c15TrbmYY0o"
    }
   },
   "source": []
  },
  {
   "cell_type": "markdown",
   "metadata": {
    "editable": false
   },
   "source": [
    "<!--\n",
    "%%ulab_page_divider\n",
    "--><hr/>"
   ]
  },
  {
   "cell_type": "markdown",
   "metadata": {
    "editable": false
   },
   "source": [
    "In the code to the right, both the `new` and the `delete` operator are overloaded. In `new`, the size of the class object in bytes is printed to the console. Also, a block of memory of that size is allocated on the heap and the pointer to this block is returned. In `delete`, the block of memory is freed again. The console output of this example looks as follows: \n",
    "\n",
    "```\n",
    "new: Allocating 4 bytes of memory\n",
    "Constructor is called\n",
    "Destructor is called\n",
    "delete: Memory is freed again \n",
    "```\n",
    "\n",
    "As can be seen from the order of text output, memory is instantiated in `new` before the constructor is called, while the order is reversed for the destructor and the call to `delete`. "
   ]
  },
  {
   "cell_type": "markdown",
   "metadata": {
    "editable": false
   },
   "source": [
    "<!--\n",
    "%%ulab_page_divider\n",
    "--><hr/>"
   ]
  },
  {
   "cell_type": "markdown",
   "metadata": {
    "editable": false
   },
   "source": [
    "### Quiz : \n",
    "\n",
    "What will happen to the console output of the overloaded new operator when the data type of `_mymember` is changed from int to double?\n",
    "\n",
    "1. Nothing.\n",
    "2. There will be a memory leak as not enough memory is allocated on the heap.\n",
    "3. The output will show a changed size in bytes (8 instead of 4)."
   ]
  },
  {
   "cell_type": "markdown",
   "metadata": {
    "editable": false,
    "toggleable": true,
    "ulab": {
     "buttons": {
      "ulab-button-toggle-b7aa8f44": {
       "style": "primary"
      }
     }
    }
   },
   "source": [
    "The correct answer is 3."
   ]
  },
  {
   "cell_type": "markdown",
   "metadata": {
    "editable": false
   },
   "source": [
    "<!--\n",
    "%%ulab_page_divider\n",
    "--><hr/>"
   ]
  },
  {
   "cell_type": "markdown",
   "metadata": {
    "editable": false
   },
   "source": [
    "## Overloading new[] and delete[]\n",
    "\n",
    "In addition to the `new` and `delete` operators we have seen so far, we can use the following code to create an array of objects: \n",
    "\n",
    "```\n",
    "void* operator new[](size_t size);\n",
    "void operator delete[](void*);\n",
    "```\n",
    "Let us consider the example on the right, which has been slightly modified to allocate an array of objects instead of a single one.\n"
   ]
  },
  {
   "cell_type": "markdown",
   "metadata": {
    "editable": false
   },
   "source": [
    "<!--\n",
    "%%ulab_page_divider\n",
    "--><hr/>"
   ]
  },
  {
   "cell_type": "markdown",
   "metadata": {
    "editable": false
   },
   "source": [
    "In main, we are now creating an array of three objects of MyClass. Also, the overloaded `new` and `delete` operators have been changed to accept arrays. Let us take a look at the console output: \n",
    "```\n",
    "new: Allocating 20 bytes of memory\n",
    "Constructor is called\n",
    "Constructor is called\n",
    "Constructor is called\n",
    "Destructor is called\n",
    "Destructor is called\n",
    "Destructor is called\n",
    "delete: Memory is freed again \n",
    "```\n",
    "\n",
    "Interestingly, the memory requirement is larger than expected: With `new`,  the block size was 4 bytes, which is exactly the space required for a single integer. Thus, with three integers, it should now be 12 bytes instead of 20 bytes. The reason for this is the memory allocation overhead that the compiler needs to keep track of the allocated blocks of memory - which in itself consumes memory. If we change the above call to e.g. `new MyClass[100]()`, we will see that the overhead of 8 bytes does not change: \n",
    "```\n",
    "new: Allocating 408 bytes of memory\n",
    "Constructor is called\n",
    "…\n",
    "Destructor is called\n",
    "delete: Memory is freed again \n",
    "```"
   ]
  }
 ],
 "metadata": {
  "kernelspec": {
   "display_name": "Python 3",
   "language": "python",
   "name": "python3"
  },
  "language_info": {
   "codemirror_mode": {
    "name": "ipython",
    "version": 3
   },
   "file_extension": ".py",
   "mimetype": "text/x-python",
   "name": "python",
   "nbconvert_exporter": "python",
   "pygments_lexer": "ipython3",
   "version": "3.6.3"
  },
  "ulab_nb_type": "guided"
 },
 "nbformat": 4,
 "nbformat_minor": 4
}
