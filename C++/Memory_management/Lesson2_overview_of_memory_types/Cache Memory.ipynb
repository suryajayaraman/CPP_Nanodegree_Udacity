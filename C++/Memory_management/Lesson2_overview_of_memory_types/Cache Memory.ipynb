{
 "cells": [
  {
   "cell_type": "markdown",
   "metadata": {
    "editable": false
   },
   "source": [
    "# Cache-friendly coding\n",
    "\n",
    "In the code sample to the right, run the code and note the results. Then please modify the code slightly by interchanging the index `i` and `j` when accessing the variable `x` and take a close look at the resulting runtime performance compared to the original version."
   ]
  },
  {
   "cell_type": "markdown",
   "metadata": {
    "editable": false
   },
   "source": [
    "<!--\n",
    "%%ulab_page_divider\n",
    "--><hr/>"
   ]
  },
  {
   "cell_type": "markdown",
   "metadata": {
    "editable": false
   },
   "source": [
    "Depending on the machine used for executing the two code versions, there will be a huge difference in execution time. In order to understand why this happens, let us revisit the memory layout we investigated with the gdb debugger at the beginning of this lesson: Even though we have created a two-dimensional array, it is stored in a one-dimensional succession of memory cells. In our minds, the array will (probably) look like this: \n",
    "\n",
    "![](C1-4%20%20Cache%20Memory/C14-FIG4.png)\n",
    "\n",
    "In memory however, it is stored as a single line as follows: \n",
    "\n",
    "![](C1-4%20%20Cache%20Memory/C14-FIG5.png)\n",
    "\n",
    "As can be seen, the rows of the two-dimensional matrix are copied one after the other. This format is called \"row major\" and is the default for both C and C++. Some other languages such as Fortran are \"column major\" and a memory-aware programmer should always know the memory layout of the language he or she is using. \n",
    "\n",
    "Note that even though the row major memory layout is used in C++, this doesn't mean that all C++ libraries have the same default; for example, the popular Eigen library used for matrix operations in C++ [defaults to column major](https://eigen.tuxfamily.org/dox/group__TopicStorageOrders.html)."
   ]
  },
  {
   "cell_type": "markdown",
   "metadata": {
    "editable": false
   },
   "source": [
    "<!--\n",
    "%%ulab_page_divider\n",
    "--><hr/>"
   ]
  },
  {
   "cell_type": "markdown",
   "metadata": {
    "editable": false
   },
   "source": [
    "As we have created an array of integers, the difference between two adjacent memory cells will be `sizeof(int)`, which is 4 bytes. Let us verify this by changing the size of the array to 4x4 and by plotting both the address and the index numbers to the console. Be sure to revert the array access back to `x[i][j] = i + j`. You can plot by uncommenting the printout line in the inner for loop:\n",
    "\n",
    "```\n",
    "0x6021e0: i=0, j=0\n",
    "0x6021e4: i=0, j=1\n",
    "0x6021e8: i=0, j=2\n",
    "0x6021ec: i=0, j=3\n",
    "\n",
    "0x6021f0: i=1, j=0\n",
    "0x6021f4: i=1, j=1\n",
    "0x6021f8: i=1, j=2\n",
    "0x6021fc: i=1, j=3\n",
    "\n",
    "0x602200: i=2, j=0\n",
    "0x602204: i=2, j=1\n",
    "0x602208: i=2, j=2\n",
    "0x60220c: i=2, j=3\n",
    "\n",
    "0x602210: i=3, j=0\n",
    "0x602214: i=3, j=1\n",
    "0x602218: i=3, j=2\n",
    "0x60221c: i=3, j=3\n",
    "\n",
    "Execution time: 83 microseconds\n",
    "```\n",
    "\n",
    "Clearly, the difference between two inner loop cycles is at 4 as predicted. "
   ]
  },
  {
   "cell_type": "markdown",
   "metadata": {
    "editable": false
   },
   "source": [
    "<!--\n",
    "%%ulab_page_divider\n",
    "--><hr/>"
   ]
  },
  {
   "cell_type": "markdown",
   "metadata": {
    "editable": false
   },
   "source": [
    "\n",
    "When we interchange the indices `i` and `j` when accessing the array as\n",
    "```cpp\n",
    "            x[j][i] = i + j;\n",
    "            std::cout << &x[j][i] << \": i=\" << j << \", j=\" << i << std::endl;\n",
    "```\n",
    "\n",
    "we get the following output: \n",
    "\n",
    "```\n",
    "0x6021e0: i=0, j=0\n",
    "0x6021f0: i=1, j=0\n",
    "0x602200: i=2, j=0\n",
    "0x602210: i=3, j=0\n",
    "\n",
    "0x6021e4: i=0, j=1\n",
    "0x6021f4: i=1, j=1\n",
    "0x602204: i=2, j=1\n",
    "0x602214: i=3, j=1\n",
    "\n",
    "0x6021e8: i=0, j=2\n",
    "0x6021f8: i=1, j=2\n",
    "0x602208: i=2, j=2\n",
    "0x602218: i=3, j=2\n",
    "\n",
    "0x6021ec: i=0, j=3\n",
    "0x6021fc: i=1, j=3\n",
    "0x60220c: i=2, j=3\n",
    "0x60221c: i=3, j=3\n",
    "\n",
    "Execution time: 115 microseconds\n",
    "```\n",
    "\n",
    "As can be see, the difference between two rows is now 0x10, which is 16 in the decimal system. This means that with each access to the matrix, four memory cells are skipped and the principle of spatial locality is violated. As a result, the wrong data is loaded into the L1 cache, leading to cache misses and costly reload operations - hence the significantly increased execution time between the two code samples. The difference in execution time of both code samples shows that cache-aware programming can increase code performance significantly."
   ]
  }
 ],
 "metadata": {
  "kernelspec": {
   "display_name": "Python 3",
   "language": "python",
   "name": "python3"
  },
  "language_info": {
   "codemirror_mode": {
    "name": "ipython",
    "version": 3
   },
   "file_extension": ".py",
   "mimetype": "text/x-python",
   "name": "python",
   "nbconvert_exporter": "python",
   "pygments_lexer": "ipython3",
   "version": "3.6.3"
  },
  "ulab_nb_type": "guided"
 },
 "nbformat": 4,
 "nbformat_minor": 4
}
