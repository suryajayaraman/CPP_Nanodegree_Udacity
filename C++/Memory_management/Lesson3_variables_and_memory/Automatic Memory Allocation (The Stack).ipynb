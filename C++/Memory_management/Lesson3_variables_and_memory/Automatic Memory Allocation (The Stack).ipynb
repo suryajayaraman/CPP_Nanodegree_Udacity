{
 "cells": [
  {
   "cell_type": "markdown",
   "metadata": {
    "editable": false
   },
   "source": [
    "## Stack Growth and Contraction\n",
    "\n",
    "In the first experiment, we will look at the behavior of the stack when local variables are allocated and a function is called. Consider the piece of code on the right.\n",
    "\n",
    "Within the main function, we see two declarations of local variables `i` and `j` followed by a call to `MyFunc`, where another local variable is allocated. After `MyFunc` returns, another local variable is allocated in `main`.  The program generates the following output: \n",
    "\n",
    "```\n",
    "1: 0x7ffeefbff688 \n",
    "2: 0x7ffeefbff684 \n",
    "3: 0x7ffeefbff65c \n",
    "4: 0x7ffeefbff680 \n",
    "```\n",
    "\n",
    "Between 1 and 2, the stack address is reduced by 4 bytes, which corresponds to the allocation of memory for the int `j`. \n",
    "\n",
    "Between 2 and 3, the address pointer is moved by 0x28. We can easily see that calling a function causes a significant amount of memory to be allocated.  In addition to the local variable of `MyFunc`, the compiler needs to store additional data such as the return address. \n",
    "\n",
    "Between 3 and 4, `MyFunc` has returned and a third local variable `k` has been allocated on the stack. The stack pointer now has moved back to a location which is 4 bytes relative to position 2. This means that after returning from `MyFunc`, the stack has contracted to the size it had before the function call. \n",
    "\n",
    "The following diagram illustrates how the stack grows and contracts during program execution:\n",
    "\n",
    "![](images/C22-FIG2.png)\n"
   ]
  },
  {
   "cell_type": "markdown",
   "metadata": {
    "editable": false
   },
   "source": [
    "<!--\n",
    "%%ulab_page_divider\n",
    "--><hr/>"
   ]
  },
  {
   "cell_type": "markdown",
   "metadata": {
    "editable": false
   },
   "source": [
    "## Total Stack Size\n",
    "When a thread is created, stack memory  is allocated by the operating system as a contiguous block. With each new function call or local variable allocation, the stack pointer is moved until eventually it will reach the bottom of said memory block. Once it exceeds this limit (which is called \"stack overflow\"), the program will crash. We will try to find out the limit of your computer’s stack memory in the following exercise."
   ]
  },
  {
   "cell_type": "markdown",
   "metadata": {
    "editable": false
   },
   "source": [
    "<!--\n",
    "%%ulab_page_divider\n",
    "--><hr/>"
   ]
  },
  {
   "cell_type": "markdown",
   "metadata": {
    "editable": false
   },
   "source": [
    "### Exercise: Create a Stack Overflow\n",
    "Your task is to create a small program that allocates so much stack memory that an overflow happens. To do this, use a function that allocates some local variable and calls itself recursively. With each new function call, the address of the local variable shall be printed to the console along with the address of a local variable in main which has been allocated before the first function call. \n",
    "\n",
    "The output of the program should look like this: \n",
    "```\n",
    "...\n",
    "262011: stack bottom : 0x7ffeefbff688, current : 0x7ffeef400704\n",
    "262012: stack bottom : 0x7ffeefbff688, current : 0x7ffeef4006e4\n",
    "262013: stack bottom : 0x7ffeefbff688, current : 0x7ffeef4006c4\n",
    "262014: stack bottom : 0x7ffeefbff688, current : 0x7ffeef4006a4\n",
    "262015: stack bottom : 0x7ffeefbff688, current : 0x7ffeef400684\n",
    "262016: stack bottom : 0x7ffeefbff688, current : 0x7ffeef400664\n",
    "```\n",
    "\n",
    "The left-most number keeps track of the recursion depth while the difference between the stack bottom and the current position of the stack pointer lets us compute the size of the stack memory which has been used up already. On my MacBook Pro, the size of the stack memory is at 8MB. On Mac or Linux systems, stack size can be checked using the command `ulimit -s`:\n",
    "```\n",
    "imac-pro:~ ahaja$ ulimit -s\n",
    "8192\n",
    "```\n",
    "\n",
    "On reaching the last line in the above output, the program crashed. As expected, the difference between stack bottom and current stack pointer corresponded to the maximum size of the stack: \n",
    "`0x7ffeef400664 - 0x7ffeefbff688 = 0xffffffffff800FDC = 8.384.548 bytes`\n",
    "\n",
    "From this experiment we can draw the simple conclusion that we do not want to run out of stack memory. This can happen quickly though, even on machines with large amounts of RAM installed. As we have seen, the size of the stack does not benefit from this at all but remains fixed at a very small size. "
   ]
  },
  {
   "cell_type": "markdown",
   "metadata": {
    "editable": false,
    "toggleable": true,
    "ulab": {
     "buttons": {
      "ulab-button-toggle-829d0b60": {
       "style": "primary"
      }
     }
    }
   },
   "source": [
    "```\n",
    "#include <stdio.h>\n",
    "    \n",
    "int id = 0; \n",
    "\n",
    "void MyRecursiveFunc(int &i)\n",
    "{\n",
    "    int j = 1;\n",
    "    printf (\"%d: stack bottom : %p, current : %p\\n\",id++, &i, &j);\n",
    "    MyRecursiveFunc(i);\n",
    "}\n",
    "\n",
    "int main()\n",
    "{\n",
    "    int i = 0; \n",
    "    MyRecursiveFunc(i);\n",
    "\n",
    "    return 0; \n",
    "}\n",
    "```"
   ]
  }
 ],
 "metadata": {
  "kernelspec": {
   "display_name": "Python 3",
   "language": "python",
   "name": "python3"
  },
  "language_info": {
   "codemirror_mode": {
    "name": "ipython",
    "version": 3
   },
   "file_extension": ".py",
   "mimetype": "text/x-python",
   "name": "python",
   "nbconvert_exporter": "python",
   "pygments_lexer": "ipython3",
   "version": "3.6.3"
  },
  "ulab_nb_type": "guided"
 },
 "nbformat": 4,
 "nbformat_minor": 4
}
