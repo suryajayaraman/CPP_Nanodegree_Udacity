{
 "cells": [
  {
   "cell_type": "code",
   "execution_count": null,
   "metadata": {
    "graffitiCellId": "id_h0azs4e",
    "graffitiConfig": {
     "executeCellViaGraffiti": "1uovx7x_ewt8ehi"
    }
   },
   "outputs": [],
   "source": [
    "#include <assert.h>\n",
    "\n",
    "// TODO: Declare a generic, templatized average function\n",
    "\n",
    "int main() { assert(average(2.0,5.0) == 3.5); }"
   ]
  },
  {
   "cell_type": "markdown",
   "metadata": {
    "graffitiCellId": "id_1uovx7x"
   },
   "source": [
    "<span class=\"graffiti-highlight graffiti-id_1uovx7x-id_ewt8ehi\"><i></i><button>Compile & Run</button></span>&nbsp;\n",
    "<span class=\"graffiti-highlight graffiti-id_v4jwz3q-id_z1l2sh9\"><i></i><button>Explain</button></span>"
   ]
  },
  {
   "cell_type": "markdown",
   "metadata": {
    "graffitiCellId": "id_wgk18rm",
    "graffitiConfig": {
     "rows": 10,
     "terminalId": "id_kimxjbx",
     "type": "terminal"
    }
   },
   "source": [
    "<i>Loading terminal (id_wgk18rm), please wait...</i>"
   ]
  }
 ],
 "metadata": {
  "graffiti": {
   "firstAuthorId": "8978490740",
   "id": "id_itcdm0e",
   "language": "EN"
  },
  "kernelspec": {
   "display_name": "C++17",
   "language": "C++17",
   "name": "xeus-cling-cpp17"
  },
  "language_info": {
   "codemirror_mode": "text/x-c++src",
   "file_extension": ".cpp",
   "mimetype": "text/x-c++src",
   "name": "c++",
   "version": "-std=c++17"
  }
 },
 "nbformat": 4,
 "nbformat_minor": 2
}
