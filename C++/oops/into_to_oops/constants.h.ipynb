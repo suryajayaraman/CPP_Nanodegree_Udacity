{
 "cells": [
  {
   "cell_type": "code",
   "execution_count": null,
   "metadata": {
    "graffitiCellId": "id_y6u4g72",
    "graffitiConfig": {
     "executeCellViaGraffiti": "dt1zai3_fwgzjtf"
    }
   },
   "outputs": [],
   "source": [
    "#include <iostream>\n",
    "#include <string>\n",
    "#include <bits/stdc++.h> \n",
    "using namespace std;\n",
    "    \n",
    "enum class CPUStates{\n",
    "    S_USER,\n",
    "    S_NICE,\n",
    "    S_SYSTEM,\n",
    "    S_IDLE,\n",
    "    S_IOWAIT,\n",
    "    S_IRQ,\n",
    "    S_SOFTIRQ,\n",
    "    S_STEAL,\n",
    "    S_GUEST,\n",
    "    S_GUEST_NICE\n",
    "};\n",
    "\n",
    "class Path{\n",
    "    public:\n",
    "        static string basePath() \n",
    "        {\n",
    "            return \"/proc/\";\n",
    "        }\n",
    "        static string cmdPath()\n",
    "        {\n",
    "            return \"/cmdline\";\n",
    "        }\n",
    "        static string statusPath()\n",
    "        {\n",
    "            return \"/status\";\n",
    "        }\n",
    "        static string statPath()\n",
    "        {\n",
    "            return \"stat\";\n",
    "        }\n",
    "        static string upTimePath()\n",
    "        {\n",
    "            return \"uptime\";\n",
    "        }\n",
    "        static string memInfoPath()\n",
    "        {\n",
    "            return \"meminfo\";\n",
    "        }\n",
    "        static string versionPath()\n",
    "        {\n",
    "            return \"version\";\n",
    "        }\n",
    "};\n",
    "\n",
    "int main() \n",
    "{   \n",
    "    std::cout << \"listing: \" + Path::basePath() << std::endl;\n",
    "    std::string command = \"ls \" + Path::basePath();\n",
    "    int n = command.length();  \n",
    "    char char_command[n+1];  \n",
    "    strcpy(char_command, command.c_str());  \n",
    "    std::system(char_command);\n",
    "}"
   ]
  },
  {
   "cell_type": "markdown",
   "metadata": {
    "graffitiCellId": "id_dt1zai3"
   },
   "source": [
    "<span class=\"graffiti-highlight graffiti-id_dt1zai3-id_fwgzjtf\"><i></i><button>Compile & Run</button></span>"
   ]
  },
  {
   "cell_type": "markdown",
   "metadata": {
    "graffitiCellId": "id_j5ecoar",
    "graffitiConfig": {
     "rows": 14,
     "terminalId": "id_8ntd59e",
     "type": "terminal"
    }
   },
   "source": [
    "<i>Loading terminal (id_j5ecoar), please wait...</i>"
   ]
  }
 ],
 "metadata": {
  "graffiti": {
   "firstAuthorId": "8978490740",
   "id": "id_itcdm0e",
   "language": "EN"
  },
  "kernelspec": {
   "display_name": "C++17",
   "language": "C++17",
   "name": "xeus-cling-cpp17"
  },
  "language_info": {
   "codemirror_mode": "text/x-c++src",
   "file_extension": ".cpp",
   "mimetype": "text/x-c++src",
   "name": "c++",
   "version": "-std=c++17"
  }
 },
 "nbformat": 4,
 "nbformat_minor": 2
}
