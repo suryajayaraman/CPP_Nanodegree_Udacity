{
 "cells": [
  {
   "cell_type": "code",
   "execution_count": null,
   "metadata": {
    "graffitiCellId": "id_xw9exoj",
    "graffitiConfig": {
     "executeCellViaGraffiti": "gdvh9tb_8gjw3ae"
    }
   },
   "outputs": [],
   "source": [
    "#include <assert.h>\n",
    "#include <exception>\n",
    "#include <iostream>\n",
    "\n",
    "class Date {\n",
    "public:\n",
    "  // TODO: Define a constructor to initialize the member variables\n",
    " \n",
    "  void SetDate(int day, int month, int year);\n",
    "  int Day() const { return day_; }\n",
    "  int Month() const { return month_; }\n",
    "  int Year() const { return year_; }\n",
    "\n",
    "private:\n",
    "  int day_;\n",
    "  int month_;\n",
    "  int year_;\n",
    "};\n",
    "\n",
    "void Date::SetDate(int day, int month, int year) {\n",
    "  int day_numbers[]{31, 28, 31, 30, 31, 30, 31, 31, 30, 31, 30, 31};\n",
    "\n",
    "  if (year < 1 || day < 1 || month < 1 || month > 12 ||\n",
    "      day > day_numbers[month - 1])\n",
    "    throw std::domain_error(\"Invalid date!\");\n",
    "\n",
    "  Date::day_ = day;\n",
    "  Date::month_ = month;\n",
    "  Date::year_ = year;\n",
    "}\n",
    "\n",
    "int main() {\n",
    "  Date date(12, 12, 2010);\n",
    "  assert(date.Month() == 12);\n",
    "  return 0;\n",
    "}"
   ]
  },
  {
   "cell_type": "markdown",
   "metadata": {
    "graffitiCellId": "id_gdvh9tb"
   },
   "source": [
    "<span class=\"graffiti-highlight graffiti-id_gdvh9tb-id_8gjw3ae\"><i></i><button>Compile & Run</button></span>&nbsp;\n",
    "<span class=\"graffiti-highlight graffiti-id_5g0b9ci-id_c1b674p\"><i></i><button>Explain</button></span>"
   ]
  },
  {
   "cell_type": "markdown",
   "metadata": {
    "graffitiCellId": "id_zguaukv",
    "graffitiConfig": {
     "rows": 12,
     "terminalId": "id_8bfcad6",
     "type": "terminal"
    }
   },
   "source": [
    "<i>Loading terminal (id_zguaukv), please wait...</i>"
   ]
  }
 ],
 "metadata": {
  "graffiti": {
   "firstAuthorId": "8978490740",
   "id": "id_itcdm0e",
   "language": "EN"
  },
  "kernelspec": {
   "display_name": "C++17",
   "language": "C++17",
   "name": "xeus-cling-cpp17"
  },
  "language_info": {
   "codemirror_mode": "text/x-c++src",
   "file_extension": ".cpp",
   "mimetype": "text/x-c++src",
   "name": "c++",
   "version": "-std=c++17"
  }
 },
 "nbformat": 4,
 "nbformat_minor": 2
}
