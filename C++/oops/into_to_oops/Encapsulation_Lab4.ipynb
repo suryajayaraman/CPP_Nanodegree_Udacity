{
 "cells": [
  {
   "cell_type": "code",
   "execution_count": null,
   "metadata": {
    "graffitiCellId": "id_2eq82yp",
    "graffitiConfig": {
     "executeCellViaGraffiti": "66rm1m6_251f3fq"
    }
   },
   "outputs": [],
   "source": [
    "#include <cassert>\n",
    "#include <stdexcept>\n",
    "\n",
    "// TODO: Define class Pyramid\n",
    "\n",
    "// public class members\n",
    "\n",
    "// constructor\n",
    "\n",
    "// accessors\n",
    "\n",
    "// mutators\n",
    "\n",
    "// public Volume() function\n",
    "\n",
    "// private class members\n",
    "\n",
    "// Test\n",
    "int main() {\n",
    "  Pyramid pyramid(4, 5, 6);\n",
    "  assert(pyramid.Length() == 4);\n",
    "  assert(pyramid.Width() == 5);\n",
    "  assert(pyramid.Height() == 6);\n",
    "  assert(pyramid.Volume() == 40);\n",
    "\n",
    "  bool caught{false};\n",
    "  try {\n",
    "    Pyramid invalid(-1, 2, 3);\n",
    "  } catch (...) {\n",
    "    caught = true;\n",
    "  }\n",
    "  assert(caught);\n",
    "}"
   ]
  },
  {
   "cell_type": "markdown",
   "metadata": {
    "graffitiCellId": "id_66rm1m6"
   },
   "source": [
    "<span class=\"graffiti-highlight graffiti-id_66rm1m6-id_251f3fq\"><i></i><button>Compile & Run</button></span>\n",
    "<span class=\"graffiti-highlight graffiti-id_a4lp7f3-id_1t82qn0\"><i></i><button>Explain</button></span>"
   ]
  },
  {
   "cell_type": "markdown",
   "metadata": {
    "graffitiCellId": "id_6962hjh",
    "graffitiConfig": {
     "rows": 6,
     "terminalId": "id_6962hjh",
     "type": "terminal"
    }
   },
   "source": [
    "<i>Loading terminal (id_6962hjh), please wait...</i>"
   ]
  }
 ],
 "metadata": {
  "graffiti": {
   "firstAuthorId": "8978490740",
   "id": "id_g4m4i1f",
   "language": "EN"
  },
  "kernelspec": {
   "display_name": "C++17",
   "language": "C++17",
   "name": "xeus-cling-cpp17"
  },
  "language_info": {
   "codemirror_mode": "text/x-c++src",
   "file_extension": ".cpp",
   "mimetype": "text/x-c++src",
   "name": "c++",
   "version": "-std=c++17"
  }
 },
 "nbformat": 4,
 "nbformat_minor": 2
}
