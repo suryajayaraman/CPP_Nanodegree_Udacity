{
 "cells": [
  {
   "cell_type": "code",
   "execution_count": null,
   "metadata": {
    "graffitiCellId": "id_vcnynj5",
    "graffitiConfig": {
     "executeCellViaGraffiti": "bcz7nas_tbfm8y2"
    }
   },
   "outputs": [],
   "source": [
    "#include <cassert>\n",
    "#include <cmath>\n",
    "#include <stdexcept>\n",
    "\n",
    "// TODO: Define class Sphere\n",
    "class Sphere {\n",
    " public:\n",
    "  // Constructor\n",
    "\n",
    "  // Accessors\n",
    "\n",
    " private:\n",
    "  // Private members\n",
    "};\n",
    "\n",
    "// Test\n",
    "int main(void) {\n",
    "  Sphere sphere(5);\n",
    "  assert(sphere.Radius() == 5);\n",
    "  assert(abs(sphere.Volume() - 523.6) < 1);\n",
    "}"
   ]
  },
  {
   "cell_type": "markdown",
   "metadata": {
    "graffitiCellId": "id_bcz7nas"
   },
   "source": [
    "<span class=\"graffiti-highlight graffiti-id_bcz7nas-id_tbfm8y2\"><i></i><button>Compile & Run</button></span>&nbsp;\n",
    "<span class=\"graffiti-highlight graffiti-id_wwrxigx-id_165n3v9\"><i></i><button>Explain</button></span>"
   ]
  },
  {
   "cell_type": "markdown",
   "metadata": {
    "graffitiCellId": "id_f00ikj9",
    "graffitiConfig": {
     "rows": 12,
     "terminalId": "id_2z6hzkr",
     "type": "terminal"
    }
   },
   "source": [
    "<i>Loading terminal (id_f00ikj9), please wait...</i>"
   ]
  }
 ],
 "metadata": {
  "graffiti": {
   "firstAuthorId": "8978490740",
   "id": "id_itcdm0e",
   "language": "EN"
  },
  "kernelspec": {
   "display_name": "C++17",
   "language": "C++17",
   "name": "xeus-cling-cpp17"
  },
  "language_info": {
   "codemirror_mode": "text/x-c++src",
   "file_extension": ".cpp",
   "mimetype": "text/x-c++src",
   "name": "c++",
   "version": "-std=c++17"
  }
 },
 "nbformat": 4,
 "nbformat_minor": 2
}
