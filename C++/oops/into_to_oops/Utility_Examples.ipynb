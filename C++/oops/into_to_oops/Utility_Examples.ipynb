{
 "cells": [
  {
   "cell_type": "code",
   "execution_count": null,
   "metadata": {
    "graffitiCellId": "id_p5ub32y",
    "graffitiConfig": {
     "executeCellViaGraffiti": "kclcfo7_1x96whn"
    }
   },
   "outputs": [],
   "source": [
    "#include <string>\n",
    "#include <fstream>\n",
    "#include <iostream>\n",
    "\n",
    "// Classic helper functions\n",
    "class Util {\n",
    "\n",
    "    public:\n",
    "        static std::string convertToTime ( long int input_seconds );\n",
    "        static std::string getProgressBar(std::string percent);\n",
    "        static std::ifstream getStream(std::string path);\n",
    "};\n",
    "\n",
    "std::string Util::convertToTime(long int input_seconds)\n",
    "{\n",
    "    long minutes = input_seconds / 60;\n",
    "    long hours = minutes / 60;\n",
    "    long seconds = int(input_seconds%60);\n",
    "    minutes = int(minutes%60);\n",
    "    std::string result = std::to_string(hours) + \":\" + std::to_string(minutes) + \":\" + std::to_string(seconds);\n",
    "    return result;\n",
    "}\n",
    "\n",
    "// constructing string for given percentage\n",
    "// 50 bars is uniformly streched 0 - 100 %\n",
    "// meaning: every 2% is one bar(|)\n",
    "std::string Util::getProgressBar(std::string percent)\n",
    "{\n",
    "    std::string result = \"0% \";\n",
    "    int _size= 50;\n",
    "    int  boundaries = (stof(percent)/100)*_size;\n",
    "\n",
    "    for (int i=0;i<_size;i++) {\n",
    "        if(i<=boundaries) {\n",
    "            result +=\"|\";\n",
    "        }\n",
    "        else {\n",
    "            result +=\" \";\n",
    "        }\n",
    "    }\n",
    "\n",
    "    result +=\" \" + percent.substr(0,5) + \" /100%\";\n",
    "    return result;\n",
    "}\n",
    "\n",
    "// wrapper for creating streams\n",
    "std::ifstream Util::getStream(std::string path)\n",
    "{\n",
    "    std::ifstream stream(path);\n",
    "    if (!stream) {\n",
    "        throw std::runtime_error(\"Non - existing PID\");\n",
    "    }\n",
    "    return stream;\n",
    "}\n",
    "\n",
    "int main() \n",
    "{   \n",
    "    Util u;\n",
    "    std::cout << u.convertToTime(403909) << \"\\n\";\n",
    "    std::cout << u.getProgressBar(\"99\\n\");\n",
    "}\n"
   ]
  },
  {
   "cell_type": "markdown",
   "metadata": {
    "graffitiCellId": "id_kclcfo7"
   },
   "source": [
    "<span class=\"graffiti-highlight graffiti-id_kclcfo7-id_1x96whn\"><i></i><button>Compile & Execute</button></span>"
   ]
  },
  {
   "cell_type": "markdown",
   "metadata": {
    "graffitiCellId": "id_to88yus",
    "graffitiConfig": {
     "rows": 6,
     "terminalId": "id_bn7yt63",
     "type": "terminal"
    }
   },
   "source": [
    "<i>Loading terminal (id_to88yus), please wait...</i>"
   ]
  }
 ],
 "metadata": {
  "graffiti": {
   "firstAuthorId": "8978490740",
   "id": "id_qrdke0c",
   "language": "EN"
  },
  "kernelspec": {
   "display_name": "C++17",
   "language": "C++17",
   "name": "xeus-cling-cpp17"
  },
  "language_info": {
   "codemirror_mode": "text/x-c++src",
   "file_extension": ".cpp",
   "mimetype": "text/x-c++src",
   "name": "c++",
   "version": "-std=c++17"
  }
 },
 "nbformat": 4,
 "nbformat_minor": 2
}
