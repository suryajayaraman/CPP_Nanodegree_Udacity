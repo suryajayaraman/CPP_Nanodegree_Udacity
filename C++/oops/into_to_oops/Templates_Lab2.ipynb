{
 "cells": [
  {
   "cell_type": "code",
   "execution_count": null,
   "metadata": {
    "graffitiCellId": "id_l7s77cl",
    "graffitiConfig": {
     "executeCellViaGraffiti": "dt9wgmo_b6dh5i2"
    }
   },
   "outputs": [],
   "source": [
    "#include <iostream>\n",
    "\n",
    "// Define template for average() function\n",
    "\n",
    "// Test in main() with different data types\n",
    "int main()\n",
    "{\n",
    "\n",
    "}"
   ]
  },
  {
   "cell_type": "markdown",
   "metadata": {
    "graffitiCellId": "id_dt9wgmo"
   },
   "source": [
    "<span class=\"graffiti-highlight graffiti-id_dt9wgmo-id_b6dh5i2\"><i></i><button>Run Code</button></span>"
   ]
  },
  {
   "cell_type": "markdown",
   "metadata": {
    "graffitiCellId": "id_cjfitcx",
    "graffitiConfig": {
     "rows": 6,
     "terminalId": "id_cjfitcx",
     "type": "terminal"
    }
   },
   "source": [
    "<i>Loading terminal (id_cjfitcx), please wait...</i>"
   ]
  },
  {
   "cell_type": "markdown",
   "metadata": {
    "graffitiCellId": "id_xf5bx8q"
   },
   "source": [
    "<span class=\"graffiti-highlight graffiti-id_xf5bx8q-id_0ac62hn\"><i></i><button>Show Solution</button></span>"
   ]
  }
 ],
 "metadata": {
  "graffiti": {
   "firstAuthorId": "8978490740",
   "id": "id_itcdm0e",
   "language": "EN"
  },
  "kernelspec": {
   "display_name": "C++17",
   "language": "C++17",
   "name": "xeus-cling-cpp17"
  },
  "language_info": {
   "codemirror_mode": "text/x-c++src",
   "file_extension": ".cpp",
   "mimetype": "text/x-c++src",
   "name": "c++",
   "version": "-std=c++17"
  }
 },
 "nbformat": 4,
 "nbformat_minor": 2
}
