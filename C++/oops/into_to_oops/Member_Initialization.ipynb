{
 "cells": [
  {
   "cell_type": "markdown",
   "metadata": {
    "graffitiCellId": "id_rgze0hh"
   },
   "source": [
    "# Member Initialization\n",
    "Update the definition of the `Date` structure so that all objects of the structure default to January 1, 2000, upon initialization."
   ]
  },
  {
   "cell_type": "code",
   "execution_count": null,
   "metadata": {
    "graffitiCellId": "id_fj6mwxd",
    "graffitiConfig": {
     "executeCellViaGraffiti": "868ma6e_190x7vl"
    }
   },
   "outputs": [],
   "source": [
    "#include <cassert>\n",
    "#include <iostream>\n",
    "\n",
    "// TODO: Update the structure to initialize the member variables to a default of January 1, 2000\n",
    "struct Date {\n",
    "  int day;\n",
    "  int month;\n",
    "  int year;\n",
    "};\n",
    "\n",
    "int main() {\n",
    "  Date date;\n",
    "  assert(date.day == 1);\n",
    "  assert(date.month == 1);\n",
    "  assert(date.year == 2000);\n",
    "  std::cout << date.day << \"/\" << date.month << \"/\" << date.year << \"\\n\";\n",
    "}"
   ]
  },
  {
   "cell_type": "markdown",
   "metadata": {
    "graffitiCellId": "id_868ma6e"
   },
   "source": [
    "<span class=\"graffiti-highlight graffiti-id_868ma6e-id_190x7vl\"><i></i><button>Compile & Run</button></span>\n",
    "<span class=\"graffiti-highlight graffiti-id_8ol1o8k-id_66qobff\"><i></i><button>Explain</button></span>"
   ]
  },
  {
   "cell_type": "markdown",
   "metadata": {
    "graffitiCellId": "id_6hi1vhu",
    "graffitiConfig": {
     "rows": 6,
     "terminalId": "id_ix4nl8d",
     "type": "terminal"
    }
   },
   "source": [
    "<i>Loading terminal (id_6hi1vhu), please wait...</i>"
   ]
  }
 ],
 "metadata": {
  "graffiti": {
   "firstAuthorId": "8802670962",
   "id": "id_eluxbd3",
   "language": "EN"
  },
  "kernelspec": {
   "display_name": "C++17",
   "language": "C++17",
   "name": "xeus-cling-cpp17"
  },
  "language_info": {
   "codemirror_mode": "text/x-c++src",
   "file_extension": ".cpp",
   "mimetype": "text/x-c++src",
   "name": "c++",
   "version": "-std=c++17"
  }
 },
 "nbformat": 4,
 "nbformat_minor": 2
}
