{
 "cells": [
  {
   "cell_type": "code",
   "execution_count": null,
   "metadata": {
    "graffitiCellId": "id_i69spze",
    "graffitiConfig": {
     "executeCellViaGraffiti": "v8cy73q_aqehu2s"
    }
   },
   "outputs": [],
   "source": [
    "#include <assert.h>\n",
    "#include <string>\n",
    "\n",
    "struct Person {\n",
    "public:\n",
    "  // TODO: Add an initialization list\n",
    "  Person(std::string name) {\n",
    "      Person::name = name;\n",
    "  }\n",
    "  std::string const name;\n",
    "};\n",
    "\n",
    "// Test\n",
    "int main() {\n",
    "  Person alice(\"Alice\");\n",
    "  Person bob(\"Bob\");\n",
    "  assert(alice.name != bob.name);\n",
    "}"
   ]
  },
  {
   "cell_type": "markdown",
   "metadata": {
    "graffitiCellId": "id_v8cy73q"
   },
   "source": [
    "<span class=\"graffiti-highlight graffiti-id_v8cy73q-id_aqehu2s\"><i></i><button>Compile & Run</button></span>&nbsp;\n",
    "<span class=\"graffiti-highlight graffiti-id_rkezknw-id_zq53d36\"><i></i><button>Explain</button></span>"
   ]
  },
  {
   "cell_type": "markdown",
   "metadata": {
    "graffitiCellId": "id_h2aq88q",
    "graffitiConfig": {
     "rows": 12,
     "terminalId": "id_m2jtws8",
     "type": "terminal"
    }
   },
   "source": [
    "<i>Loading terminal (id_h2aq88q), please wait...</i>"
   ]
  }
 ],
 "metadata": {
  "graffiti": {
   "firstAuthorId": "8978490740",
   "id": "id_itcdm0e",
   "language": "EN"
  },
  "kernelspec": {
   "display_name": "C++17",
   "language": "C++17",
   "name": "xeus-cling-cpp17"
  },
  "language_info": {
   "codemirror_mode": "text/x-c++src",
   "file_extension": ".cpp",
   "mimetype": "text/x-c++src",
   "name": "c++",
   "version": "-std=c++17"
  }
 },
 "nbformat": 4,
 "nbformat_minor": 2
}
