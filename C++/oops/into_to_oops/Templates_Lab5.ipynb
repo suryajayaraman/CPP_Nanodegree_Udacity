{
 "cells": [
  {
   "cell_type": "code",
   "execution_count": null,
   "metadata": {
    "graffitiCellId": "id_xjfe8sc",
    "graffitiConfig": {
     "executeCellViaGraffiti": "38a6fwt_ckqcros"
    }
   },
   "outputs": [],
   "source": [
    "#include <assert.h>\n",
    "#include <string>\n",
    "#include <sstream>\n",
    "\n",
    "// TODO: Add the correct template specification\n",
    "class Mapping {\n",
    "public:\n",
    "  Mapping(KeyType key, ValueType value) : key(key), value(value) {}\n",
    "  std::string Print() const {\n",
    "    std::ostringstream stream;\n",
    "    stream << key << \": \" << value;\n",
    "    return stream.str();\n",
    "  }\n",
    "  KeyType key;\n",
    "  ValueType value;\n",
    "};\n",
    "\n",
    "// Test\n",
    "int main() {\n",
    "  Mapping<std::string, int> mapping(\"age\", 20);\n",
    "  assert(mapping.Print() == \"age: 20\");\n",
    "}"
   ]
  },
  {
   "cell_type": "markdown",
   "metadata": {
    "graffitiCellId": "id_38a6fwt"
   },
   "source": [
    "<span class=\"graffiti-highlight graffiti-id_38a6fwt-id_ckqcros\"><i></i><button>Compile & Run</button></span>&nbsp;\n",
    "<span class=\"graffiti-highlight graffiti-id_57rxcqc-id_4p0oitx\"><i></i><button>Explain</button></span>"
   ]
  },
  {
   "cell_type": "markdown",
   "metadata": {
    "graffitiCellId": "id_jglxvs5",
    "graffitiConfig": {
     "rows": 10,
     "terminalId": "id_f7s7f9r",
     "type": "terminal"
    }
   },
   "source": [
    "<i>Loading terminal (id_jglxvs5), please wait...</i>"
   ]
  }
 ],
 "metadata": {
  "graffiti": {
   "firstAuthorId": "8978490740",
   "id": "id_itcdm0e",
   "language": "EN"
  },
  "kernelspec": {
   "display_name": "C++17",
   "language": "C++17",
   "name": "xeus-cling-cpp17"
  },
  "language_info": {
   "codemirror_mode": "text/x-c++src",
   "file_extension": ".cpp",
   "mimetype": "text/x-c++src",
   "name": "c++",
   "version": "-std=c++17"
  }
 },
 "nbformat": 4,
 "nbformat_minor": 2
}
