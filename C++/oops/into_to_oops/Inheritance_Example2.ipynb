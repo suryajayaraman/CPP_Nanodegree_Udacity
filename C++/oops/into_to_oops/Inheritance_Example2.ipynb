{
 "cells": [
  {
   "cell_type": "code",
   "execution_count": null,
   "metadata": {
    "graffitiCellId": "id_cqakop6",
    "graffitiConfig": {
     "executeCellViaGraffiti": "n2c0g4v_zk1ycnk"
    }
   },
   "outputs": [],
   "source": [
    "// This example demonstrates the privacy levels\n",
    "// between parent and child classes\n",
    "#include <iostream>\n",
    "#include <string>\n",
    "using std::string;\n",
    "\n",
    "class Vehicle {\n",
    "public:\n",
    "    int wheels = 0;\n",
    "    string color = \"blue\";\n",
    "    \n",
    "    void Print() const\n",
    "    {\n",
    "        std::cout << \"This \" << color << \" vehicle has \" << wheels << \" wheels!\\n\";\n",
    "    }\n",
    "};\n",
    "\n",
    "class Car : public Vehicle {\n",
    "public:\n",
    "    bool sunroof = false;\n",
    "};\n",
    "\n",
    "class Bicycle : public Vehicle {\n",
    "public:\n",
    "    bool kickstand = true;\n",
    "};\n",
    "\n",
    "class Scooter : public Vehicle {\n",
    "public:\n",
    "    bool electric = false;\n",
    "};\n",
    "\n",
    "int main() \n",
    "{\n",
    "    Car car;\n",
    "    Bicycle bicycle;\n",
    "    Scooter scooter;\n",
    "};"
   ]
  },
  {
   "cell_type": "markdown",
   "metadata": {
    "graffitiCellId": "id_n2c0g4v"
   },
   "source": [
    "<span class=\"graffiti-highlight graffiti-id_n2c0g4v-id_zk1ycnk\"><i></i><button>Compile & Execute</button></span>&nbsp;\n",
    "<span class=\"graffiti-highlight graffiti-id_gsa3kfi-id_ijbbbz1\"><i></i><button>Explain</button></span>"
   ]
  },
  {
   "cell_type": "markdown",
   "metadata": {
    "graffitiCellId": "id_6jlky9u",
    "graffitiConfig": {
     "rows": 12,
     "terminalId": "id_7574u43",
     "type": "terminal"
    }
   },
   "source": [
    "<i>Loading terminal (id_6jlky9u), please wait...</i>"
   ]
  }
 ],
 "metadata": {
  "graffiti": {
   "firstAuthorId": "8978490740",
   "id": "id_xnc2lo4",
   "language": "EN"
  },
  "kernelspec": {
   "display_name": "C++17",
   "language": "C++17",
   "name": "xeus-cling-cpp17"
  },
  "language_info": {
   "codemirror_mode": "text/x-c++src",
   "file_extension": ".cpp",
   "mimetype": "text/x-c++src",
   "name": "c++",
   "version": "-std=c++17"
  }
 },
 "nbformat": 4,
 "nbformat_minor": 2
}
