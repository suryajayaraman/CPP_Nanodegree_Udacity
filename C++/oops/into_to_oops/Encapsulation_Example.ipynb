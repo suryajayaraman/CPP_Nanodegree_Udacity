{
 "cells": [
  {
   "cell_type": "markdown",
   "metadata": {
    "graffitiCellId": "id_bq76tpi"
   },
   "source": [
    "# Exercise: Encapsulation\n",
    "Add a private member function that calculates the number of days in a month, and use it to update the class invariants. Be sure to account for [leap years!](https://en.wikipedia.org/wiki/Leap_year#Algorithm)"
   ]
  },
  {
   "cell_type": "code",
   "execution_count": null,
   "metadata": {
    "graffitiCellId": "id_u23hcf8",
    "graffitiConfig": {
     "executeCellViaGraffiti": "7n6siw3_vhulebs"
    }
   },
   "outputs": [],
   "source": [
    "#include <cassert>\n",
    "\n",
    "class Date {\n",
    "public:\n",
    "  Date(int day, int month, int year);\n",
    "  int Day() const { return day_; }\n",
    "  void Day(int day);\n",
    "  int Month() const { return month_; }\n",
    "  void Month(int month);\n",
    "  int Year() const { return year_; }\n",
    "  void Year(int year);\n",
    "\n",
    "private:\n",
    "  int day_{1};\n",
    "  int month_{1};\n",
    "  int year_{0};\n",
    "};\n",
    "\n",
    "Date::Date(int day, int month, int year) {\n",
    "  Year(year);\n",
    "  Month(month);\n",
    "  Day(day);\n",
    "}\n",
    "\n",
    "void Date::Day(int day) {\n",
    "  if (day >= 1 && day <= 31)\n",
    "    day_ = day;\n",
    "}\n",
    "\n",
    "void Date::Month(int month) {\n",
    "  if (month >= 1 && month <= 12)\n",
    "    month_ = month;\n",
    "}\n",
    "\n",
    "void Date::Year(int year) { year_ = year; }\n",
    "\n",
    "// Test\n",
    "int main() {\n",
    "  Date date(29, 8, 1981);\n",
    "  assert(date.Day() == 29);\n",
    "  assert(date.Month() == 8);\n",
    "  assert(date.Year() == 1981);\n",
    "}"
   ]
  },
  {
   "cell_type": "markdown",
   "metadata": {
    "graffitiCellId": "id_7n6siw3"
   },
   "source": [
    "<span class=\"graffiti-highlight graffiti-id_7n6siw3-id_vhulebs\"><i></i><button>Compile & Run</button></span>&nbsp;\n",
    "<span class=\"graffiti-highlight graffiti-id_nlm3fxp-id_vmjl7yd\"><i></i><button>Explain</button></span>"
   ]
  },
  {
   "cell_type": "markdown",
   "metadata": {
    "graffitiCellId": "id_gfhfid7",
    "graffitiConfig": {
     "rows": 16,
     "terminalId": "id_oaqkni3",
     "type": "terminal"
    }
   },
   "source": [
    "<i>Loading terminal (id_gfhfid7), please wait...</i>"
   ]
  }
 ],
 "metadata": {
  "graffiti": {
   "firstAuthorId": "8978490740",
   "id": "id_2fu7960",
   "language": "EN"
  },
  "kernelspec": {
   "display_name": "C++17",
   "language": "C++17",
   "name": "xeus-cling-cpp17"
  },
  "language_info": {
   "codemirror_mode": "text/x-c++src",
   "file_extension": ".cpp",
   "mimetype": "text/x-c++src",
   "name": "c++",
   "version": "-std=c++17"
  }
 },
 "nbformat": 4,
 "nbformat_minor": 2
}
