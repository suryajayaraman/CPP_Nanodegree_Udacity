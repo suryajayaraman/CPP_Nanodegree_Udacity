{
 "cells": [
  {
   "cell_type": "code",
   "execution_count": null,
   "metadata": {
    "graffitiCellId": "id_5on7dlr",
    "graffitiConfig": {
     "executeCellViaGraffiti": "9pccbhl_hrr2o93"
    }
   },
   "outputs": [],
   "source": [
    "#include <iostream>\n",
    "\n",
    " using namespace std;\n",
    "\n",
    " class Polygon {\n",
    "\n",
    " protected:\n",
    "     int w; // width\n",
    "     int h; // height\n",
    "\n",
    " public:\n",
    "     // sets pprivate attributes\n",
    "     void SetAttributes (int x, int y){\n",
    "         w = x;\n",
    "         h = y;\n",
    "     }\n",
    " };\n",
    "\n",
    " class Triangle: public Polygon {\n",
    "\n",
    " public:\n",
    "     // returns area of triangle\n",
    "     int getArea(){\n",
    "         return (w*h)/2;\n",
    "     }\n",
    "     // constructor for triangle\n",
    "     Triangle(int width, int height){\n",
    "         w = width;\n",
    "         h = height;\n",
    "     }\n",
    " };\n",
    "\n",
    " class Rectangle: public Polygon {\n",
    "\n",
    " public:\n",
    "     // returns area of rectangle\n",
    "     int getArea(){\n",
    "         return w*h;\n",
    "     }\n",
    "     // constructor for rectangle\n",
    "     Rectangle(int width, int height){\n",
    "         w = width;\n",
    "         h = height;\n",
    "     }\n",
    "\n",
    " };\n",
    "\n",
    " int main()\n",
    " {\n",
    "     Triangle t1 = Triangle(10, 3);\n",
    "     Rectangle r1 = Rectangle(6, 9);\n",
    "\n",
    "     cout << \"Area of triangle t1: \" << t1.getArea() << endl;\n",
    "     cout << \"Area of rectangle r1: \" << r1.getArea() << endl;\n",
    "\n",
    "     cin.get();\n",
    "     return 0;\n",
    " }"
   ]
  },
  {
   "cell_type": "markdown",
   "metadata": {
    "graffitiCellId": "id_9pccbhl"
   },
   "source": [
    "<span class=\"graffiti-highlight graffiti-id_9pccbhl-id_hrr2o93\"><i></i><button>Run Code</button></span>"
   ]
  },
  {
   "cell_type": "markdown",
   "metadata": {
    "graffitiCellId": "id_7khxpqm",
    "graffitiConfig": {
     "rows": 6,
     "terminalId": "id_7exllg1",
     "type": "terminal"
    }
   },
   "source": [
    "<i>Loading terminal (id_7khxpqm), please wait...</i>"
   ]
  },
  {
   "cell_type": "code",
   "execution_count": null,
   "metadata": {
    "graffitiCellId": "id_ydii6h8",
    "graffitiConfig": {
     "executeCellViaGraffiti": "7p77sgs_wk5q6ks"
    }
   },
   "outputs": [],
   "source": [
    "#include <iostream>\n",
    "\n",
    " using namespace std;\n",
    "\n",
    " class Employee {\n",
    "\n",
    " public:\n",
    "     // this virtual function will make this class virtual\n",
    "     virtual void AbstractFunction(){\n",
    "         cout << \"abstract function\" << endl;\n",
    "     };\n",
    "\n",
    " };\n",
    "\n",
    " class Boss : public Employee {\n",
    "\n",
    " private:\n",
    "     string name;\n",
    "     int salary;\n",
    "     int bonus;\n",
    "\n",
    " public:\n",
    "     Boss(int sal, string n){\n",
    "         salary = sal;\n",
    "         name = n;\n",
    "     }\n",
    "\n",
    "     void giveRaise(int raise){\n",
    "         salary += raise;\n",
    "     }\n",
    "\n",
    "     int getSalary(){\n",
    "         return salary;\n",
    "     }\n",
    " };\n",
    "\n",
    " class Worker : public Employee{\n",
    "\n",
    "     int bonus;\n",
    " };\n",
    "\n",
    " int main()\n",
    " {\n",
    "     Boss b = Boss(3000, \"Dave\");\n",
    "\n",
    "     cout << b.getSalary() << endl;\n",
    "     b.giveRaise(50);\n",
    "     cout << b.getSalary() << endl;\n",
    "\n",
    "     return 0;\n",
    " }\n"
   ]
  },
  {
   "cell_type": "markdown",
   "metadata": {
    "graffitiCellId": "id_7p77sgs"
   },
   "source": [
    "<span class=\"graffiti-highlight graffiti-id_7p77sgs-id_wk5q6ks\"><i></i><button>Run Code</button></span>"
   ]
  },
  {
   "cell_type": "markdown",
   "metadata": {
    "graffitiCellId": "id_0z5hfxa",
    "graffitiConfig": {
     "rows": 6,
     "terminalId": "id_0st2x2g",
     "type": "terminal"
    }
   },
   "source": [
    "<i>Loading terminal (id_0z5hfxa), please wait...</i>"
   ]
  },
  {
   "cell_type": "code",
   "execution_count": null,
   "metadata": {
    "graffitiCellId": "id_p4l765w"
   },
   "outputs": [],
   "source": []
  }
 ],
 "metadata": {
  "graffiti": {
   "firstAuthorId": "8978490740",
   "id": "id_4qxcjhd",
   "language": "EN"
  },
  "kernelspec": {
   "display_name": "C++17",
   "language": "C++17",
   "name": "xeus-cling-cpp17"
  },
  "language_info": {
   "codemirror_mode": "text/x-c++src",
   "file_extension": ".cpp",
   "mimetype": "text/x-c++src",
   "name": "c++",
   "version": "-std=c++17"
  }
 },
 "nbformat": 4,
 "nbformat_minor": 2
}
