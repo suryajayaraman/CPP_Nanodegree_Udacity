{
 "cells": [
  {
   "cell_type": "markdown",
   "metadata": {
    "graffitiCellId": "id_82uobi0"
   },
   "source": [
    "## Exercise\n",
    "\n",
    "In the code below, the `Dog` class inherits from both `Animal` and `Pet`. Once you have examined the code below, add a `Cat` class that also inherits from `Animal` and `Pet`. \n",
    "\n",
    "The `Cat` class should have the attribute `string color`. Design the `Cat` class to pass the tests in the `main()` function."
   ]
  },
  {
   "cell_type": "code",
   "execution_count": null,
   "metadata": {
    "graffitiCellId": "id_3sqaygk",
    "graffitiConfig": {
     "executeCellViaGraffiti": "iqldn01_qu4lbvd"
    }
   },
   "outputs": [],
   "source": [
    "#include <iostream>\n",
    "#include <string>\n",
    "#include <assert.h>\n",
    "\n",
    "class Animal {\n",
    "public:\n",
    "    double age;\n",
    "};\n",
    "\n",
    "class Pet {\n",
    "public:\n",
    "    std::string name;\n",
    "};\n",
    "\n",
    "// Dog derives from *both* Animal and Pet\n",
    "class Dog : public Animal, public Pet {\n",
    "public:\n",
    "    std::string breed;\n",
    "};\n",
    "\n",
    "int main()\n",
    "{\n",
    "    assert(cat.color == \"black\");\n",
    "    assert(cat.age == 10);\n",
    "    assert(cat.name == \"Max\");\n",
    "}"
   ]
  },
  {
   "cell_type": "markdown",
   "metadata": {
    "graffitiCellId": "id_iqldn01"
   },
   "source": [
    "<span class=\"graffiti-highlight graffiti-id_iqldn01-id_qu4lbvd\"><i></i><button>Compile & Execute</button></span>&nbsp;\n",
    "<span class=\"graffiti-highlight graffiti-id_nxk829u-id_4yqz1xw\"><i></i><button>Explain</button></span>"
   ]
  },
  {
   "cell_type": "markdown",
   "metadata": {
    "graffitiCellId": "id_ay2gcn0",
    "graffitiConfig": {
     "rows": 12,
     "terminalId": "id_s8973bz",
     "type": "terminal"
    }
   },
   "source": [
    "<i>Loading terminal (id_ay2gcn0), please wait...</i>"
   ]
  }
 ],
 "metadata": {
  "graffiti": {
   "firstAuthorId": "8978490740",
   "id": "id_xnc2lo4",
   "language": "EN"
  },
  "kernelspec": {
   "display_name": "C++17",
   "language": "C++17",
   "name": "xeus-cling-cpp17"
  },
  "language_info": {
   "codemirror_mode": "text/x-c++src",
   "file_extension": ".cpp",
   "mimetype": "text/x-c++src",
   "name": "c++",
   "version": "-std=c++17"
  }
 },
 "nbformat": 4,
 "nbformat_minor": 2
}
