{
 "cells": [
  {
   "cell_type": "code",
   "execution_count": null,
   "metadata": {
    "graffitiCellId": "id_ht1mz9t",
    "graffitiConfig": {
     "executeCellViaGraffiti": "ic4r07t_gza2m3q"
    }
   },
   "outputs": [],
   "source": [
    "#include <string>\n",
    "#include <cstring>\n",
    "#include <iostream>\n",
    "\n",
    "class Car {\n",
    "    // TODO: Declare private attributes\n",
    "    private:\n",
    "        \n",
    "    // TODO: Declare getter and setter for brand\n",
    "    public:\n",
    "        \n",
    "};\n",
    "\n",
    "// Define setters\n",
    "\n",
    "// Define getters\n",
    "\n",
    "// Test in main()\n",
    "int main() \n",
    "{\n",
    "    Car car;\n",
    "    car.SetBrand(\"Peugeot\");\n",
    "    std::cout << car.GetBrand() << \"\\n\";   \n",
    "}"
   ]
  },
  {
   "cell_type": "markdown",
   "metadata": {
    "graffitiCellId": "id_ic4r07t"
   },
   "source": [
    "<span class=\"graffiti-highlight graffiti-id_ic4r07t-id_gza2m3q\"><i></i><button>Compile & Run</button></span>&nbsp;\n",
    "<span class=\"graffiti-highlight graffiti-id_pg23z1b-id_g4ip4k3\"><i></i><button>Explain</button></span>"
   ]
  },
  {
   "cell_type": "markdown",
   "metadata": {
    "graffitiCellId": "id_frf2itg",
    "graffitiConfig": {
     "rows": 6,
     "terminalId": "id_frf2itg",
     "type": "terminal"
    }
   },
   "source": [
    "<i>Loading terminal (id_frf2itg), please wait...</i>"
   ]
  },
  {
   "cell_type": "markdown",
   "metadata": {
    "graffitiCellId": "id_j5a9b81"
   },
   "source": [
    "<span class=\"graffiti-highlight graffiti-id_j5a9b81-id_t9xm0z7\"><i></i><button>Show Solution</button></span>"
   ]
  }
 ],
 "metadata": {
  "graffiti": {
   "firstAuthorId": "8978490740",
   "id": "id_g4m4i1f",
   "language": "EN"
  },
  "kernelspec": {
   "display_name": "C++17",
   "language": "C++17",
   "name": "xeus-cling-cpp17"
  },
  "language_info": {
   "codemirror_mode": "text/x-c++src",
   "file_extension": ".cpp",
   "mimetype": "text/x-c++src",
   "name": "c++",
   "version": "-std=c++17"
  }
 },
 "nbformat": 4,
 "nbformat_minor": 2
}
