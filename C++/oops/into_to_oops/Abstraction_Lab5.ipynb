{
 "cells": [
  {
   "cell_type": "code",
   "execution_count": null,
   "metadata": {
    "graffitiCellId": "id_vanw1mk",
    "graffitiConfig": {
     "executeCellViaGraffiti": "ep9t7mr_40kq58u"
    }
   },
   "outputs": [],
   "source": [
    "#include <cassert>\n",
    "#include <cmath>\n",
    "#include <stdexcept>\n",
    "\n",
    "class Sphere {\n",
    " public:\n",
    "  Sphere(int radius) : radius_(radius), volume_(pi_ * 4 / 3 * pow(radius_, 3)) {\n",
    "    if (radius <= 0) throw std::invalid_argument(\"radius must be positive\");\n",
    "  }\n",
    "\n",
    "  int Radius() const { return radius_; }\n",
    "  int Volume() const { return volume_; }\n",
    "\n",
    "  void Radius(int radius) {\n",
    "    if (radius <= 0) throw std::invalid_argument(\"radius must be positive\");\n",
    "    radius_ = radius;\n",
    "    volume_ = pi_ * 4 / 3 * pow(radius_, 3);\n",
    "  }\n",
    "\n",
    " private:\n",
    "  static float constexpr pi_{3.14159};\n",
    "  int radius_;\n",
    "  float volume_;\n",
    "};\n",
    "\n",
    "// Test\n",
    "int main(void) {\n",
    "  assert(abs(Sphere::Volume(5) - 523.6) < 1);\n",
    "}"
   ]
  },
  {
   "cell_type": "markdown",
   "metadata": {
    "graffitiCellId": "id_ep9t7mr"
   },
   "source": [
    "<span class=\"graffiti-highlight graffiti-id_ep9t7mr-id_40kq58u\"><i></i><button>Compile & Run</button></span>&nbsp;\n",
    "<span class=\"graffiti-highlight graffiti-id_xten276-id_b0b4nd1\"><i></i><button>Explain</button></span>"
   ]
  },
  {
   "cell_type": "markdown",
   "metadata": {
    "graffitiCellId": "id_v3vkz0t",
    "graffitiConfig": {
     "rows": 16,
     "terminalId": "id_warezc7",
     "type": "terminal"
    }
   },
   "source": [
    "<i>Loading terminal (id_v3vkz0t), please wait...</i>"
   ]
  }
 ],
 "metadata": {
  "graffiti": {
   "firstAuthorId": "8978490740",
   "id": "id_itcdm0e",
   "language": "EN"
  },
  "kernelspec": {
   "display_name": "C++17",
   "language": "C++17",
   "name": "xeus-cling-cpp17"
  },
  "language_info": {
   "codemirror_mode": "text/x-c++src",
   "file_extension": ".cpp",
   "mimetype": "text/x-c++src",
   "name": "c++",
   "version": "-std=c++17"
  }
 },
 "nbformat": 4,
 "nbformat_minor": 2
}
