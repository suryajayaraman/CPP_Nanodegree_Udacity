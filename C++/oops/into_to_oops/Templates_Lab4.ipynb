{
 "cells": [
  {
   "cell_type": "code",
   "execution_count": null,
   "metadata": {
    "graffitiCellId": "id_xtmwkp3",
    "graffitiConfig": {
     "executeCellViaGraffiti": "7702fa4_hxf92bd"
    }
   },
   "outputs": [],
   "source": [
    "#include <iostream>\n",
    "#include <vector>\n",
    "\n",
    "// Helper generic function with a generic vector<T> parameter\n",
    "template <typename T>\n",
    "void print(std::vector<T> v) \n",
    "{\n",
    "    for (T i : v) {\n",
    "        std::cout << i << \" \";\n",
    "    }\n",
    "    std::cout << \"\\n\";\n",
    "}\n",
    "\n",
    "// Multiple use of type parameters for unique types.\n",
    "// T1 supports basic operation, but T2 can be used as indexed container \n",
    "// and object which contains method size()\n",
    "template <typename T1,typename T2>\n",
    "void scale(T1 num, T2& container) \n",
    "{\n",
    "    for (auto& i : container) {\n",
    "        i *= num;\n",
    "    }\n",
    "}\n",
    "//main function\n",
    "int main()\n",
    "{\n",
    "    std::vector<int> container = {2,3,17,23,14,18,21};\n",
    "    print(container);\n",
    "    scale(3, container);\n",
    "    print(container);\n",
    "    scale('Z', container); // 'Z' will convert to 90 when used as an integer\n",
    "    print(container);\n",
    "\n",
    "}\n"
   ]
  },
  {
   "cell_type": "markdown",
   "metadata": {
    "graffitiCellId": "id_7702fa4"
   },
   "source": [
    "<span class=\"graffiti-highlight graffiti-id_7702fa4-id_hxf92bd\"><i></i><button>Compile & Execute</button></span>"
   ]
  },
  {
   "cell_type": "markdown",
   "metadata": {
    "graffitiCellId": "id_h53l6ob",
    "graffitiConfig": {
     "rows": 10,
     "terminalId": "id_8prk2vh",
     "type": "terminal"
    }
   },
   "source": [
    "<i>Loading terminal (id_h53l6ob), please wait...</i>"
   ]
  }
 ],
 "metadata": {
  "graffiti": {
   "firstAuthorId": "8978490740",
   "id": "id_itcdm0e",
   "language": "EN"
  },
  "kernelspec": {
   "display_name": "C++17",
   "language": "C++17",
   "name": "xeus-cling-cpp17"
  },
  "language_info": {
   "codemirror_mode": "text/x-c++src",
   "file_extension": ".cpp",
   "mimetype": "text/x-c++src",
   "name": "c++",
   "version": "-std=c++17"
  }
 },
 "nbformat": 4,
 "nbformat_minor": 2
}
