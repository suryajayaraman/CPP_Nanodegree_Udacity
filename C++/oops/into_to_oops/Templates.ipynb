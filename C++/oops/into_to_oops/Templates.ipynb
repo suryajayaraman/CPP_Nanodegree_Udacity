{
 "cells": [
  {
   "cell_type": "code",
   "execution_count": null,
   "metadata": {
    "graffitiCellId": "id_4z4zish",
    "graffitiConfig": {
     "executeCellViaGraffiti": "ee2qhza_l14lll1"
    }
   },
   "outputs": [],
   "source": [
    "#include <assert.h>\n",
    "\n",
    "// TODO: Create a generic function Product that multiplies two parameters\n",
    "\n",
    "int main() { \n",
    "  assert(Product<int>(10, 2) == 20); \n",
    "}"
   ]
  },
  {
   "cell_type": "markdown",
   "metadata": {
    "graffitiCellId": "id_ee2qhza"
   },
   "source": [
    "<span class=\"graffiti-highlight graffiti-id_ee2qhza-id_l14lll1\"><i></i><button>Compile & Execute</button></span>&nbsp;\n",
    "<span class=\"graffiti-highlight graffiti-id_zw2w2aa-id_gjeoago\"><i></i><button>Explain</button></span>"
   ]
  },
  {
   "cell_type": "markdown",
   "metadata": {
    "graffitiCellId": "id_0mahhfj",
    "graffitiConfig": {
     "rows": 6,
     "terminalId": "id_u7enev3",
     "type": "terminal"
    }
   },
   "source": [
    "<i>Loading terminal (id_0mahhfj), please wait...</i>"
   ]
  }
 ],
 "metadata": {
  "graffiti": {
   "firstAuthorId": "8978490740",
   "id": "id_oe3ihce",
   "language": "EN"
  },
  "kernelspec": {
   "display_name": "C++17",
   "language": "C++17",
   "name": "xeus-cling-cpp17"
  },
  "language_info": {
   "codemirror_mode": "text/x-c++src",
   "file_extension": ".cpp",
   "mimetype": "text/x-c++src",
   "name": "c++",
   "version": "-std=c++17"
  }
 },
 "nbformat": 4,
 "nbformat_minor": 2
}
