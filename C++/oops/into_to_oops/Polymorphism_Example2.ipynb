{
 "cells": [
  {
   "cell_type": "code",
   "execution_count": null,
   "metadata": {
    "graffitiCellId": "id_z8u95or",
    "graffitiConfig": {
     "executeCellViaGraffiti": "nbiehqu_3qgmd50"
    }
   },
   "outputs": [],
   "source": [
    "#include <assert.h>\n",
    "#include <cmath>\n",
    "\n",
    "// TODO: Define PI\n",
    "\n",
    "// TODO: Declare abstract class VehicleModel\n",
    "  // TODO: Declare virtual function Move()\n",
    "\n",
    "// TODO: Derive class ParticleModel from VehicleModel\n",
    "  // TODO: Override the Move() function\n",
    "  // TODO: Define x, y, and theta\n",
    "\n",
    "// TODO: Derive class BicycleModel from ParticleModel\n",
    "  // TODO: Override the Move() function\n",
    "  // TODO: Define L\n",
    "\n",
    "// TODO: Pass the tests\n",
    "int main() {\n",
    "  // Test function overriding\n",
    "  ParticleModel particle;\n",
    "  BicycleModel bicycle;\n",
    "  particle.Move(10, PI / 9);\n",
    "  bicycle.Move(10, PI / 9);\n",
    "  assert(particle.x != bicycle.x);\n",
    "  assert(particle.y != bicycle.y);\n",
    "  assert(particle.theta != bicycle.theta);\n",
    "}"
   ]
  },
  {
   "cell_type": "markdown",
   "metadata": {
    "graffitiCellId": "id_nbiehqu"
   },
   "source": [
    "<span class=\"graffiti-highlight graffiti-id_nbiehqu-id_3qgmd50\"><i></i><button>Compile & Execute</button></span>&nbsp;\n",
    "<span class=\"graffiti-highlight graffiti-id_2wll1y1-id_q8gey7m\"><i></i><button>Explain</button></span>"
   ]
  },
  {
   "cell_type": "markdown",
   "metadata": {
    "graffitiCellId": "id_h177dz1",
    "graffitiConfig": {
     "rows": 12,
     "terminalId": "id_x91zzwc",
     "type": "terminal"
    }
   },
   "source": [
    "<i>Loading terminal (id_h177dz1), please wait...</i>"
   ]
  }
 ],
 "metadata": {
  "graffiti": {
   "firstAuthorId": "8978490740",
   "id": "id_jnkqpsu",
   "language": "EN"
  },
  "kernelspec": {
   "display_name": "C++17",
   "language": "C++17",
   "name": "xeus-cling-cpp17"
  },
  "language_info": {
   "codemirror_mode": "text/x-c++src",
   "file_extension": ".cpp",
   "mimetype": "text/x-c++src",
   "name": "c++",
   "version": "-std=c++17"
  }
 },
 "nbformat": 4,
 "nbformat_minor": 2
}
