{
 "cells": [
  {
   "cell_type": "markdown",
   "metadata": {
    "graffitiCellId": "id_xeza88x"
   },
   "source": [
    "# Access Modifiers"
   ]
  },
  {
   "cell_type": "code",
   "execution_count": null,
   "metadata": {
    "graffitiCellId": "id_kndd9lt",
    "graffitiConfig": {
     "executeCellViaGraffiti": "053q9g1_6caz6wu"
    }
   },
   "outputs": [],
   "source": [
    "#include <cassert>\n",
    "#include <iostream>\n",
    "\n",
    "// TODO: Define public accessors and mutators for the private member variables\n",
    "struct Date {\n",
    " public:\n",
    " private:\n",
    "  int day{1};\n",
    "  int month{1};\n",
    "  int year{0};\n",
    "};\n",
    "\n",
    "int main() {\n",
    "  Date date;\n",
    "  date.Day(29);\n",
    "  date.Month(8);\n",
    "  date.Year(1981);\n",
    "  assert(date.Day() == 29);\n",
    "  assert(date.Month() == 8);\n",
    "  assert(date.Year() == 1981);\n",
    "  std::cout << date.Day() << \"/\" << date.Month() << \"/\" << date.Year() << \"\\n\";\n",
    "}"
   ]
  },
  {
   "cell_type": "markdown",
   "metadata": {
    "graffitiCellId": "id_053q9g1"
   },
   "source": [
    "<span class=\"graffiti-highlight graffiti-id_053q9g1-id_6caz6wu\"><i></i><button>Compile & Run</button></span>&nbsp;\n",
    "<span class=\"graffiti-highlight graffiti-id_jaaz7tc-id_oxy4t19\"><i></i><button>Explain</button></span>"
   ]
  },
  {
   "cell_type": "markdown",
   "metadata": {
    "graffitiCellId": "id_umwv915",
    "graffitiConfig": {
     "rows": 6,
     "terminalId": "id_y3aabq2",
     "type": "terminal"
    }
   },
   "source": [
    "<i>Loading terminal (id_umwv915), please wait...</i>"
   ]
  }
 ],
 "metadata": {
  "graffiti": {
   "firstAuthorId": "8978490740",
   "id": "id_ok19p7y",
   "language": "EN"
  },
  "kernelspec": {
   "display_name": "Python 3",
   "language": "python",
   "name": "python3"
  },
  "language_info": {
   "codemirror_mode": {
    "name": "ipython",
    "version": 3
   },
   "file_extension": ".py",
   "mimetype": "text/x-python",
   "name": "python",
   "nbconvert_exporter": "python",
   "pygments_lexer": "ipython3",
   "version": "3.6.3"
  }
 },
 "nbformat": 4,
 "nbformat_minor": 2
}
