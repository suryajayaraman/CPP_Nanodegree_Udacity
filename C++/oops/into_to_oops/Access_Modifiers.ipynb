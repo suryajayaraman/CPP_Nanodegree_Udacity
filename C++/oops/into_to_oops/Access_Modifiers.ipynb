{
 "cells": [
  {
   "cell_type": "code",
   "execution_count": null,
   "metadata": {
    "graffitiCellId": "id_u8zhfkj",
    "graffitiConfig": {
     "executeCellViaGraffiti": "x26iptn_1s8pz8c"
    }
   },
   "outputs": [],
   "source": [
    "#include <cassert>\n",
    "#include <iostream>\n",
    "\n",
    "// TODO: Define public accessors and mutators for the private member variables\n",
    "struct Date {\n",
    " public:\n",
    " private:\n",
    "  int day{1};\n",
    "  int month{1};\n",
    "  int year{0};\n",
    "};\n",
    "\n",
    "int main() {\n",
    "  Date date;\n",
    "  date.Day(29);\n",
    "  date.Month(8);\n",
    "  date.Year(1981);\n",
    "  assert(date.Day() == 29);\n",
    "  assert(date.Month() == 8);\n",
    "  assert(date.Year() == 1981);\n",
    "  std::cout << date.Day() << \"/\" << date.Month() << \"/\" << date.Year() << \"\\n\";\n",
    "}"
   ]
  },
  {
   "cell_type": "markdown",
   "metadata": {
    "graffitiCellId": "id_x26iptn"
   },
   "source": [
    "<span class=\"graffiti-highlight graffiti-id_x26iptn-id_1s8pz8c\"><i></i><button>Compile & Run</button></span>&nbsp;\n",
    "<span class=\"graffiti-highlight graffiti-id_q8b4vqd-id_i7w4mzq\"><i></i><button>Explain</button></span>"
   ]
  },
  {
   "cell_type": "markdown",
   "metadata": {
    "graffitiCellId": "id_ahd6giv",
    "graffitiConfig": {
     "rows": 6,
     "terminalId": "id_ejejpv7",
     "type": "terminal"
    }
   },
   "source": [
    "<i>Loading terminal (id_ahd6giv), please wait...</i>"
   ]
  }
 ],
 "metadata": {
  "graffiti": {
   "firstAuthorId": "8802670962",
   "id": "id_ilo82a1",
   "language": "EN"
  },
  "kernelspec": {
   "display_name": "C++17",
   "language": "C++17",
   "name": "xeus-cling-cpp17"
  },
  "language_info": {
   "codemirror_mode": "text/x-c++src",
   "file_extension": ".cpp",
   "mimetype": "text/x-c++src",
   "name": "c++",
   "version": "-std=c++17"
  }
 },
 "nbformat": 4,
 "nbformat_minor": 2
}
