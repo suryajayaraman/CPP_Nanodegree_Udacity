{
 "cells": [
  {
   "cell_type": "code",
   "execution_count": null,
   "metadata": {
    "graffitiCellId": "id_xqqc4dj",
    "graffitiConfig": {
     "executeCellViaGraffiti": "xr3k66r_4pn94re"
    }
   },
   "outputs": [],
   "source": [
    "// include iostream for printing\n",
    "\n",
    "// Define class Base\n",
    "\n",
    "    // Declare an empty public constructor\n",
    "    // Define virtual print() function\n",
    "    // Define non-virtual calc() function\n",
    "\n",
    "// Define subclass Derived that publicly inherits from Base\n",
    "\n",
    "    // Declare an empty public constructor\n",
    "    // Define print() function\n",
    "    // Define calc() function\n",
    "\n",
    "// Test in main()\n"
   ]
  },
  {
   "cell_type": "markdown",
   "metadata": {
    "graffitiCellId": "id_xr3k66r"
   },
   "source": [
    "<span class=\"graffiti-highlight graffiti-id_xr3k66r-id_4pn94re\"><i></i><button>Execute & Compile</button></span>&nbsp;\n",
    "<span class=\"graffiti-highlight graffiti-id_tbng1nn-id_6a5u3h3\"><i></i><button>Show Solution</button></span>"
   ]
  },
  {
   "cell_type": "markdown",
   "metadata": {
    "graffitiCellId": "id_kjucu1d",
    "graffitiConfig": {
     "rows": 6,
     "terminalId": "id_kjucu1d",
     "type": "terminal"
    }
   },
   "source": [
    "<i>Loading terminal (id_kjucu1d), please wait...</i>"
   ]
  }
 ],
 "metadata": {
  "graffiti": {
   "firstAuthorId": "8978490740",
   "id": "id_itcdm0e",
   "language": "EN"
  },
  "kernelspec": {
   "display_name": "C++17",
   "language": "C++17",
   "name": "xeus-cling-cpp17"
  },
  "language_info": {
   "codemirror_mode": "text/x-c++src",
   "file_extension": ".cpp",
   "mimetype": "text/x-c++src",
   "name": "c++",
   "version": "-std=c++17"
  }
 },
 "nbformat": 4,
 "nbformat_minor": 2
}
