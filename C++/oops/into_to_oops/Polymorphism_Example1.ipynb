{
 "cells": [
  {
   "cell_type": "code",
   "execution_count": null,
   "metadata": {
    "graffitiCellId": "id_xqu75ol",
    "graffitiConfig": {
     "executeCellViaGraffiti": "htywwzb_chjzeki"
    }
   },
   "outputs": [],
   "source": [
    "// TODO: Write hello() function\n",
    "\n",
    "// TODO: Overload hello() three times\n",
    "\n",
    "// TODO: Call hello() from main()"
   ]
  },
  {
   "cell_type": "markdown",
   "metadata": {
    "graffitiCellId": "id_htywwzb"
   },
   "source": [
    "<span class=\"graffiti-highlight graffiti-id_htywwzb-id_chjzeki\"><i></i><button>Compile & Execute</button></span>&nbsp;\n",
    "<span class=\"graffiti-highlight graffiti-id_w3ybtsn-id_56yhft9\"><i></i><button>Explain</button></span>"
   ]
  },
  {
   "cell_type": "markdown",
   "metadata": {
    "graffitiCellId": "id_wvmjmjg",
    "graffitiConfig": {
     "rows": 12,
     "terminalId": "id_kf1b6xe",
     "type": "terminal"
    }
   },
   "source": [
    "<i>Loading terminal (id_wvmjmjg), please wait...</i>"
   ]
  }
 ],
 "metadata": {
  "graffiti": {
   "firstAuthorId": "8978490740",
   "id": "id_jnkqpsu",
   "language": "EN"
  },
  "kernelspec": {
   "display_name": "C++17",
   "language": "C++17",
   "name": "xeus-cling-cpp17"
  },
  "language_info": {
   "codemirror_mode": "text/x-c++src",
   "file_extension": ".cpp",
   "mimetype": "text/x-c++src",
   "name": "c++",
   "version": "-std=c++17"
  }
 },
 "nbformat": 4,
 "nbformat_minor": 2
}
