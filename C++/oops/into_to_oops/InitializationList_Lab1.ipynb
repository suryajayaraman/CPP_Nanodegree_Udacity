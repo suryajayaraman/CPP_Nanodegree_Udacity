{
 "cells": [
  {
   "cell_type": "code",
   "execution_count": null,
   "metadata": {
    "graffitiCellId": "id_u485sh2",
    "graffitiConfig": {
     "executeCellViaGraffiti": "s09b9gg_70n4vp2"
    }
   },
   "outputs": [],
   "source": [
    "#include <assert.h>\n",
    "#include <string>\n",
    "\n",
    "// TODO: Define class Person\n",
    "  // TODO: Define a public constructor with an initialization list\n",
    "  // TODO: Define a public member variable: name\n",
    "\n",
    "// Test\n",
    "int main() {\n",
    "  Person alice(\"Alice\");\n",
    "  Person bob(\"Bob\");\n",
    "  assert(alice.name != bob.name);\n",
    "}"
   ]
  },
  {
   "cell_type": "markdown",
   "metadata": {
    "graffitiCellId": "id_s09b9gg"
   },
   "source": [
    "<span class=\"graffiti-highlight graffiti-id_s09b9gg-id_70n4vp2\"><i></i><button>Compile & Run</button></span>&nbsp;\n",
    "<span class=\"graffiti-highlight graffiti-id_ex9mwhi-id_tqrwgyo\"><i></i><button>Explain</button></span>"
   ]
  },
  {
   "cell_type": "markdown",
   "metadata": {
    "graffitiCellId": "id_avhqyfk",
    "graffitiConfig": {
     "rows": 12,
     "terminalId": "id_xa6yszy",
     "type": "terminal"
    }
   },
   "source": [
    "<i>Loading terminal (id_avhqyfk), please wait...</i>"
   ]
  }
 ],
 "metadata": {
  "graffiti": {
   "firstAuthorId": "8978490740",
   "id": "id_itcdm0e",
   "language": "EN"
  },
  "kernelspec": {
   "display_name": "C++17",
   "language": "C++17",
   "name": "xeus-cling-cpp17"
  },
  "language_info": {
   "codemirror_mode": "text/x-c++src",
   "file_extension": ".cpp",
   "mimetype": "text/x-c++src",
   "name": "c++",
   "version": "-std=c++17"
  }
 },
 "nbformat": 4,
 "nbformat_minor": 2
}
