{
 "cells": [
  {
   "cell_type": "markdown",
   "metadata": {
    "graffitiCellId": "id_gbc6vv0"
   },
   "source": [
    "# Abstraction\n",
    "Define `Date::String()` to pass the test in `main()`."
   ]
  },
  {
   "cell_type": "code",
   "execution_count": null,
   "metadata": {
    "graffitiCellId": "id_s1xqk3y",
    "graffitiConfig": {
     "executeCellViaGraffiti": "xap16ga_0gaki93"
    }
   },
   "outputs": [],
   "source": [
    "#include <cassert>\n",
    "#include <string>\n",
    "#include <vector>\n",
    "\n",
    "class Date {\n",
    " public:\n",
    "  Date(int day, int month, int year);\n",
    "  int Day() const { return day_; }\n",
    "  void Day(int day);\n",
    "  int Month() const { return month_; }\n",
    "  void Month(int month);\n",
    "  int Year() const { return year_; }\n",
    "  void Year(int year);\n",
    "  std::string String() const;\n",
    "\n",
    " private:\n",
    "  bool LeapYear(int year) const;\n",
    "  int DaysInMonth(int month, int year) const;\n",
    "  int day_{1};\n",
    "  int month_{1};\n",
    "  int year_{0};\n",
    "};\n",
    "\n",
    "Date::Date(int day, int month, int year) {\n",
    "  Year(year);\n",
    "  Month(month);\n",
    "  Day(day);\n",
    "}\n",
    "\n",
    "bool Date::LeapYear(int year) const {\n",
    "  if (year % 4 != 0)\n",
    "    return false;\n",
    "  else if (year % 100 != 0)\n",
    "    return true;\n",
    "  else if (year % 400 != 0)\n",
    "    return false;\n",
    "  else\n",
    "    return true;\n",
    "}\n",
    "\n",
    "int Date::DaysInMonth(int month, int year) const {\n",
    "  if (month == 2)\n",
    "    return LeapYear(year) ? 29 : 28;\n",
    "  else if (month == 4 || month == 6 || month == 9 || month == 11)\n",
    "    return 30;\n",
    "  else\n",
    "    return 31;\n",
    "}\n",
    "\n",
    "void Date::Day(int day) {\n",
    "  if (day >= 1 && day <= DaysInMonth(Month(), Year())) day_ = day;\n",
    "}\n",
    "\n",
    "void Date::Month(int month) {\n",
    "  if (month >= 1 && month <= 12) month_ = month;\n",
    "}\n",
    "\n",
    "void Date::Year(int year) {\n",
    "  year_ = year;\n",
    "}\n",
    "\n",
    "// Test\n",
    "int main() {\n",
    "  Date date(29, 8, 1981);\n",
    "  assert(date.String() == \"August 29, 1981\");\n",
    "}"
   ]
  },
  {
   "cell_type": "markdown",
   "metadata": {
    "graffitiCellId": "id_xap16ga"
   },
   "source": [
    "<span class=\"graffiti-highlight graffiti-id_xap16ga-id_0gaki93\"><i></i><button>Compile & Run</button></span>&nbsp;\n",
    "<span class=\"graffiti-highlight graffiti-id_wdg4m8l-id_hj3p5a3\"><i></i><button>Explain</button></span>"
   ]
  },
  {
   "cell_type": "markdown",
   "metadata": {
    "graffitiCellId": "id_mnjjujf",
    "graffitiConfig": {
     "rows": 16,
     "terminalId": "id_kgmhtxf",
     "type": "terminal"
    }
   },
   "source": [
    "<i>Loading terminal (id_mnjjujf), please wait...</i>"
   ]
  }
 ],
 "metadata": {
  "graffiti": {
   "firstAuthorId": "8978490740",
   "id": "id_itcdm0e",
   "language": "EN"
  },
  "kernelspec": {
   "display_name": "C++17",
   "language": "C++17",
   "name": "xeus-cling-cpp17"
  },
  "language_info": {
   "codemirror_mode": "text/x-c++src",
   "file_extension": ".cpp",
   "mimetype": "text/x-c++src",
   "name": "c++",
   "version": "-std=c++17"
  }
 },
 "nbformat": 4,
 "nbformat_minor": 2
}
