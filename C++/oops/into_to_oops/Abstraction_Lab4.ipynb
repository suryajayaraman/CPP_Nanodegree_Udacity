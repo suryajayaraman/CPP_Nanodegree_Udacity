{
 "cells": [
  {
   "cell_type": "code",
   "execution_count": null,
   "metadata": {
    "graffitiCellId": "id_ryo27t3",
    "graffitiConfig": {
     "executeCellViaGraffiti": "5k64ho4_nhpsmyt"
    }
   },
   "outputs": [],
   "source": [
    "#include <cassert>\n",
    "#include <cmath>\n",
    "#include <stdexcept>\n",
    "\n",
    "class Sphere {\n",
    " public:\n",
    "  Sphere(int radius) : radius_(radius), volume_(pi_ * 4 / 3 * pow(radius_, 3)) {\n",
    "    if (radius <= 0) throw std::invalid_argument(\"radius must be positive\");\n",
    "  }\n",
    "\n",
    "  int Radius() const { return radius_; }\n",
    "  int Volume() const { return volume_; }\n",
    "\n",
    "  // TODO: mutator\n",
    "  void Radius(int radius) {\n",
    "    if (radius <= 0) throw std::invalid_argument(\"radius must be positive\");\n",
    "    radius_ = radius;\n",
    "    volume_ = pi_ * 4 / 3 * pow(radius_, 3);\n",
    "  }\n",
    "\n",
    " private:\n",
    "  float const pi_{3.14159};\n",
    "  int radius_;\n",
    "  float volume_;\n",
    "};\n",
    "\n",
    "// Test\n",
    "int main(void) {\n",
    "  Sphere sphere(5);\n",
    "  assert(sphere.Radius() == 5);\n",
    "  assert(abs(sphere.Volume() - 523.6) < 1);\n",
    "\n",
    "  sphere.Radius(3);\n",
    "  assert(sphere.Radius() == 3);\n",
    "  assert(abs(sphere.Volume() - 113.1) < 1);\n",
    "\n",
    "  bool caught{false};\n",
    "  try {\n",
    "    sphere.Radius(-1);\n",
    "  } catch (...) {\n",
    "    caught = true;\n",
    "  }\n",
    "  assert(caught);\n",
    "}"
   ]
  },
  {
   "cell_type": "markdown",
   "metadata": {
    "graffitiCellId": "id_5k64ho4"
   },
   "source": [
    "<span class=\"graffiti-highlight graffiti-id_5k64ho4-id_nhpsmyt\"><i></i><button>Compile & Run</button></span>&nbsp;\n",
    "<span class=\"graffiti-highlight graffiti-id_af2yuf7-id_nxilad4\"><i></i><button>Explain</button></span>"
   ]
  },
  {
   "cell_type": "markdown",
   "metadata": {
    "graffitiCellId": "id_9ztl9fw",
    "graffitiConfig": {
     "rows": 12,
     "terminalId": "id_x4nux2a",
     "type": "terminal"
    }
   },
   "source": [
    "<i>Loading terminal (id_9ztl9fw), please wait...</i>"
   ]
  }
 ],
 "metadata": {
  "graffiti": {
   "firstAuthorId": "8978490740",
   "id": "id_itcdm0e",
   "language": "EN"
  },
  "kernelspec": {
   "display_name": "C++17",
   "language": "C++17",
   "name": "xeus-cling-cpp17"
  },
  "language_info": {
   "codemirror_mode": "text/x-c++src",
   "file_extension": ".cpp",
   "mimetype": "text/x-c++src",
   "name": "c++",
   "version": "-std=c++17"
  }
 },
 "nbformat": 4,
 "nbformat_minor": 2
}
