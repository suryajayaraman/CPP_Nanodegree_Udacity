{
 "cells": [
  {
   "cell_type": "markdown",
   "metadata": {
    "graffitiCellId": "id_lpragps"
   },
   "source": [
    "# Define a `Student` class\n",
    "Follow the instructions to create and test a `Student` class. If you get stuck you can scroll down to see an example solution. "
   ]
  },
  {
   "cell_type": "code",
   "execution_count": null,
   "metadata": {
    "graffitiCellId": "id_8patciz",
    "graffitiConfig": {
     "executeCellViaGraffiti": "a0fdo0n_ozfbizv"
    }
   },
   "outputs": [],
   "source": [
    "#include <cassert>\n",
    "#include <stdexcept>\n",
    "\n",
    "// TODO: Define \"Student\" class\n",
    "class Student {\n",
    " public:\n",
    "  // constructor\n",
    "  // accessors\n",
    "  // mutators\n",
    "\n",
    " private:\n",
    "  // name\n",
    "  // grade\n",
    "  // GPA\n",
    "};\n",
    "\n",
    "// TODO: Test\n",
    "int main() {}"
   ]
  },
  {
   "cell_type": "markdown",
   "metadata": {
    "graffitiCellId": "id_a0fdo0n"
   },
   "source": [
    "<span class=\"graffiti-highlight graffiti-id_a0fdo0n-id_ozfbizv\"><i></i><button>Compile & Run</button></span>&nbsp;\n",
    "<span class=\"graffiti-highlight graffiti-id_tnsij9p-id_6goijy0\"><i></i><button>Explain</button></span>"
   ]
  },
  {
   "cell_type": "markdown",
   "metadata": {
    "graffitiCellId": "id_un5ro9d",
    "graffitiConfig": {
     "rows": 16,
     "terminalId": "id_e71x9n4",
     "type": "terminal"
    }
   },
   "source": [
    "<i>Loading terminal (id_un5ro9d), please wait...</i>"
   ]
  }
 ],
 "metadata": {
  "graffiti": {
   "firstAuthorId": "8978490740",
   "id": "id_g4m4i1f",
   "language": "EN"
  },
  "kernelspec": {
   "display_name": "C++17",
   "language": "C++17",
   "name": "xeus-cling-cpp17"
  },
  "language_info": {
   "codemirror_mode": "text/x-c++src",
   "file_extension": ".cpp",
   "mimetype": "text/x-c++src",
   "name": "c++",
   "version": "-std=c++17"
  }
 },
 "nbformat": 4,
 "nbformat_minor": 2
}
