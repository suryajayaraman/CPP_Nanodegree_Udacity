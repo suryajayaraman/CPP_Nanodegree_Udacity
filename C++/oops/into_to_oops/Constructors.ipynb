{
 "cells": [
  {
   "cell_type": "markdown",
   "metadata": {
    "graffitiCellId": "id_6szp1ja"
   },
   "source": [
    "# Constructor\n",
    "Define a constructor for class `Date` that accepts a day, a month, and a year as arguments and assigns its member variables to the corresponding values."
   ]
  },
  {
   "cell_type": "code",
   "execution_count": null,
   "metadata": {
    "graffitiCellId": "id_8hg1umv",
    "graffitiConfig": {
     "executeCellViaGraffiti": "0iadtfe_3ltskim"
    }
   },
   "outputs": [],
   "source": [
    "#include <cassert>\n",
    "\n",
    "class Date {\n",
    " public:\n",
    "  int Day() { return day; }\n",
    "  void Day(int d) {\n",
    "    if (d >= 1 && d <= 31) day = d;\n",
    "  }\n",
    "  int Month() { return month; }\n",
    "  void Month(int m) {\n",
    "    if (m >= 1 && m <= 12) month = m;\n",
    "  }\n",
    "  int Year() { return year; }\n",
    "  void Year(int y) { year = y; }\n",
    "\n",
    " private:\n",
    "  int day{1};\n",
    "  int month{1};\n",
    "  int year{0};\n",
    "};\n",
    "\n",
    "// Test in main\n",
    "int main() {\n",
    "  Date date(8,29,1981);\n",
    "  assert(date.Day() == 8);\n",
    "  assert(date.Month() == 29);\n",
    "  assert(date.Year() == 1981);\n",
    "}"
   ]
  },
  {
   "cell_type": "markdown",
   "metadata": {
    "graffitiCellId": "id_0iadtfe"
   },
   "source": [
    "<span class=\"graffiti-highlight graffiti-id_0iadtfe-id_3ltskim\"><i></i><button>Compile & Run</button></span>&nbsp;\n",
    "<span class=\"graffiti-highlight graffiti-id_o06jgaa-id_tysyyz3\"><i></i><button>Explain</button></span>"
   ]
  },
  {
   "cell_type": "markdown",
   "metadata": {
    "graffitiCellId": "id_zu0y01j",
    "graffitiConfig": {
     "rows": 16,
     "terminalId": "id_ky0td51",
     "type": "terminal"
    }
   },
   "source": [
    "<i>Loading terminal (id_zu0y01j), please wait...</i>"
   ]
  }
 ],
 "metadata": {
  "graffiti": {
   "firstAuthorId": "8802670962",
   "id": "id_u6b9nz7",
   "language": "EN"
  },
  "kernelspec": {
   "display_name": "C++17",
   "language": "C++17",
   "name": "xeus-cling-cpp17"
  },
  "language_info": {
   "codemirror_mode": "text/x-c++src",
   "file_extension": ".cpp",
   "mimetype": "text/x-c++src",
   "name": "c++",
   "version": "-std=c++17"
  }
 },
 "nbformat": 4,
 "nbformat_minor": 2
}
