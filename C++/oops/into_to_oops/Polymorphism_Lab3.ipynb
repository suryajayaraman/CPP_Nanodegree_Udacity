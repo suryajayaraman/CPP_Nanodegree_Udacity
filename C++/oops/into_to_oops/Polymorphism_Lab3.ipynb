{
 "cells": [
  {
   "cell_type": "code",
   "execution_count": null,
   "metadata": {
    "graffitiCellId": "id_ap6rd3a",
    "graffitiConfig": {
     "executeCellViaGraffiti": "7c2aqo1_gymaqxx"
    }
   },
   "outputs": [],
   "source": [
    "// include iostream for printing\n",
    "\n",
    "// Define Point class\n",
    "\n",
    "    // Declare private attributes x and y\n",
    "\n",
    "    // Define public constructor\n",
    "    // Define operator overload\n",
    "    // Define print() function\n",
    "    // Overload print() function to take 1 or 2 input params\n",
    "    \n",
    "// Test in main()\n"
   ]
  },
  {
   "cell_type": "markdown",
   "metadata": {
    "graffitiCellId": "id_7c2aqo1"
   },
   "source": [
    "<span class=\"graffiti-highlight graffiti-id_7c2aqo1-id_gymaqxx\"><i></i><button>Compile & Execute</button></span>&nbsp;\n",
    "<span class=\"graffiti-highlight graffiti-id_b7pwvhc-id_8w54fuk\"><i></i><button>Hide Solution</button></span>"
   ]
  },
  {
   "cell_type": "code",
   "execution_count": null,
   "metadata": {
    "graffitiCellId": "id_8w54fuk"
   },
   "outputs": [],
   "source": [
    "// Example solution of function overload\n",
    "// include iostream for printing\n",
    "#include<iostream>\n",
    "// Define Point class\n",
    "class Point {\n",
    "    // Declare private attributes x and y\n",
    "    private:\n",
    "        int x, y;\n",
    "    // Define public constructor\n",
    "    // Define operator overload\n",
    "    // Define Print() function\n",
    "    // Overload Print() function to take 1 or 2 input params\n",
    "    public:\n",
    "        Point(int xc = 0, int yc = 0) : x(xc), y(yc) {}\n",
    "        \n",
    "        Point operator + (Point const &obj) {\n",
    "            Point res;\n",
    "            res.x = Point::x + obj.x;\n",
    "            res.y = Point::y + obj.y;\n",
    "            return res;\n",
    "        }\n",
    "\n",
    "        // Print function\n",
    "        void Print() {\n",
    "            std::cout << \"{ x: \" << Point::x << \", y: \" << Point::y << \" }\" << \"\\n\";\n",
    "        }\n",
    "        // Overloaded function, they are same print function, but they’re overloaded with number // of input parameters\n",
    "        void Print(int x) {\n",
    "            std::cout << \"{ x: \" << x << \", y: \" << Point::y << \" }\" << \"\\n\";\n",
    "        }\n",
    "        void Print(int x, int y) {\n",
    "            std::cout << \"{ x: \" << x << \", y: \" << y << \" }\" << \"\\n\";\n",
    "        }\n",
    "};\n",
    "// Test in main()\n",
    "int main() {\n",
    "    Point p1(10, 5), p2(2, 4);\n",
    "    Point p = p1 + p2; // An example call to \"operator +\"\n",
    "    p.Print();\n",
    "    p.Print(2);\n",
    "    p.Print(2, 3);\n",
    "    p.Print();\n",
    "}"
   ]
  },
  {
   "cell_type": "markdown",
   "metadata": {
    "graffitiCellId": "id_4cl0nre",
    "graffitiConfig": {
     "rows": 6,
     "terminalId": "id_4cl0nre",
     "type": "terminal"
    }
   },
   "source": [
    "<i>Loading terminal (id_4cl0nre), please wait...</i>"
   ]
  }
 ],
 "metadata": {
  "graffiti": {
   "firstAuthorId": "8978490740",
   "id": "id_itcdm0e",
   "language": "EN"
  },
  "kernelspec": {
   "display_name": "C++17",
   "language": "C++17",
   "name": "xeus-cling-cpp17"
  },
  "language_info": {
   "codemirror_mode": "text/x-c++src",
   "file_extension": ".cpp",
   "mimetype": "text/x-c++src",
   "name": "c++",
   "version": "-std=c++17"
  }
 },
 "nbformat": 4,
 "nbformat_minor": 2
}
