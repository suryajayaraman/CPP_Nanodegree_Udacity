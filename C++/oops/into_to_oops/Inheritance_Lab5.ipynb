{
 "cells": [
  {
   "cell_type": "code",
   "execution_count": null,
   "metadata": {
    "graffitiCellId": "id_xnfiapd",
    "graffitiConfig": {
     "executeCellViaGraffiti": "cszcwji_iabk114"
    }
   },
   "outputs": [],
   "source": [
    "// Example solution for Rectangle and Square friend classes\n",
    "#include <assert.h>\n",
    "\n",
    "// Declare class Rectangle\n",
    "\n",
    "\n",
    "// Define class Square as friend of Rectangle\n",
    "\n",
    "// Add public constructor to Square, initialize side\n",
    "    // Add friend class Rectangle\n",
    "\n",
    "    // Add private attribute side\n",
    "\n",
    "// Define class Rectangle\n",
    "    // Add public function to Rectangle: Area()\n",
    "    \n",
    "    // Add private attributes width, height;\n",
    "\n",
    "// Define a Rectangle constructor that takes a Square\n",
    "\n",
    "// Define Area() to compute area of Rectangle\n",
    "\n",
    "// Update main() to pass the tests\n",
    "int main()\n",
    "{\n",
    "    Square square(4);\n",
    "    Rectangle rectangle(square);\n",
    "    assert(rectangle.Area() == 16); \n",
    "}"
   ]
  },
  {
   "cell_type": "markdown",
   "metadata": {
    "graffitiCellId": "id_cszcwji"
   },
   "source": [
    "<span class=\"graffiti-highlight graffiti-id_cszcwji-id_iabk114\"><i></i><button>Compile & Execute</button></span>&nbsp;<span class=\"graffiti-highlight graffiti-id_2nysdvu-id_mkkxqg6\"><i></i><button>Explain</button></span>"
   ]
  },
  {
   "cell_type": "markdown",
   "metadata": {
    "graffitiCellId": "id_iyjd706",
    "graffitiConfig": {
     "rows": 12,
     "terminalId": "id_3e041tj",
     "type": "terminal"
    }
   },
   "source": [
    "<i>Loading terminal (id_iyjd706), please wait...</i>"
   ]
  },
  {
   "cell_type": "markdown",
   "metadata": {
    "graffitiCellId": "id_hm7xhkg"
   },
   "source": [
    "<span class=\"graffiti-highlight graffiti-id_amiw9l6-id_lrhzpf7\"><i></i><button>Show Solution</button></span>"
   ]
  }
 ],
 "metadata": {
  "graffiti": {
   "firstAuthorId": "8978490740",
   "id": "id_g4m4i1f",
   "language": "EN"
  },
  "kernelspec": {
   "display_name": "C++17",
   "language": "C++17",
   "name": "xeus-cling-cpp17"
  },
  "language_info": {
   "codemirror_mode": "text/x-c++src",
   "file_extension": ".cpp",
   "mimetype": "text/x-c++src",
   "name": "c++",
   "version": "-std=c++17"
  }
 },
 "nbformat": 4,
 "nbformat_minor": 2
}
