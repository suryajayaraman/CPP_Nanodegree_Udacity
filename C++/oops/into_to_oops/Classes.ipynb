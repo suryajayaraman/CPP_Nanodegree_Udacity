{
 "cells": [
  {
   "cell_type": "markdown",
   "metadata": {
    "graffitiCellId": "id_vmywx8l"
   },
   "source": [
    "# Creating A Class\n",
    "Define your own `Date` class, and provide the proper set of invariants."
   ]
  },
  {
   "cell_type": "code",
   "execution_count": null,
   "metadata": {
    "graffitiCellId": "id_30z956j",
    "graffitiConfig": {
     "executeCellViaGraffiti": "3hiwmz5_dulico3"
    }
   },
   "outputs": [],
   "source": [
    "#include <iostream>\n",
    "#include <cassert>\n",
    "\n",
    "// Test in main\n",
    "int main()\n",
    "{\n",
    "    Date date;\n",
    "    date.Day(-1);\n",
    "    date.Month(14);\n",
    "    date.Year(2000);\n",
    "    assert(date.Day() != -1);\n",
    "    assert(date.Month() != 14);\n",
    "    assert(date.Year() == 2000);\n",
    "}\n"
   ]
  },
  {
   "cell_type": "markdown",
   "metadata": {
    "graffitiCellId": "id_3hiwmz5"
   },
   "source": [
    "<span class=\"graffiti-highlight graffiti-id_3hiwmz5-id_dulico3\"><i></i><button>Compile & Run</button></span>\n",
    "<span class=\"graffiti-highlight graffiti-id_1u9izv6-id_bifxawh\"><i></i><button>Explain</button></span>"
   ]
  },
  {
   "cell_type": "markdown",
   "metadata": {
    "graffitiCellId": "id_8urr4x6",
    "graffitiConfig": {
     "rows": 6,
     "terminalId": "id_i52nu3z",
     "type": "terminal"
    }
   },
   "source": [
    "<i>Loading terminal (id_8urr4x6), please wait...</i>"
   ]
  }
 ],
 "metadata": {
  "graffiti": {
   "firstAuthorId": "8978490740",
   "id": "id_shxo21s",
   "language": "EN"
  },
  "kernelspec": {
   "display_name": "C++11",
   "language": "C++11",
   "name": "xeus-cling-cpp11"
  },
  "language_info": {
   "codemirror_mode": "text/x-c++src",
   "file_extension": ".cpp",
   "mimetype": "text/x-c++src",
   "name": "c++",
   "version": "-std=c++11"
  }
 },
 "nbformat": 4,
 "nbformat_minor": 2
}
