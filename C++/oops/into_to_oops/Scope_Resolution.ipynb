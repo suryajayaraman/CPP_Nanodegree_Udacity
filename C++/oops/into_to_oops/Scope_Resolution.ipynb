{
 "cells": [
  {
   "cell_type": "markdown",
   "metadata": {
    "graffitiCellId": "id_zt1z0qq"
   },
   "source": [
    "# Exercise: Scope Resolution\n",
    "Define the `Date::Day`, `Date::Month`, and `Date::Year` functions that are declared in the class definition."
   ]
  },
  {
   "cell_type": "code",
   "execution_count": null,
   "metadata": {
    "graffitiCellId": "id_n7675zv",
    "graffitiConfig": {
     "executeCellViaGraffiti": "o0ju12t_of4sg97"
    }
   },
   "outputs": [],
   "source": [
    "#include <cassert>\n",
    "\n",
    "class Date {\n",
    " public:\n",
    "  int Day() const { return day; }\n",
    "  void Day(int day);\n",
    "  int Month() const { return month; }\n",
    "  void Month(int month);\n",
    "  int Year() const { return year; }\n",
    "  void Year(int year);\n",
    "\n",
    " private:\n",
    "  int day{1};\n",
    "  int month{1};\n",
    "  int year{0};\n",
    "};\n",
    "\n",
    "// TODO: Define Date::Day(int day)\n",
    "\n",
    "// TODO: Define Date::Month(int month)\n",
    "\n",
    "// TODO: Define Date::Year(int year)\n",
    "\n",
    "// Test in main\n",
    "int main() {\n",
    "  Date date;\n",
    "  date.Day(29);\n",
    "  date.Month(8);\n",
    "  date.Year(1981);\n",
    "  assert(date.Day() == 29);\n",
    "  assert(date.Month() == 8);\n",
    "  assert(date.Year() == 1981);\n",
    "}"
   ]
  },
  {
   "cell_type": "markdown",
   "metadata": {
    "graffitiCellId": "id_o0ju12t"
   },
   "source": [
    "<span class=\"graffiti-highlight graffiti-id_o0ju12t-id_of4sg97\"><i></i><button>Compile & Run</button></span>&nbsp;\n",
    "<span class=\"graffiti-highlight graffiti-id_fg7pnb3-id_zva2z5f\"><i></i><button>Explain</button></span>"
   ]
  },
  {
   "cell_type": "markdown",
   "metadata": {
    "graffitiCellId": "id_8pahe0k",
    "graffitiConfig": {
     "rows": 16,
     "terminalId": "id_58gvlzm",
     "type": "terminal"
    }
   },
   "source": [
    "<i>Loading terminal (id_8pahe0k), please wait...</i>"
   ]
  }
 ],
 "metadata": {
  "graffiti": {
   "firstAuthorId": "8802670962",
   "id": "id_yip87z1",
   "language": "EN"
  },
  "kernelspec": {
   "display_name": "C++17",
   "language": "C++17",
   "name": "xeus-cling-cpp17"
  },
  "language_info": {
   "codemirror_mode": "text/x-c++src",
   "file_extension": ".cpp",
   "mimetype": "text/x-c++src",
   "name": "c++",
   "version": "-std=c++17"
  }
 },
 "nbformat": 4,
 "nbformat_minor": 2
}
