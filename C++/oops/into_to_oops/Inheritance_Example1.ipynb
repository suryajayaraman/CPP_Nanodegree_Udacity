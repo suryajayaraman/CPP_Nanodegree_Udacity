{
 "cells": [
  {
   "cell_type": "code",
   "execution_count": null,
   "metadata": {
    "graffitiCellId": "id_3ujus5a",
    "graffitiConfig": {
     "executeCellViaGraffiti": "3yok1aq_gktp726"
    }
   },
   "outputs": [],
   "source": [
    "#include <iostream>\n",
    "#include <string>\n",
    "using std::string;\n",
    "\n",
    "class Vehicle {\n",
    "public:\n",
    "    int wheels = 0;\n",
    "    string color = \"blue\";\n",
    "    \n",
    "    void Print() const\n",
    "    {\n",
    "        std::cout << \"This \" << color << \" vehicle has \" << wheels << \" wheels!\\n\";\n",
    "    }\n",
    "};\n",
    "\n",
    "class Car : public Vehicle {\n",
    "public:\n",
    "    bool sunroof = false;\n",
    "};\n",
    "\n",
    "class Bicycle : public Vehicle {\n",
    "public:\n",
    "    bool kickstand = true;\n",
    "};\n",
    "\n",
    "int main() \n",
    "{\n",
    "    Car car;\n",
    "    car.wheels = 4;\n",
    "    car.sunroof = true;\n",
    "    car.Print();\n",
    "    if(car.sunroof)\n",
    "        std::cout << \"And a sunroof!\\n\";\n",
    "};"
   ]
  },
  {
   "cell_type": "markdown",
   "metadata": {
    "graffitiCellId": "id_3yok1aq"
   },
   "source": [
    "<span class=\"graffiti-highlight graffiti-id_3yok1aq-id_gktp726\"><i></i><button>Compile & Execute</button></span>&nbsp;\n",
    "<span class=\"graffiti-highlight graffiti-id_x9hxzb2-id_5fe3z4b\"><i></i><button>Explain</button></span>"
   ]
  },
  {
   "cell_type": "markdown",
   "metadata": {
    "graffitiCellId": "id_13wqor3",
    "graffitiConfig": {
     "rows": 12,
     "terminalId": "id_ngzzdtr",
     "type": "terminal"
    }
   },
   "source": [
    "<i>Loading terminal (id_13wqor3), please wait...</i>"
   ]
  }
 ],
 "metadata": {
  "graffiti": {
   "firstAuthorId": "8978490740",
   "id": "id_itcdm0e",
   "language": "EN"
  },
  "kernelspec": {
   "display_name": "C++17",
   "language": "C++17",
   "name": "xeus-cling-cpp17"
  },
  "language_info": {
   "codemirror_mode": "text/x-c++src",
   "file_extension": ".cpp",
   "mimetype": "text/x-c++src",
   "name": "c++",
   "version": "-std=c++17"
  }
 },
 "nbformat": 4,
 "nbformat_minor": 2
}
