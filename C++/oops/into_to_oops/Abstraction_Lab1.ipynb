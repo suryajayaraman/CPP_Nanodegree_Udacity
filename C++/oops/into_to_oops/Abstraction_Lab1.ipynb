{
 "cells": [
  {
   "cell_type": "code",
   "execution_count": null,
   "metadata": {
    "graffitiCellId": "id_fclxben",
    "graffitiConfig": {
     "executeCellViaGraffiti": "n2d1bdu_onrzoev"
    }
   },
   "outputs": [],
   "source": [
    "// Include iostream for printing\n",
    "// Define Abstraction class\n",
    "    // Define private attributes\n",
    "    // Define public setter and printing functions\n",
    "    \n",
    "        \n",
    "// Test in main()\n"
   ]
  },
  {
   "cell_type": "markdown",
   "metadata": {
    "graffitiCellId": "id_n2d1bdu"
   },
   "source": [
    "<span class=\"graffiti-highlight graffiti-id_n2d1bdu-id_onrzoev\"><i></i><button>Compile & Run</button></span>&nbsp;\n",
    "<span class=\"graffiti-highlight graffiti-id_9jc05xf-id_570lw1v\"><i></i><button>Explain</button></span>"
   ]
  },
  {
   "cell_type": "markdown",
   "metadata": {
    "graffitiCellId": "id_6qnraqn",
    "graffitiConfig": {
     "rows": 6,
     "terminalId": "id_6qnraqn",
     "type": "terminal"
    }
   },
   "source": [
    "<i>Loading terminal (id_6qnraqn), please wait...</i>"
   ]
  },
  {
   "cell_type": "markdown",
   "metadata": {
    "graffitiCellId": "id_vurcf8g"
   },
   "source": [
    "<span class=\"graffiti-highlight graffiti-id_vurcf8g-id_ixq0vrg\"><i></i><button>Show Solution</button></span>"
   ]
  }
 ],
 "metadata": {
  "graffiti": {
   "firstAuthorId": "8978490740",
   "id": "id_itcdm0e",
   "language": "EN"
  },
  "kernelspec": {
   "display_name": "C++17",
   "language": "C++17",
   "name": "xeus-cling-cpp17"
  },
  "language_info": {
   "codemirror_mode": "text/x-c++src",
   "file_extension": ".cpp",
   "mimetype": "text/x-c++src",
   "name": "c++",
   "version": "-std=c++17"
  }
 },
 "nbformat": 4,
 "nbformat_minor": 2
}
